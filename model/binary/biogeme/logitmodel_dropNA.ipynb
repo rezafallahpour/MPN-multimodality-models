{
 "cells": [
  {
   "cell_type": "code",
   "execution_count": 145,
   "metadata": {},
   "outputs": [],
   "source": [
    "import pandas as pd\n",
    "import biogeme.database as db\n",
    "import biogeme.biogeme as bio\n",
    "from biogeme import models\n",
    "from biogeme.expressions import Beta, Variable\n",
    "import itertools\n",
    "from biogeme.tools import format_timedelta\n",
    "import biogeme.exceptions as excep\n"
   ]
  },
  {
   "cell_type": "code",
   "execution_count": 146,
   "metadata": {},
   "outputs": [],
   "source": [
    "df = pd.read_csv('F:/more work/the netherlands/4 wave/code data/data/fianldataformodel.csv')\n"
   ]
  },
  {
   "cell_type": "code",
   "execution_count": 147,
   "metadata": {},
   "outputs": [
    {
     "data": {
      "text/plain": [
       "\"z=[]\\nfor x in list(df.columns):\\n    for y in df['%s'%x].isna():\\n        if y==True:\\n            if x not in z:\\n               z.append(x) \\nprint(z)\""
      ]
     },
     "execution_count": 147,
     "metadata": {},
     "output_type": "execute_result"
    }
   ],
   "source": [
    "'''z=[]\n",
    "for x in list(df.columns):\n",
    "    for y in df['%s'%x].isna():\n",
    "        if y==True:\n",
    "            if x not in z:\n",
    "               z.append(x) \n",
    "print(z)'''"
   ]
  },
  {
   "cell_type": "code",
   "execution_count": 148,
   "metadata": {},
   "outputs": [],
   "source": [
    "df['multimodal'].replace([0],[2],inplace=True)\n",
    "df['multi1'] = 1\n",
    "df['nmulti2'] = 1\n"
   ]
  },
  {
   "cell_type": "code",
   "execution_count": 149,
   "metadata": {},
   "outputs": [],
   "source": [
    "database = db.Database('Binary_Logit_Model', df)\n",
    "globals().update(database.variables)\n"
   ]
  },
  {
   "cell_type": "code",
   "execution_count": 150,
   "metadata": {},
   "outputs": [],
   "source": [
    "ASC_multi = Beta('ASC_multi', 0, None, None, 0)\n",
    "ASC_nmulti = Beta('ASC_nmulti', 0, None, None, 1)\n",
    "KAFSTV_m = Beta('KAFSTV_m', 0, None, None, 0)\n",
    "DAGSOORT_m = Beta('DAGSOORT_m', 0, None, None, 0)\n",
    "AFSTV_m = Beta('AFSTV_m', 0, None, None, 0)\n",
    "REISDUUR_m = Beta('REISDUUR_m', 0, None, None, 0)\n",
    "GESLACHT_m = Beta('GESLACHT_m', 0, None, None, 0)\n",
    "Mode_Car_m = Beta('Mode_Car_m', 0, None, None, 0)\n",
    "Mode_PT_m = Beta('Mode_PT_m', 0, None, None, 0)\n",
    "\n",
    "\n"
   ]
  },
  {
   "cell_type": "code",
   "execution_count": 151,
   "metadata": {},
   "outputs": [],
   "source": [
    "V1 = ASC_multi + REISDUUR_m*REISDUUR + DAGSOORT_m*DAGSOORT + KAFSTV_m*KAFSTV + Mode_Car_m*Mode_Car + Mode_PT_m*Mode_PT\n",
    "V2 = ASC_nmulti"
   ]
  },
  {
   "cell_type": "code",
   "execution_count": 152,
   "metadata": {},
   "outputs": [],
   "source": [
    "V = {1: V1, 2: V2}\n",
    "av = {1: multi1, 2: nmulti2}\n",
    "logprob = models.loglogit(V, av, multimodal)\n"
   ]
  },
  {
   "cell_type": "code",
   "execution_count": 153,
   "metadata": {},
   "outputs": [],
   "source": [
    "biogemee = bio.BIOGEME(database, logprob)\n",
    "biogemee.modelName = 'logit17'\n"
   ]
  },
  {
   "cell_type": "code",
   "execution_count": 154,
   "metadata": {},
   "outputs": [
    {
     "data": {
      "text/plain": [
       "'from biogeme.results import bioResults\\nfrom biogeme.version import getVersion\\n'"
      ]
     },
     "execution_count": 154,
     "metadata": {},
     "output_type": "execute_result"
    }
   ],
   "source": [
    "'''from biogeme.results import bioResults\n",
    "from biogeme.version import getVersion\n",
    "'''\n"
   ]
  },
  {
   "cell_type": "code",
   "execution_count": 155,
   "metadata": {},
   "outputs": [],
   "source": [
    "results = biogemee.estimate()\n",
    "\n"
   ]
  },
  {
   "cell_type": "code",
   "execution_count": 156,
   "metadata": {},
   "outputs": [
    {
     "name": "stdout",
     "output_type": "stream",
     "text": [
      "               Value   Std err     t-test       p-value  Rob. Std err  \\\n",
      "ASC_multi  -6.108982  0.091050 -67.094610  0.000000e+00      0.105655   \n",
      "DAGSOORT_m -0.721526  0.052870 -13.647147  0.000000e+00      0.054456   \n",
      "KAFSTV_m    0.349301  0.008191  42.646215  0.000000e+00      0.013370   \n",
      "Mode_Car_m -0.232046  0.042454  -5.465856  4.606783e-08      0.049782   \n",
      "Mode_PT_m   3.067310  0.036818  83.310900  0.000000e+00      0.061028   \n",
      "REISDUUR_m  0.004394  0.000618   7.113238  1.133538e-12      0.001396   \n",
      "\n",
      "            Rob. t-test  Rob. p-value  \n",
      "ASC_multi    -57.820147      0.000000  \n",
      "DAGSOORT_m   -13.249753      0.000000  \n",
      "KAFSTV_m      26.125380      0.000000  \n",
      "Mode_Car_m    -4.661266      0.000003  \n",
      "Mode_PT_m     50.260610      0.000000  \n",
      "REISDUUR_m     3.147371      0.001647  \n"
     ]
    }
   ],
   "source": [
    "print(results.getEstimatedParameters(onlyRobust=False))"
   ]
  }
 ],
 "metadata": {
  "kernelspec": {
   "display_name": "Python 3.10.9 64-bit",
   "language": "python",
   "name": "python3"
  },
  "language_info": {
   "codemirror_mode": {
    "name": "ipython",
    "version": 3
   },
   "file_extension": ".py",
   "mimetype": "text/x-python",
   "name": "python",
   "nbconvert_exporter": "python",
   "pygments_lexer": "ipython3",
   "version": "3.10.9"
  },
  "orig_nbformat": 4,
  "vscode": {
   "interpreter": {
    "hash": "2b324498af64d22b4773901be112d66dec816013b7f64fed368c8550f7daba2d"
   }
  }
 },
 "nbformat": 4,
 "nbformat_minor": 2
}
