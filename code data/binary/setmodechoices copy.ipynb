{
 "cells": [
  {
   "cell_type": "code",
   "execution_count": 87,
   "metadata": {},
   "outputs": [],
   "source": [
    "import pandas as pd\n",
    "import numpy as np"
   ]
  },
  {
   "cell_type": "code",
   "execution_count": 88,
   "metadata": {},
   "outputs": [],
   "source": [
    "H1 = pd.read_csv('F:/more work/the netherlands/4 wave/wave8/nnnnnn.csv')"
   ]
  },
  {
   "cell_type": "code",
   "execution_count": 89,
   "metadata": {},
   "outputs": [],
   "source": [
    "H1[\"Mode_PT\"] = H1[\"Mode__Bus/tram/metro_y\"] + H1[\"Mode__Train_y\"]\n",
    "H1[\"Mode_Bicycle\"] = H1[\"Mode__Bicycle_y\"] + H1[\"Mode__Scooter/moped_y\"]\n"
   ]
  },
  {
   "cell_type": "code",
   "execution_count": 90,
   "metadata": {},
   "outputs": [],
   "source": [
    "H1.drop([\"Mode__Bus/tram/metro_y\" , \"Mode__Train_y\" , \"Mode__Bicycle_y\" , \"Mode__Scooter/moped_y\"], axis=1,inplace=True)"
   ]
  },
  {
   "cell_type": "code",
   "execution_count": 91,
   "metadata": {},
   "outputs": [],
   "source": [
    "H1 = H1.rename(columns={\"Mode__Car as driver_y\":\"Mode_Car\",\"Mode__Other_y\":\"Mode__Other\"})"
   ]
  },
  {
   "cell_type": "code",
   "execution_count": 92,
   "metadata": {},
   "outputs": [
    {
     "data": {
      "text/html": [
       "<div>\n",
       "<style scoped>\n",
       "    .dataframe tbody tr th:only-of-type {\n",
       "        vertical-align: middle;\n",
       "    }\n",
       "\n",
       "    .dataframe tbody tr th {\n",
       "        vertical-align: top;\n",
       "    }\n",
       "\n",
       "    .dataframe thead th {\n",
       "        text-align: right;\n",
       "    }\n",
       "</style>\n",
       "<table border=\"1\" class=\"dataframe\">\n",
       "  <thead>\n",
       "    <tr style=\"text-align: right;\">\n",
       "      <th></th>\n",
       "      <th>VPLID</th>\n",
       "      <th>AANTRIT</th>\n",
       "      <th>KRVM_x</th>\n",
       "      <th>multimodal</th>\n",
       "      <th>KRVM_y</th>\n",
       "      <th>KRVM_F</th>\n",
       "      <th>Mode_Car</th>\n",
       "      <th>Mode__Other</th>\n",
       "      <th>Mode_PT</th>\n",
       "      <th>Mode_Bicycle</th>\n",
       "    </tr>\n",
       "  </thead>\n",
       "  <tbody>\n",
       "    <tr>\n",
       "      <th>0</th>\n",
       "      <td>72072102</td>\n",
       "      <td>1</td>\n",
       "      <td>Bicycle</td>\n",
       "      <td>0</td>\n",
       "      <td>10000000000</td>\n",
       "      <td>0</td>\n",
       "      <td>0</td>\n",
       "      <td>0</td>\n",
       "      <td>0</td>\n",
       "      <td>1</td>\n",
       "    </tr>\n",
       "    <tr>\n",
       "      <th>1</th>\n",
       "      <td>72072103</td>\n",
       "      <td>1</td>\n",
       "      <td>Bicycle</td>\n",
       "      <td>0</td>\n",
       "      <td>10000000000</td>\n",
       "      <td>0</td>\n",
       "      <td>0</td>\n",
       "      <td>0</td>\n",
       "      <td>0</td>\n",
       "      <td>1</td>\n",
       "    </tr>\n",
       "    <tr>\n",
       "      <th>2</th>\n",
       "      <td>72072104</td>\n",
       "      <td>1</td>\n",
       "      <td>Bicycle</td>\n",
       "      <td>0</td>\n",
       "      <td>10000000000</td>\n",
       "      <td>0</td>\n",
       "      <td>0</td>\n",
       "      <td>0</td>\n",
       "      <td>0</td>\n",
       "      <td>1</td>\n",
       "    </tr>\n",
       "    <tr>\n",
       "      <th>3</th>\n",
       "      <td>72072105</td>\n",
       "      <td>1</td>\n",
       "      <td>Bicycle</td>\n",
       "      <td>0</td>\n",
       "      <td>10000000000</td>\n",
       "      <td>0</td>\n",
       "      <td>0</td>\n",
       "      <td>0</td>\n",
       "      <td>0</td>\n",
       "      <td>1</td>\n",
       "    </tr>\n",
       "    <tr>\n",
       "      <th>4</th>\n",
       "      <td>72072201</td>\n",
       "      <td>1</td>\n",
       "      <td>Bicycle</td>\n",
       "      <td>0</td>\n",
       "      <td>10000000000</td>\n",
       "      <td>0</td>\n",
       "      <td>0</td>\n",
       "      <td>0</td>\n",
       "      <td>0</td>\n",
       "      <td>1</td>\n",
       "    </tr>\n",
       "    <tr>\n",
       "      <th>...</th>\n",
       "      <td>...</td>\n",
       "      <td>...</td>\n",
       "      <td>...</td>\n",
       "      <td>...</td>\n",
       "      <td>...</td>\n",
       "      <td>...</td>\n",
       "      <td>...</td>\n",
       "      <td>...</td>\n",
       "      <td>...</td>\n",
       "      <td>...</td>\n",
       "    </tr>\n",
       "    <tr>\n",
       "      <th>27200</th>\n",
       "      <td>78630102</td>\n",
       "      <td>1</td>\n",
       "      <td>Bicycle</td>\n",
       "      <td>0</td>\n",
       "      <td>10000000000</td>\n",
       "      <td>0</td>\n",
       "      <td>0</td>\n",
       "      <td>0</td>\n",
       "      <td>0</td>\n",
       "      <td>1</td>\n",
       "    </tr>\n",
       "    <tr>\n",
       "      <th>27201</th>\n",
       "      <td>78630201</td>\n",
       "      <td>1</td>\n",
       "      <td>Bicycle</td>\n",
       "      <td>0</td>\n",
       "      <td>10000000000</td>\n",
       "      <td>0</td>\n",
       "      <td>0</td>\n",
       "      <td>0</td>\n",
       "      <td>0</td>\n",
       "      <td>1</td>\n",
       "    </tr>\n",
       "    <tr>\n",
       "      <th>27202</th>\n",
       "      <td>78630202</td>\n",
       "      <td>1</td>\n",
       "      <td>Bicycle</td>\n",
       "      <td>0</td>\n",
       "      <td>10000000000</td>\n",
       "      <td>0</td>\n",
       "      <td>0</td>\n",
       "      <td>0</td>\n",
       "      <td>0</td>\n",
       "      <td>1</td>\n",
       "    </tr>\n",
       "    <tr>\n",
       "      <th>27203</th>\n",
       "      <td>78630301</td>\n",
       "      <td>1</td>\n",
       "      <td>Bicycle</td>\n",
       "      <td>0</td>\n",
       "      <td>10000000000</td>\n",
       "      <td>0</td>\n",
       "      <td>0</td>\n",
       "      <td>0</td>\n",
       "      <td>0</td>\n",
       "      <td>1</td>\n",
       "    </tr>\n",
       "    <tr>\n",
       "      <th>27204</th>\n",
       "      <td>78630302</td>\n",
       "      <td>1</td>\n",
       "      <td>Bicycle</td>\n",
       "      <td>0</td>\n",
       "      <td>10000000000</td>\n",
       "      <td>0</td>\n",
       "      <td>0</td>\n",
       "      <td>0</td>\n",
       "      <td>0</td>\n",
       "      <td>1</td>\n",
       "    </tr>\n",
       "  </tbody>\n",
       "</table>\n",
       "<p>27205 rows × 10 columns</p>\n",
       "</div>"
      ],
      "text/plain": [
       "          VPLID  AANTRIT   KRVM_x  multimodal       KRVM_y  KRVM_F  Mode_Car  \\\n",
       "0      72072102        1  Bicycle           0  10000000000       0         0   \n",
       "1      72072103        1  Bicycle           0  10000000000       0         0   \n",
       "2      72072104        1  Bicycle           0  10000000000       0         0   \n",
       "3      72072105        1  Bicycle           0  10000000000       0         0   \n",
       "4      72072201        1  Bicycle           0  10000000000       0         0   \n",
       "...         ...      ...      ...         ...          ...     ...       ...   \n",
       "27200  78630102        1  Bicycle           0  10000000000       0         0   \n",
       "27201  78630201        1  Bicycle           0  10000000000       0         0   \n",
       "27202  78630202        1  Bicycle           0  10000000000       0         0   \n",
       "27203  78630301        1  Bicycle           0  10000000000       0         0   \n",
       "27204  78630302        1  Bicycle           0  10000000000       0         0   \n",
       "\n",
       "       Mode__Other  Mode_PT  Mode_Bicycle  \n",
       "0                0        0             1  \n",
       "1                0        0             1  \n",
       "2                0        0             1  \n",
       "3                0        0             1  \n",
       "4                0        0             1  \n",
       "...            ...      ...           ...  \n",
       "27200            0        0             1  \n",
       "27201            0        0             1  \n",
       "27202            0        0             1  \n",
       "27203            0        0             1  \n",
       "27204            0        0             1  \n",
       "\n",
       "[27205 rows x 10 columns]"
      ]
     },
     "execution_count": 92,
     "metadata": {},
     "output_type": "execute_result"
    }
   ],
   "source": [
    "H1"
   ]
  },
  {
   "cell_type": "code",
   "execution_count": 93,
   "metadata": {},
   "outputs": [],
   "source": [
    "H1[\"Mode_Choices1\"]=0\n",
    "H1[\"Mode_Choices2\"]=0\n",
    "H1[\"Mode_Choices3\"]=0\n",
    "H1[\"Mode_Choices4\"]=0\n",
    "H1[\"Mode_Choices5\"]=0"
   ]
  },
  {
   "cell_type": "code",
   "execution_count": 94,
   "metadata": {},
   "outputs": [],
   "source": [
    "# choice 1\n",
    "for i in range(len(H1)):\n",
    "    if H1.loc[i,\"multimodal\"] == 1:\n",
    "        if ((H1.loc[i,\"Mode_Car\"]>0) and (H1.loc[i,\"Mode_Bicycle\"]==0) and (H1.loc[i,\"Mode_PT\"]>0)) :\n",
    "            H1.loc[i,\"Mode_Choices1\"]=1\n",
    "        "
   ]
  },
  {
   "cell_type": "code",
   "execution_count": 95,
   "metadata": {},
   "outputs": [
    {
     "data": {
      "text/html": [
       "<div>\n",
       "<style scoped>\n",
       "    .dataframe tbody tr th:only-of-type {\n",
       "        vertical-align: middle;\n",
       "    }\n",
       "\n",
       "    .dataframe tbody tr th {\n",
       "        vertical-align: top;\n",
       "    }\n",
       "\n",
       "    .dataframe thead th {\n",
       "        text-align: right;\n",
       "    }\n",
       "</style>\n",
       "<table border=\"1\" class=\"dataframe\">\n",
       "  <thead>\n",
       "    <tr style=\"text-align: right;\">\n",
       "      <th></th>\n",
       "      <th>VPLID</th>\n",
       "      <th>AANTRIT</th>\n",
       "      <th>KRVM_x</th>\n",
       "      <th>multimodal</th>\n",
       "      <th>KRVM_y</th>\n",
       "      <th>KRVM_F</th>\n",
       "      <th>Mode_Car</th>\n",
       "      <th>Mode__Other</th>\n",
       "      <th>Mode_PT</th>\n",
       "      <th>Mode_Bicycle</th>\n",
       "      <th>Mode_Choices1</th>\n",
       "      <th>Mode_Choices2</th>\n",
       "      <th>Mode_Choices3</th>\n",
       "      <th>Mode_Choices4</th>\n",
       "      <th>Mode_Choices5</th>\n",
       "    </tr>\n",
       "  </thead>\n",
       "  <tbody>\n",
       "    <tr>\n",
       "      <th>189</th>\n",
       "      <td>72112101</td>\n",
       "      <td>2</td>\n",
       "      <td>Car as driver</td>\n",
       "      <td>1</td>\n",
       "      <td>10001</td>\n",
       "      <td>10001</td>\n",
       "      <td>1</td>\n",
       "      <td>0</td>\n",
       "      <td>1</td>\n",
       "      <td>0</td>\n",
       "      <td>1</td>\n",
       "      <td>0</td>\n",
       "      <td>0</td>\n",
       "      <td>0</td>\n",
       "      <td>0</td>\n",
       "    </tr>\n",
       "    <tr>\n",
       "      <th>190</th>\n",
       "      <td>72112101</td>\n",
       "      <td>2</td>\n",
       "      <td>Train</td>\n",
       "      <td>1</td>\n",
       "      <td>10001</td>\n",
       "      <td>10001</td>\n",
       "      <td>1</td>\n",
       "      <td>0</td>\n",
       "      <td>1</td>\n",
       "      <td>0</td>\n",
       "      <td>1</td>\n",
       "      <td>0</td>\n",
       "      <td>0</td>\n",
       "      <td>0</td>\n",
       "      <td>0</td>\n",
       "    </tr>\n",
       "    <tr>\n",
       "      <th>191</th>\n",
       "      <td>72112104</td>\n",
       "      <td>2</td>\n",
       "      <td>Car as driver</td>\n",
       "      <td>1</td>\n",
       "      <td>10001</td>\n",
       "      <td>10001</td>\n",
       "      <td>1</td>\n",
       "      <td>0</td>\n",
       "      <td>1</td>\n",
       "      <td>0</td>\n",
       "      <td>1</td>\n",
       "      <td>0</td>\n",
       "      <td>0</td>\n",
       "      <td>0</td>\n",
       "      <td>0</td>\n",
       "    </tr>\n",
       "    <tr>\n",
       "      <th>192</th>\n",
       "      <td>72112104</td>\n",
       "      <td>2</td>\n",
       "      <td>Train</td>\n",
       "      <td>1</td>\n",
       "      <td>10001</td>\n",
       "      <td>10001</td>\n",
       "      <td>1</td>\n",
       "      <td>0</td>\n",
       "      <td>1</td>\n",
       "      <td>0</td>\n",
       "      <td>1</td>\n",
       "      <td>0</td>\n",
       "      <td>0</td>\n",
       "      <td>0</td>\n",
       "      <td>0</td>\n",
       "    </tr>\n",
       "    <tr>\n",
       "      <th>1327</th>\n",
       "      <td>72407201</td>\n",
       "      <td>3</td>\n",
       "      <td>Bus/tram/metro</td>\n",
       "      <td>1</td>\n",
       "      <td>1010001</td>\n",
       "      <td>1010001</td>\n",
       "      <td>1</td>\n",
       "      <td>0</td>\n",
       "      <td>2</td>\n",
       "      <td>0</td>\n",
       "      <td>1</td>\n",
       "      <td>0</td>\n",
       "      <td>0</td>\n",
       "      <td>0</td>\n",
       "      <td>0</td>\n",
       "    </tr>\n",
       "    <tr>\n",
       "      <th>...</th>\n",
       "      <td>...</td>\n",
       "      <td>...</td>\n",
       "      <td>...</td>\n",
       "      <td>...</td>\n",
       "      <td>...</td>\n",
       "      <td>...</td>\n",
       "      <td>...</td>\n",
       "      <td>...</td>\n",
       "      <td>...</td>\n",
       "      <td>...</td>\n",
       "      <td>...</td>\n",
       "      <td>...</td>\n",
       "      <td>...</td>\n",
       "      <td>...</td>\n",
       "      <td>...</td>\n",
       "    </tr>\n",
       "    <tr>\n",
       "      <th>25204</th>\n",
       "      <td>77985101</td>\n",
       "      <td>2</td>\n",
       "      <td>Car as driver</td>\n",
       "      <td>1</td>\n",
       "      <td>10001</td>\n",
       "      <td>10001</td>\n",
       "      <td>1</td>\n",
       "      <td>0</td>\n",
       "      <td>1</td>\n",
       "      <td>0</td>\n",
       "      <td>1</td>\n",
       "      <td>0</td>\n",
       "      <td>0</td>\n",
       "      <td>0</td>\n",
       "      <td>0</td>\n",
       "    </tr>\n",
       "    <tr>\n",
       "      <th>26387</th>\n",
       "      <td>78343101</td>\n",
       "      <td>2</td>\n",
       "      <td>Train</td>\n",
       "      <td>1</td>\n",
       "      <td>10001</td>\n",
       "      <td>10001</td>\n",
       "      <td>1</td>\n",
       "      <td>0</td>\n",
       "      <td>1</td>\n",
       "      <td>0</td>\n",
       "      <td>1</td>\n",
       "      <td>0</td>\n",
       "      <td>0</td>\n",
       "      <td>0</td>\n",
       "      <td>0</td>\n",
       "    </tr>\n",
       "    <tr>\n",
       "      <th>26388</th>\n",
       "      <td>78343101</td>\n",
       "      <td>2</td>\n",
       "      <td>Car as driver</td>\n",
       "      <td>1</td>\n",
       "      <td>10001</td>\n",
       "      <td>10001</td>\n",
       "      <td>1</td>\n",
       "      <td>0</td>\n",
       "      <td>1</td>\n",
       "      <td>0</td>\n",
       "      <td>1</td>\n",
       "      <td>0</td>\n",
       "      <td>0</td>\n",
       "      <td>0</td>\n",
       "      <td>0</td>\n",
       "    </tr>\n",
       "    <tr>\n",
       "      <th>26389</th>\n",
       "      <td>78343102</td>\n",
       "      <td>2</td>\n",
       "      <td>Car as driver</td>\n",
       "      <td>1</td>\n",
       "      <td>10001</td>\n",
       "      <td>10001</td>\n",
       "      <td>1</td>\n",
       "      <td>0</td>\n",
       "      <td>1</td>\n",
       "      <td>0</td>\n",
       "      <td>1</td>\n",
       "      <td>0</td>\n",
       "      <td>0</td>\n",
       "      <td>0</td>\n",
       "      <td>0</td>\n",
       "    </tr>\n",
       "    <tr>\n",
       "      <th>26390</th>\n",
       "      <td>78343102</td>\n",
       "      <td>2</td>\n",
       "      <td>Train</td>\n",
       "      <td>1</td>\n",
       "      <td>10001</td>\n",
       "      <td>10001</td>\n",
       "      <td>1</td>\n",
       "      <td>0</td>\n",
       "      <td>1</td>\n",
       "      <td>0</td>\n",
       "      <td>1</td>\n",
       "      <td>0</td>\n",
       "      <td>0</td>\n",
       "      <td>0</td>\n",
       "      <td>0</td>\n",
       "    </tr>\n",
       "  </tbody>\n",
       "</table>\n",
       "<p>128 rows × 15 columns</p>\n",
       "</div>"
      ],
      "text/plain": [
       "          VPLID  AANTRIT          KRVM_x  multimodal   KRVM_y   KRVM_F  \\\n",
       "189    72112101        2   Car as driver           1    10001    10001   \n",
       "190    72112101        2           Train           1    10001    10001   \n",
       "191    72112104        2   Car as driver           1    10001    10001   \n",
       "192    72112104        2           Train           1    10001    10001   \n",
       "1327   72407201        3  Bus/tram/metro           1  1010001  1010001   \n",
       "...         ...      ...             ...         ...      ...      ...   \n",
       "25204  77985101        2   Car as driver           1    10001    10001   \n",
       "26387  78343101        2           Train           1    10001    10001   \n",
       "26388  78343101        2   Car as driver           1    10001    10001   \n",
       "26389  78343102        2   Car as driver           1    10001    10001   \n",
       "26390  78343102        2           Train           1    10001    10001   \n",
       "\n",
       "       Mode_Car  Mode__Other  Mode_PT  Mode_Bicycle  Mode_Choices1  \\\n",
       "189           1            0        1             0              1   \n",
       "190           1            0        1             0              1   \n",
       "191           1            0        1             0              1   \n",
       "192           1            0        1             0              1   \n",
       "1327          1            0        2             0              1   \n",
       "...         ...          ...      ...           ...            ...   \n",
       "25204         1            0        1             0              1   \n",
       "26387         1            0        1             0              1   \n",
       "26388         1            0        1             0              1   \n",
       "26389         1            0        1             0              1   \n",
       "26390         1            0        1             0              1   \n",
       "\n",
       "       Mode_Choices2  Mode_Choices3  Mode_Choices4  Mode_Choices5  \n",
       "189                0              0              0              0  \n",
       "190                0              0              0              0  \n",
       "191                0              0              0              0  \n",
       "192                0              0              0              0  \n",
       "1327               0              0              0              0  \n",
       "...              ...            ...            ...            ...  \n",
       "25204              0              0              0              0  \n",
       "26387              0              0              0              0  \n",
       "26388              0              0              0              0  \n",
       "26389              0              0              0              0  \n",
       "26390              0              0              0              0  \n",
       "\n",
       "[128 rows x 15 columns]"
      ]
     },
     "execution_count": 95,
     "metadata": {},
     "output_type": "execute_result"
    }
   ],
   "source": [
    "H1[H1[\"Mode_Choices1\"]==1]"
   ]
  },
  {
   "cell_type": "code",
   "execution_count": 96,
   "metadata": {},
   "outputs": [
    {
     "data": {
      "text/plain": [
       "0    27077\n",
       "1      128\n",
       "Name: Mode_Choices1, dtype: int64"
      ]
     },
     "execution_count": 96,
     "metadata": {},
     "output_type": "execute_result"
    }
   ],
   "source": [
    "H1[\"Mode_Choices1\"].value_counts(dropna=False)"
   ]
  },
  {
   "cell_type": "code",
   "execution_count": 97,
   "metadata": {},
   "outputs": [],
   "source": [
    "# choice 2\n",
    "for i in range(len(H1)):\n",
    "    if H1.loc[i,\"multimodal\"] == 1:\n",
    "        if ((H1.loc[i,\"Mode_Bicycle\"]>0) and (H1.loc[i,\"Mode_PT\"]==1) and (H1.loc[i,\"Mode_Car\"]==0)) :\n",
    "            H1.loc[i,\"Mode_Choices2\"]=1"
   ]
  },
  {
   "cell_type": "code",
   "execution_count": 98,
   "metadata": {},
   "outputs": [
    {
     "data": {
      "text/plain": [
       "0    26895\n",
       "1      310\n",
       "Name: Mode_Choices2, dtype: int64"
      ]
     },
     "execution_count": 98,
     "metadata": {},
     "output_type": "execute_result"
    }
   ],
   "source": [
    "H1[\"Mode_Choices2\"].value_counts(dropna=False)"
   ]
  },
  {
   "cell_type": "code",
   "execution_count": 99,
   "metadata": {},
   "outputs": [],
   "source": [
    "# choice 3\n",
    "for i in range(len(H1)):\n",
    "    if H1.loc[i,\"multimodal\"] == 1:\n",
    "        if ((H1.loc[i,\"Mode_Bicycle\"]>0) and (H1.loc[i,\"Mode_PT\"]>1) and (H1.loc[i,'Mode_Car']==0)):\n",
    "            H1.loc[i,\"Mode_Choices3\"]=1"
   ]
  },
  {
   "cell_type": "code",
   "execution_count": 100,
   "metadata": {},
   "outputs": [
    {
     "data": {
      "text/plain": [
       "0    26989\n",
       "1      216\n",
       "Name: Mode_Choices3, dtype: int64"
      ]
     },
     "execution_count": 100,
     "metadata": {},
     "output_type": "execute_result"
    }
   ],
   "source": [
    "H1[\"Mode_Choices3\"].value_counts(dropna=False)"
   ]
  },
  {
   "cell_type": "code",
   "execution_count": 101,
   "metadata": {},
   "outputs": [],
   "source": [
    "# choice 4\n",
    "for i in range(len(H1)):\n",
    "    if H1.loc[i,\"multimodal\"] == 1:\n",
    "        if ((H1.loc[i,\"Mode_Bicycle\"]==0) and (H1.loc[i,\"Mode_PT\"]>1) and (H1.loc[i,\"Mode__Other\"]==0) and (H1.loc[i,\"Mode_Car\"]==0)):\n",
    "            H1.loc[i,\"Mode_Choices4\"]=1"
   ]
  },
  {
   "cell_type": "code",
   "execution_count": 102,
   "metadata": {},
   "outputs": [
    {
     "data": {
      "text/plain": [
       "0    27035\n",
       "1      170\n",
       "Name: Mode_Choices4, dtype: int64"
      ]
     },
     "execution_count": 102,
     "metadata": {},
     "output_type": "execute_result"
    }
   ],
   "source": [
    "H1[\"Mode_Choices4\"].value_counts(dropna=False)"
   ]
  },
  {
   "cell_type": "code",
   "execution_count": 103,
   "metadata": {},
   "outputs": [],
   "source": [
    "# choice 5\n",
    "for i in range(len(H1)):\n",
    "    if H1.loc[i,\"multimodal\"] == 1:\n",
    "        if ((H1.loc[i,\"Mode_Choices1\"]==0) and (H1.loc[i,\"Mode_Choices2\"]==0) and (H1.loc[i,\"Mode_Choices3\"]==0) and (H1.loc[i,\"Mode_Choices4\"]==0)):\n",
    "            H1.loc[i,\"Mode_Choices5\"]=1"
   ]
  },
  {
   "cell_type": "code",
   "execution_count": 104,
   "metadata": {},
   "outputs": [
    {
     "data": {
      "text/plain": [
       "0    27059\n",
       "1      146\n",
       "Name: Mode_Choices5, dtype: int64"
      ]
     },
     "execution_count": 104,
     "metadata": {},
     "output_type": "execute_result"
    }
   ],
   "source": [
    "H1[\"Mode_Choices5\"].value_counts(dropna=False)"
   ]
  },
  {
   "cell_type": "code",
   "execution_count": 105,
   "metadata": {},
   "outputs": [
    {
     "data": {
      "text/plain": [
       "0    26235\n",
       "1      970\n",
       "Name: multimodal, dtype: int64"
      ]
     },
     "execution_count": 105,
     "metadata": {},
     "output_type": "execute_result"
    }
   ],
   "source": [
    "H1[\"multimodal\"].value_counts(dropna=False)"
   ]
  },
  {
   "cell_type": "code",
   "execution_count": 106,
   "metadata": {},
   "outputs": [],
   "source": [
    "H2 = H1[H1[\"Mode__Other\"]==1]"
   ]
  },
  {
   "cell_type": "code",
   "execution_count": 107,
   "metadata": {},
   "outputs": [
    {
     "data": {
      "text/plain": [
       "0    96.510229\n",
       "2     2.527076\n",
       "1     0.962696\n",
       "Name: Mode_Car, dtype: float64"
      ]
     },
     "execution_count": 107,
     "metadata": {},
     "output_type": "execute_result"
    }
   ],
   "source": [
    "H2[\"Mode_Car\"].value_counts(normalize=True)*100"
   ]
  },
  {
   "cell_type": "code",
   "execution_count": 108,
   "metadata": {},
   "outputs": [],
   "source": [
    "H1.to_csv('F:/more work/the netherlands/4 wave/wave8/newchoices.csv',index=False)"
   ]
  }
 ],
 "metadata": {
  "kernelspec": {
   "display_name": "Python 3",
   "language": "python",
   "name": "python3"
  },
  "language_info": {
   "codemirror_mode": {
    "name": "ipython",
    "version": 3
   },
   "file_extension": ".py",
   "mimetype": "text/x-python",
   "name": "python",
   "nbconvert_exporter": "python",
   "pygments_lexer": "ipython3",
   "version": "3.10.9"
  }
 },
 "nbformat": 4,
 "nbformat_minor": 2
}
