{
 "cells": [
  {
   "cell_type": "code",
   "execution_count": 106,
   "metadata": {},
   "outputs": [],
   "source": [
    "import pandas as pd\n",
    "MPNWAVE8_Pdata = pd.read_csv('F:/more work/the netherlands/4 wave/wave5/MPNWAVE5_Pdata_en.csv')\n",
    "MPNWAVE8_Pdata = MPNWAVE8_Pdata[MPNWAVE8_Pdata['P_VALID']=='person completed the questionnaire and completed the diary']"
   ]
  },
  {
   "cell_type": "code",
   "execution_count": 107,
   "metadata": {},
   "outputs": [],
   "source": [
    "df = pd.DataFrame()\n",
    "column = ['PERSID','P_VALID','GESLACHT', 'OPLEIDING', 'WERKZAAM', 'VVM_WERK_w5', 'RIJBEWIJS', 'PAUTO', 'PBROM', 'PFIETS', 'PEBIKE', 'TYPE_OVKAART3','TYPE_OVKAART5','KLEEFT2' ]\n"
   ]
  },
  {
   "cell_type": "code",
   "execution_count": 108,
   "metadata": {},
   "outputs": [],
   "source": [
    "df[column] = MPNWAVE8_Pdata[column]"
   ]
  },
  {
   "cell_type": "code",
   "execution_count": 109,
   "metadata": {},
   "outputs": [],
   "source": [
    "df['GESLACHT'].replace(['Man' , 'Woman'] , [1,0],inplace=True)\n",
    "\n",
    "\n",
    "df['OPLEIDING'].replace(['no education/ primary education' ,'primary education' , 'no education', 'LBO \\ VBO \\ VMBO (vocational educational programs)' , \"MAVO\\\\1st 3 years HAVO-VWO\\VMBO (junior years high school education)\" , 'MBO' , 'HAVO and VWO senior high school year(s) \\ university propaedeutic diploma' , \"HBO\\WO (Bachelor's degree)\" , \"HBO / WO master's or doctoral degree\" , \"Don't know \\ won't say\" , 'No data known, no imputation from 2018 possible'] , [1,1,1,3,4,5,6,7,8,0,0] , inplace=True)\n",
    "\n",
    "new = pd.get_dummies(df['OPLEIDING'],prefix='OPLEIDING')\n",
    "df = df.join(new)\n",
    "df.drop('OPLEIDING_0', axis=1,inplace=True)\n",
    "\n",
    "\n",
    "df['WERKZAAM'].replace(['not working' , 'active' , 'whether or not employed unknown'] , [0,1,0] , inplace=True)\n",
    "\n",
    "\n",
    "df['VVM_WERK_w5'].replace(['car (as driver)' , 'car (as passenger)' , 'Motorcycle' , 'Train' , 'bus / tram / metro' , 'moped, scooter (max. 25 km \\ h, helmet not required)' , 'moped, scooter (max. 45 km \\ h, helmet required)' , 'bike' , 'Electric bike (e-bike) (max. 25 km \\ h, helmet not required)' , 'Speed ??pedelec (max. 45 km \\ h, helmet required)' , 'Walking' , 'Mobility scooter \\ Canta \\ wheelchair' , 'Other' , 'Not applicable' , 'not asked, person is unemployed' , 'person did not complete the questionnaire', 'remaining'] , [1,2,3,4,5,6,7,8,9,10,11,12,0,0,0,0,0] , inplace=True)\n",
    "\n",
    "\n",
    "df['RIJBEWIJS'].replace([\"Person has a driver's license\" , \"Person does not have a driver's license\" , \"Unknown\" , 'Not asked, person younger than 12 years old'] , [1,0,0,0],inplace=True)\n",
    "\n",
    "\n",
    "df['PAUTO'].replace(['No' , 'Yes' , 'Person does not own any vehicle'] , [0,1,0] , inplace=True)\n",
    "\n",
    "\n",
    "df['PBROM'].replace(['No' , 'Yes' , 'Person does not own any vehicle'] , [0,1,0] , inplace=True)\n",
    "\n",
    "\n",
    "df['PFIETS'].replace(['No' , 'Yes' , 'Person does not own any vehicle'] , [0,1,0] , inplace=True)\n",
    "\n",
    "\n",
    "df['PEBIKE'].replace(['No' , 'Yes' , 'Person does not own any vehicle'] , [0,1,0] , inplace=True)\n",
    "\n",
    "\n",
    "df['TYPE_OVKAART3'].replace(['No' , 'Yes' , 'person does not have a personal OV chip card'] , [0,1,0] , inplace=True)\n",
    "\n",
    "\n",
    "df['TYPE_OVKAART5'].replace(['No' , 'Yes' , 'person does not have a personal OV chip card'] , [0,1,0] , inplace=True)\n",
    "\n",
    "\n",
    "df['KLEEFT2'].replace(['<12 years old' , '12-17 years old' , '18-24 years old' , '25-29 years old' , '30-39 years old' , '40-49 years old' , '50-59 years old' , '60-69 years old' , '70-79 years old' , '80 years old and older'] , [1,2,3,4,5,6,7,8,9,10] , inplace=True)\n",
    "\n",
    "new = pd.get_dummies(df['KLEEFT2'],prefix='KLEEFT2')\n",
    "df = df.join(new)"
   ]
  },
  {
   "cell_type": "code",
   "execution_count": 110,
   "metadata": {},
   "outputs": [
    {
     "name": "stdout",
     "output_type": "stream",
     "text": [
      "Unique values in column 'PERSID': [3.0000500e+09 3.0000507e+09 3.0000715e+09 ... 3.4516302e+09 3.4516313e+09\n",
      " 3.4516313e+09]\n",
      "Unique values in column 'P_VALID': ['person completed the questionnaire and completed the diary']\n",
      "Unique values in column 'GESLACHT': [0 1]\n",
      "Unique values in column 'OPLEIDING': [5 7 6 1 4 8 3 0]\n",
      "Unique values in column 'WERKZAAM': [1 0]\n",
      "Unique values in column 'VVM_WERK_w5': [ 7.  1.  0.  3.  4. 10. 11.  5.  2. nan  8. 12.  9.]\n",
      "Unique values in column 'RIJBEWIJS': [1 0]\n",
      "Unique values in column 'PAUTO': [0 1]\n",
      "Unique values in column 'PBROM': [0 1]\n",
      "Unique values in column 'PFIETS': [1 0]\n",
      "Unique values in column 'PEBIKE': [0 1]\n",
      "Unique values in column 'TYPE_OVKAART3': [0 1]\n",
      "Unique values in column 'TYPE_OVKAART5': [0 1]\n",
      "Unique values in column 'KLEEFT2': [ 5  6  2  7  8  9  3 10  4]\n",
      "Unique values in column 'OPLEIDING_1': [0 1]\n",
      "Unique values in column 'OPLEIDING_3': [0 1]\n",
      "Unique values in column 'OPLEIDING_4': [0 1]\n",
      "Unique values in column 'OPLEIDING_5': [1 0]\n",
      "Unique values in column 'OPLEIDING_6': [0 1]\n",
      "Unique values in column 'OPLEIDING_7': [0 1]\n",
      "Unique values in column 'OPLEIDING_8': [0 1]\n",
      "Unique values in column 'KLEEFT2_2': [0 1]\n",
      "Unique values in column 'KLEEFT2_3': [0 1]\n",
      "Unique values in column 'KLEEFT2_4': [0 1]\n",
      "Unique values in column 'KLEEFT2_5': [1 0]\n",
      "Unique values in column 'KLEEFT2_6': [0 1]\n",
      "Unique values in column 'KLEEFT2_7': [0 1]\n",
      "Unique values in column 'KLEEFT2_8': [0 1]\n",
      "Unique values in column 'KLEEFT2_9': [0 1]\n",
      "Unique values in column 'KLEEFT2_10': [0 1]\n"
     ]
    }
   ],
   "source": [
    "for col in df.columns:\n",
    "    unique_values = df[col].unique()\n",
    "    print(f\"Unique values in column '{col}': {unique_values}\")\n"
   ]
  },
  {
   "cell_type": "code",
   "execution_count": 111,
   "metadata": {},
   "outputs": [],
   "source": [
    "df.drop(\"P_VALID\",axis=1,inplace=True)"
   ]
  },
  {
   "cell_type": "code",
   "execution_count": 112,
   "metadata": {},
   "outputs": [
    {
     "name": "stdout",
     "output_type": "stream",
     "text": [
      "Unique values in column 'PERSID': [3.0000500e+09 3.0000507e+09 3.0000715e+09 ... 3.4516302e+09 3.4516313e+09\n",
      " 3.4516313e+09]\n",
      "Unique values in column 'GESLACHT': [0 1]\n",
      "Unique values in column 'OPLEIDING': [5 7 6 1 4 8 3 0]\n",
      "Unique values in column 'WERKZAAM': [1 0]\n",
      "Unique values in column 'VVM_WERK_w5': [ 7.  1.  0.  3.  4. 10. 11.  5.  2. nan  8. 12.  9.]\n",
      "Unique values in column 'RIJBEWIJS': [1 0]\n",
      "Unique values in column 'PAUTO': [0 1]\n",
      "Unique values in column 'PBROM': [0 1]\n",
      "Unique values in column 'PFIETS': [1 0]\n",
      "Unique values in column 'PEBIKE': [0 1]\n",
      "Unique values in column 'TYPE_OVKAART3': [0 1]\n",
      "Unique values in column 'TYPE_OVKAART5': [0 1]\n",
      "Unique values in column 'KLEEFT2': [ 5  6  2  7  8  9  3 10  4]\n",
      "Unique values in column 'OPLEIDING_1': [0 1]\n",
      "Unique values in column 'OPLEIDING_3': [0 1]\n",
      "Unique values in column 'OPLEIDING_4': [0 1]\n",
      "Unique values in column 'OPLEIDING_5': [1 0]\n",
      "Unique values in column 'OPLEIDING_6': [0 1]\n",
      "Unique values in column 'OPLEIDING_7': [0 1]\n",
      "Unique values in column 'OPLEIDING_8': [0 1]\n",
      "Unique values in column 'KLEEFT2_2': [0 1]\n",
      "Unique values in column 'KLEEFT2_3': [0 1]\n",
      "Unique values in column 'KLEEFT2_4': [0 1]\n",
      "Unique values in column 'KLEEFT2_5': [1 0]\n",
      "Unique values in column 'KLEEFT2_6': [0 1]\n",
      "Unique values in column 'KLEEFT2_7': [0 1]\n",
      "Unique values in column 'KLEEFT2_8': [0 1]\n",
      "Unique values in column 'KLEEFT2_9': [0 1]\n",
      "Unique values in column 'KLEEFT2_10': [0 1]\n"
     ]
    }
   ],
   "source": [
    "for col in df.columns:\n",
    "    unique_values = df[col].unique()\n",
    "    print(f\"Unique values in column '{col}': {unique_values}\")"
   ]
  },
  {
   "cell_type": "code",
   "execution_count": 113,
   "metadata": {},
   "outputs": [],
   "source": [
    "df.to_csv(\"F:/more work/the netherlands/4 wave/wave5/wave5_Pdata_finalbinary.csv\")"
   ]
  }
 ],
 "metadata": {
  "kernelspec": {
   "display_name": "Python 3.10.8 64-bit",
   "language": "python",
   "name": "python3"
  },
  "language_info": {
   "codemirror_mode": {
    "name": "ipython",
    "version": 3
   },
   "file_extension": ".py",
   "mimetype": "text/x-python",
   "name": "python",
   "nbconvert_exporter": "python",
   "pygments_lexer": "ipython3",
   "version": "3.10.9"
  },
  "orig_nbformat": 4,
  "vscode": {
   "interpreter": {
    "hash": "2b324498af64d22b4773901be112d66dec816013b7f64fed368c8550f7daba2d"
   }
  }
 },
 "nbformat": 4,
 "nbformat_minor": 2
}
