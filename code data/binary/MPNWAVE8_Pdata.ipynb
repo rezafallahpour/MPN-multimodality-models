{
 "cells": [
  {
   "cell_type": "code",
   "execution_count": 707,
   "metadata": {},
   "outputs": [],
   "source": [
    "import pandas as pd\n",
    "MPNWAVE8_Pdata = pd.read_csv('F:/more work/the netherlands/4 wave/wave5/MPNWAVE5_Pdata_en.csv')\n",
    "MPNWAVE8_Pdata = MPNWAVE8_Pdata[MPNWAVE8_Pdata['P_VALID']=='person completed the questionnaire and completed the diary']"
   ]
  },
  {
   "cell_type": "code",
   "execution_count": 708,
   "metadata": {},
   "outputs": [],
   "source": [
    "MPNWAVE8_Pdata['GESLACHT'].replace(['Man' , 'Woman'] , [1,0],inplace=True)\n"
   ]
  },
  {
   "cell_type": "code",
   "execution_count": 709,
   "metadata": {},
   "outputs": [],
   "source": [
    "MPNWAVE8_Pdata['POSITIEHH'].replace(['Main income earner' , 'Partner of main income earner' , 'Child of main income earner' , 'Father or mother, or father-in-law or mother-in-law of main income earner' , 'brother or sister, brother- or sister-in-law of the main income earner' , 'Son-in-law or daughter-in-law of main income earner' , '99998.0' , 'Other, family or family-in-law of main income earner' , 'Other, not family or family-in-law of main income earner' , 'Other persons' , 'unknown (no household questionnaire)'] , [1,2,3,4,5,6,7,8,9,0,0],inplace=True)\n",
    "new = pd.get_dummies(MPNWAVE8_Pdata['POSITIEHH'],prefix='POSITIEHH')\n",
    "MPNWAVE8_Pdata = MPNWAVE8_Pdata.join(new)\n",
    "MPNWAVE8_Pdata.drop('POSITIEHH_0', axis=1,inplace=True)"
   ]
  },
  {
   "cell_type": "code",
   "execution_count": 710,
   "metadata": {},
   "outputs": [],
   "source": [
    "MPNWAVE8_Pdata['HERKOMST_w5'].replace(['Native Dutch ethnic origin' , '(Other) Europe' , 'Other world (not Europe)' , 'Unknown'] , [1,2,3,4] , inplace=True)\n",
    "new = pd.get_dummies(MPNWAVE8_Pdata['HERKOMST_w5'],prefix='HERKOMST_w5')\n",
    "MPNWAVE8_Pdata = MPNWAVE8_Pdata.join(new)\n",
    "MPNWAVE8_Pdata.drop('HERKOMST_w5_4', axis=1,inplace=True)"
   ]
  },
  {
   "cell_type": "code",
   "execution_count": 711,
   "metadata": {},
   "outputs": [],
   "source": [
    "MPNWAVE8_Pdata['WERKSITUATIE_ANDERS1'].replace(['No' , 'Yes'] , [0,1] , inplace=True)\n",
    "MPNWAVE8_Pdata['WERKSITUATIE_ANDERS2'].replace(['No' , 'Yes'] , [0,1] , inplace=True)\n",
    "MPNWAVE8_Pdata['WERKSITUATIE_ANDERS3'].replace(['No' , 'Yes'] , [0,1] , inplace=True)\n",
    "MPNWAVE8_Pdata['WERKSITUATIE_ANDERS4'].replace(['No' , 'Yes'] , [0,1] , inplace=True)\n",
    "MPNWAVE8_Pdata['WERKSITUATIE_ANDERS5'].replace(['No' , 'Yes'] , [0,1] , inplace=True)\n",
    "MPNWAVE8_Pdata['WERKSITUATIE_ANDERS6'].replace(['No' , 'Yes'] , [0,1] , inplace=True)\n",
    "MPNWAVE8_Pdata['WERKSITUATIE_ANDERS7'].replace(['No' , 'Yes'] , [0,1] , inplace=True)\n",
    "MPNWAVE8_Pdata['WERKSITUATIE_ANDERS8'].replace(['No' , 'Yes'] , [0,1] , inplace=True)\n"
   ]
  },
  {
   "cell_type": "code",
   "execution_count": 712,
   "metadata": {},
   "outputs": [],
   "source": [
    "MPNWAVE8_Pdata['WERKZAAM'].replace(['not working' , 'active' , 'whether or not employed unknown'] , [0,1,0] , inplace=True)\n"
   ]
  },
  {
   "cell_type": "code",
   "execution_count": 713,
   "metadata": {},
   "outputs": [],
   "source": [
    "#???????MPNWAVE8_Pdata['SECTORWERK'].replace(['Public administration, security and justice' , 'Hospitality and housekeeping' , 'Storage and transport' , 'healthcare' , 'Staff, organization and strategy' , 'Tourism and recreation' , 'Language, media and communication' , '(Retail) trade' , ''])"
   ]
  },
  {
   "cell_type": "code",
   "execution_count": 714,
   "metadata": {},
   "outputs": [],
   "source": [
    "MPNWAVE8_Pdata['OPLEIDING'].replace(['no education/ primary education' , 'LBO \\ VBO \\ VMBO (vocational educational programs)' , \"MAVO\\\\1st 3 years HAVO-VWO\\VMBO (junior years high school education)\" , 'MBO' , 'HAVO and VWO senior high school year(s) \\ university propaedeutic diploma' , \"HBO\\WO (Bachelor's degree)\" , \"HBO / WO master's or doctoral degree\" , \"Don't know \\ won't say\" , 'No data known, no imputation from 2018 possible'] , [1,3,4,5,6,7,8,0,0] , inplace=True)\n",
    "new = pd.get_dummies(MPNWAVE8_Pdata['OPLEIDING'],prefix='OPLEIDING')\n",
    "MPNWAVE8_Pdata = MPNWAVE8_Pdata.join(new)\n",
    "MPNWAVE8_Pdata.drop('OPLEIDING_0', axis=1,inplace=True)"
   ]
  },
  {
   "cell_type": "code",
   "execution_count": 715,
   "metadata": {},
   "outputs": [],
   "source": [
    "MPNWAVE8_Pdata['WERKURENRECENT'].replace(['less than 12 hours per week' , '12 to 20 hours per week' , '20 to 25 hours per week' , '25 to 30 hours per week' , '30 to 35 hours per week' , '35 hours or more per week' , 'Unknown' , 'Person is unemployed, or unknown'] , [1,2,3,4,5,6,0,0] , inplace=True)\n",
    "new = pd.get_dummies(MPNWAVE8_Pdata['WERKURENRECENT'],prefix='WERKURENRECENT')\n",
    "MPNWAVE8_Pdata = MPNWAVE8_Pdata.join(new)\n",
    "#MPNWAVE8_Pdata.drop('WERKURENRECENT_0', axis=1,inplace=True)\n"
   ]
  },
  {
   "cell_type": "code",
   "execution_count": 716,
   "metadata": {},
   "outputs": [],
   "source": [
    "MPNWAVE8_Pdata['N_URENVAST'].replace(['less than 12 hours per week' , '12 to 20 hours per week' , '20 to 25 hours per week' , '25 to 30 hours per week' , '30 to 35 hours per week' , '35 hours or more per week' , 'Unknown' , 'Person is unemployed, or unknown'] , [1,2,3,4,5,6,0,0] , inplace=True)\n",
    "new = pd.get_dummies(MPNWAVE8_Pdata['N_URENVAST'],prefix='N_URENVAST')\n",
    "MPNWAVE8_Pdata = MPNWAVE8_Pdata.join(new)\n",
    "#MPNWAVE8_Pdata.drop('N_URENVAST_0', axis=1,inplace=True)"
   ]
  },
  {
   "cell_type": "code",
   "execution_count": 717,
   "metadata": {},
   "outputs": [],
   "source": [
    "MPNWAVE8_Pdata['N_URENTHUIS'].replace(['less than 12 hours per week' , '12 to 20 hours per week' , '20 to 25 hours per week' , '25 to 30 hours per week' , '30 to 35 hours per week' , '35 hours or more per week' , 'Unknown' , 'Person is unemployed, or unknown'] , [1,2,3,4,5,6,0,0] , inplace=True)\n",
    "new = pd.get_dummies(MPNWAVE8_Pdata['N_URENTHUIS'],prefix='N_URENTHUIS')\n",
    "MPNWAVE8_Pdata = MPNWAVE8_Pdata.join(new)\n",
    "#MPNWAVE8_Pdata.drop('N_URENTHUIS_0', axis=1,inplace=True)"
   ]
  },
  {
   "cell_type": "code",
   "execution_count": 718,
   "metadata": {},
   "outputs": [],
   "source": [
    "MPNWAVE8_Pdata['N_URENELDERS'].replace(['less than 12 hours per week' , '12 to 20 hours per week' , '20 to 25 hours per week' , '25 to 30 hours per week' , '30 to 35 hours per week' , '35 hours or more per week' , 'Unknown' , 'Person is unemployed, or unknown'] , [1,2,3,4,5,6,0,0] , inplace=True)\n",
    "new = pd.get_dummies(MPNWAVE8_Pdata['N_URENELDERS'],prefix='N_URENELDERS')\n",
    "MPNWAVE8_Pdata = MPNWAVE8_Pdata.join(new)\n",
    "#MPNWAVE8_Pdata.drop('N_URENELDERS_0', axis=1,inplace=True)"
   ]
  },
  {
   "cell_type": "code",
   "execution_count": 719,
   "metadata": {},
   "outputs": [],
   "source": [
    "MPNWAVE8_Pdata['N_URENONDERWEG'].replace(['less than 12 hours per week' , '12 to 20 hours per week' , '20 to 25 hours per week' , '25 to 30 hours per week' , '30 to 35 hours per week' , '35 hours or more per week' , 'Unknown' , 'Person is unemployed, or unknown'] , [1,2,3,4,5,6,0,0] , inplace=True)\n",
    "new = pd.get_dummies(MPNWAVE8_Pdata['N_URENONDERWEG'],prefix='N_URENONDERWEG')\n",
    "MPNWAVE8_Pdata = MPNWAVE8_Pdata.join(new)\n",
    "#MPNWAVE8_Pdata.drop('N_URENONDERWEG_0', axis=1,inplace=True)"
   ]
  },
  {
   "cell_type": "code",
   "execution_count": 720,
   "metadata": {},
   "outputs": [],
   "source": [
    "MPNWAVE8_Pdata['VVM_WERK_w5'].replace(['car (as driver)' , 'car (as passenger)' , 'Motorcycle' , 'Train' , 'bus / tram / metro' , 'moped, scooter (max. 25 km \\ h, helmet not required)' , 'moped, scooter (max. 45 km \\ h, helmet required)' , 'bike' , 'Electric bike (e-bike) (max. 25 km \\ h, helmet not required)' , 'Speed ??pedelec (max. 45 km \\ h, helmet required)' , 'Walking' , 'Mobility scooter \\ Canta \\ wheelchair' , 'Other' , 'Not applicable' , 'not asked, person is unemployed' , 'person did not complete the questionnaire'] , [1,2,3,4,5,6,7,8,9,10,11,12,0,0,0,0] , inplace=True)\n",
    "new = pd.get_dummies(MPNWAVE8_Pdata['VVM_WERK_w5'],prefix='VVM_WERK_w5')\n",
    "MPNWAVE8_Pdata = MPNWAVE8_Pdata.join(new)\n",
    "MPNWAVE8_Pdata.drop('VVM_WERK_w5_0', axis=1,inplace=True)"
   ]
  },
  {
   "cell_type": "code",
   "execution_count": 721,
   "metadata": {},
   "outputs": [],
   "source": [
    "MPNWAVE8_Pdata['RIJBEWIJS'].replace([\"Person has a driver's license\" , \"Person does not have a driver's license\" , \"Unknown\" , 'Not asked, person younger than 16 years old'] , [1,0,0,0],inplace=True)\n"
   ]
  },
  {
   "cell_type": "code",
   "execution_count": 722,
   "metadata": {},
   "outputs": [],
   "source": [
    "MPNWAVE8_Pdata['RIJBEWIJS_AUTO'].replace(['Yes' , 'No' , 'Not asked, person younger than 17 years old'] , [1,0,0] , inplace=True)\n"
   ]
  },
  {
   "cell_type": "code",
   "execution_count": 723,
   "metadata": {},
   "outputs": [],
   "source": [
    "MPNWAVE8_Pdata['RIJBEWIJS_MOTOR'].replace(['Yes' , 'No' , 'Not asked, person younger than 18 years old'] , [1,0,0] , inplace=True)\n"
   ]
  },
  {
   "cell_type": "code",
   "execution_count": 724,
   "metadata": {},
   "outputs": [],
   "source": [
    "MPNWAVE8_Pdata['RIJBEWIJS_BROM_w5'].replace(['Yes' , 'No' , 'Not asked, person younger than 16 years old'] , [1,0,0] , inplace=True)"
   ]
  },
  {
   "cell_type": "code",
   "execution_count": 725,
   "metadata": {},
   "outputs": [],
   "source": [
    "MPNWAVE8_Pdata['RIJBEWIJS_VRACHT_w5'].replace(['Yes' , 'No' , 'Not asked, person younger than 18 years old'] , [1,0,0] , inplace=True)"
   ]
  },
  {
   "cell_type": "code",
   "execution_count": 726,
   "metadata": {},
   "outputs": [],
   "source": [
    "MPNWAVE8_Pdata['PVVM'].replace(['Does not own a transport mode' , 'Does own a transport mode'] , [0,1] , inplace=True)"
   ]
  },
  {
   "cell_type": "code",
   "execution_count": 727,
   "metadata": {},
   "outputs": [],
   "source": [
    "MPNWAVE8_Pdata['PAUTO'].replace(['No' , 'Yes' , 'Person does not own any vehicle'] , [0,1,0] , inplace=True)"
   ]
  },
  {
   "cell_type": "code",
   "execution_count": 728,
   "metadata": {},
   "outputs": [],
   "source": [
    "MPNWAVE8_Pdata['PHYBRID'].replace(['No' , 'Yes' , 'Person does not own any vehicle'] , [0,1,0] , inplace=True)"
   ]
  },
  {
   "cell_type": "code",
   "execution_count": 729,
   "metadata": {},
   "outputs": [],
   "source": [
    "MPNWAVE8_Pdata['PBESTEL'].replace(['No' , 'Yes' , 'Person does not own any vehicle'] , [0,1,0] , inplace=True)"
   ]
  },
  {
   "cell_type": "code",
   "execution_count": 730,
   "metadata": {},
   "outputs": [],
   "source": [
    "MPNWAVE8_Pdata['PMOTOR'].replace(['No' , 'Yes' , 'Person does not own any vehicle'] , [0,1,0] , inplace=True)"
   ]
  },
  {
   "cell_type": "code",
   "execution_count": 731,
   "metadata": {},
   "outputs": [],
   "source": [
    "MPNWAVE8_Pdata['PBROM'].replace(['No' , 'Yes' , 'Person does not own any vehicle'] , [0,1,0] , inplace=True)"
   ]
  },
  {
   "cell_type": "code",
   "execution_count": 732,
   "metadata": {},
   "outputs": [],
   "source": [
    "MPNWAVE8_Pdata['PSNOR'].replace(['No' , 'Yes' , 'Person does not own any vehicle'] , [0,1,0] , inplace=True)"
   ]
  },
  {
   "cell_type": "code",
   "execution_count": 733,
   "metadata": {},
   "outputs": [],
   "source": [
    "MPNWAVE8_Pdata['PFIETS'].replace(['No' , 'Yes' , 'Person does not own any vehicle'] , [0,1,0] , inplace=True)"
   ]
  },
  {
   "cell_type": "code",
   "execution_count": 734,
   "metadata": {},
   "outputs": [],
   "source": [
    "MPNWAVE8_Pdata['PVOUWFIETS'].replace(['No' , 'Yes' , 'Person does not own any vehicle'] , [0,1,0] , inplace=True)"
   ]
  },
  {
   "cell_type": "code",
   "execution_count": 735,
   "metadata": {},
   "outputs": [],
   "source": [
    "MPNWAVE8_Pdata['PEBIKE'].replace(['No' , 'Yes' , 'Person does not own any vehicle'] , [0,1,0] , inplace=True)"
   ]
  },
  {
   "cell_type": "code",
   "execution_count": 736,
   "metadata": {},
   "outputs": [],
   "source": [
    "MPNWAVE8_Pdata['PSCOOT'].replace(['No' , 'Yes' , 'Person does not own any vehicle'] , [0,1,0] , inplace=True)"
   ]
  },
  {
   "cell_type": "code",
   "execution_count": 737,
   "metadata": {},
   "outputs": [],
   "source": [
    "MPNWAVE8_Pdata['PPEDEL'].replace(['No' , 'Yes' , 'Person does not own any vehicle'] , [0,1,0] , inplace=True)"
   ]
  },
  {
   "cell_type": "code",
   "execution_count": 738,
   "metadata": {},
   "outputs": [],
   "source": [
    "MPNWAVE8_Pdata['STELLING_PARK'].replace(['strongly disagree' , 'disagree' , 'do not agree, do not disagree' , 'agree' , 'strongly agree' , 'Unknown' , 'Not asked, person younger than 16 years old'] , [1,2,3,4,5,0,0],inplace=True)\n",
    "new = pd.get_dummies(MPNWAVE8_Pdata['STELLING_PARK'],prefix='STELLING_PARK')\n",
    "MPNWAVE8_Pdata = MPNWAVE8_Pdata.join(new)\n",
    "MPNWAVE8_Pdata.drop('STELLING_PARK_0', axis=1,inplace=True)"
   ]
  },
  {
   "cell_type": "code",
   "execution_count": 739,
   "metadata": {},
   "outputs": [],
   "source": [
    "MPNWAVE8_Pdata['STELLING_AUTO'].replace(['strongly disagree' , 'disagree' , 'do not agree, do not disagree' , 'agree' , 'strongly agree' , 'Unknown' , 'Not asked, person younger than 16 years old'] , [1,2,3,4,5,0,0],inplace=True)\n",
    "new = pd.get_dummies(MPNWAVE8_Pdata['STELLING_AUTO'],prefix='STELLING_AUTO')\n",
    "MPNWAVE8_Pdata = MPNWAVE8_Pdata.join(new)\n",
    "MPNWAVE8_Pdata.drop('STELLING_AUTO_0', axis=1,inplace=True)"
   ]
  },
  {
   "cell_type": "code",
   "execution_count": 740,
   "metadata": {},
   "outputs": [],
   "source": [
    "MPNWAVE8_Pdata['STELLING_FIETS_w5'].replace(['strongly disagree' , 'disagree' , 'do not agree, do not disagree' , 'agree' , 'strongly agree' , 'Unknown' , 'Not asked, person younger than 16 years old'] , [1,2,3,4,5,0,0],inplace=True)\n",
    "new = pd.get_dummies(MPNWAVE8_Pdata['STELLING_FIETS_w5'],prefix='STELLING_FIETS_w5')\n",
    "MPNWAVE8_Pdata = MPNWAVE8_Pdata.join(new)\n",
    "MPNWAVE8_Pdata.drop('STELLING_FIETS_w5_0', axis=1,inplace=True)"
   ]
  },
  {
   "cell_type": "code",
   "execution_count": 741,
   "metadata": {},
   "outputs": [],
   "source": [
    "MPNWAVE8_Pdata['STELLING_OV'].replace(['strongly disagree' , 'disagree' , 'do not agree, do not disagree' , 'agree' , 'strongly agree' , 'Unknown' , 'Not asked, person younger than 16 years old'] , [1,2,3,4,5,0,0],inplace=True)\n",
    "new = pd.get_dummies(MPNWAVE8_Pdata['STELLING_OV'],prefix='STELLING_OV')\n",
    "MPNWAVE8_Pdata = MPNWAVE8_Pdata.join(new)\n",
    "MPNWAVE8_Pdata.drop('STELLING_OV_0', axis=1,inplace=True)"
   ]
  },
  {
   "cell_type": "code",
   "execution_count": 742,
   "metadata": {},
   "outputs": [
    {
     "data": {
      "text/plain": [
       "\"MPNWAVE8_Pdata['VVM_VOORKEUR_w5_WERK'].replace(['not applicable' , 'car' , 'Motorcycle' , 'Train' , 'Bus/tram/metro' , 'moped / light moped / scooter' , 'bike' , 'e-bike / speed pedelec' , 'Walking' , 'Mobility scooter \\\\ Canta \\\\ Wheelchair' , 'Other' , 'preference for multiple transport modes' , 'Not asked, person younger than 12 years old'] , [0,2,3,4,5,6,7,8,9,10,0,12,0], inplace=True)\\nnew = pd.get_dummies(MPNWAVE8_Pdata['VVM_VOORKEUR_w5_WERK'],prefix='VVM_VOORKEUR_w5_WERK')\\nMPNWAVE8_Pdata = MPNWAVE8_Pdata.join(new)\\nMPNWAVE8_Pdata.drop('VVM_VOORKEUR_w5_WERK_0', axis=1,inplace=True)\""
      ]
     },
     "execution_count": 742,
     "metadata": {},
     "output_type": "execute_result"
    }
   ],
   "source": [
    "'''MPNWAVE8_Pdata['VVM_VOORKEUR_w5_WERK'].replace(['not applicable' , 'car' , 'Motorcycle' , 'Train' , 'Bus/tram/metro' , 'moped / light moped / scooter' , 'bike' , 'e-bike / speed pedelec' , 'Walking' , 'Mobility scooter \\ Canta \\ Wheelchair' , 'Other' , 'preference for multiple transport modes' , 'Not asked, person younger than 12 years old'] , [0,2,3,4,5,6,7,8,9,10,0,12,0], inplace=True)\n",
    "new = pd.get_dummies(MPNWAVE8_Pdata['VVM_VOORKEUR_w5_WERK'],prefix='VVM_VOORKEUR_w5_WERK')\n",
    "MPNWAVE8_Pdata = MPNWAVE8_Pdata.join(new)\n",
    "MPNWAVE8_Pdata.drop('VVM_VOORKEUR_w5_WERK_0', axis=1,inplace=True)'''"
   ]
  },
  {
   "cell_type": "code",
   "execution_count": 743,
   "metadata": {},
   "outputs": [
    {
     "data": {
      "text/plain": [
       "\"MPNWAVE8_Pdata['SPITSMIJDEN_OCHTEND_AUTO'].replace(['not asked, person does not travel by car to work' , 'not asked, person is unemployed','0.0'] , [0,0,0] , inplace=True)\\nnew = pd.get_dummies(MPNWAVE8_Pdata['SPITSMIJDEN_OCHTEND_AUTO'],prefix='SPITSMIJDEN_OCHTEND_AUTO')\\nMPNWAVE8_Pdata = MPNWAVE8_Pdata.join(new)\\nMPNWAVE8_Pdata.drop('SPITSMIJDEN_OCHTEND_AUTO_0', axis=1,inplace=True)\""
      ]
     },
     "execution_count": 743,
     "metadata": {},
     "output_type": "execute_result"
    }
   ],
   "source": [
    "'''MPNWAVE8_Pdata['SPITSMIJDEN_OCHTEND_AUTO'].replace(['not asked, person does not travel by car to work' , 'not asked, person is unemployed','0.0'] , [0,0,0] , inplace=True)\n",
    "new = pd.get_dummies(MPNWAVE8_Pdata['SPITSMIJDEN_OCHTEND_AUTO'],prefix='SPITSMIJDEN_OCHTEND_AUTO')\n",
    "MPNWAVE8_Pdata = MPNWAVE8_Pdata.join(new)\n",
    "MPNWAVE8_Pdata.drop('SPITSMIJDEN_OCHTEND_AUTO_0', axis=1,inplace=True)'''"
   ]
  },
  {
   "cell_type": "code",
   "execution_count": 744,
   "metadata": {},
   "outputs": [
    {
     "data": {
      "text/plain": [
       "\"MPNWAVE8_Pdata['SPITSMIJDEN_AVOND_AUTO'].replace(['not asked, person does not travel by car to work' , 'not asked, person is unemployed','0.0'] , [0,0,0] , inplace=True)\\nnew = pd.get_dummies(MPNWAVE8_Pdata['SPITSMIJDEN_AVOND_AUTO'],prefix='SPITSMIJDEN_AVOND_AUTO')\\nMPNWAVE8_Pdata = MPNWAVE8_Pdata.join(new)\\nMPNWAVE8_Pdata.drop('SPITSMIJDEN_AVOND_AUTO_0', axis=1,inplace=True)\""
      ]
     },
     "execution_count": 744,
     "metadata": {},
     "output_type": "execute_result"
    }
   ],
   "source": [
    "'''MPNWAVE8_Pdata['SPITSMIJDEN_AVOND_AUTO'].replace(['not asked, person does not travel by car to work' , 'not asked, person is unemployed','0.0'] , [0,0,0] , inplace=True)\n",
    "new = pd.get_dummies(MPNWAVE8_Pdata['SPITSMIJDEN_AVOND_AUTO'],prefix='SPITSMIJDEN_AVOND_AUTO')\n",
    "MPNWAVE8_Pdata = MPNWAVE8_Pdata.join(new)\n",
    "MPNWAVE8_Pdata.drop('SPITSMIJDEN_AVOND_AUTO_0', axis=1,inplace=True)'''"
   ]
  },
  {
   "cell_type": "code",
   "execution_count": 745,
   "metadata": {},
   "outputs": [
    {
     "data": {
      "text/plain": [
       "\"MPNWAVE8_Pdata['SPITSMIJDEN_OCHTEND_OV'].replace(['not asked, person does not travel by public transport to work' , 'not asked, person is unemployed','0.0'] , [0,0,0] , inplace=True)\\nnew = pd.get_dummies(MPNWAVE8_Pdata['SPITSMIJDEN_OCHTEND_OV'],prefix='SPITSMIJDEN_OCHTEND_OV')\\nMPNWAVE8_Pdata = MPNWAVE8_Pdata.join(new)\\nMPNWAVE8_Pdata.drop('SPITSMIJDEN_OCHTEND_OV_0', axis=1,inplace=True)\""
      ]
     },
     "execution_count": 745,
     "metadata": {},
     "output_type": "execute_result"
    }
   ],
   "source": [
    "'''MPNWAVE8_Pdata['SPITSMIJDEN_OCHTEND_OV'].replace(['not asked, person does not travel by public transport to work' , 'not asked, person is unemployed','0.0'] , [0,0,0] , inplace=True)\n",
    "new = pd.get_dummies(MPNWAVE8_Pdata['SPITSMIJDEN_OCHTEND_OV'],prefix='SPITSMIJDEN_OCHTEND_OV')\n",
    "MPNWAVE8_Pdata = MPNWAVE8_Pdata.join(new)\n",
    "MPNWAVE8_Pdata.drop('SPITSMIJDEN_OCHTEND_OV_0', axis=1,inplace=True)'''"
   ]
  },
  {
   "cell_type": "code",
   "execution_count": 746,
   "metadata": {},
   "outputs": [
    {
     "data": {
      "text/plain": [
       "\"MPNWAVE8_Pdata['SPITSMIJDEN_AVOND_OV'].replace(['not asked, person does not travel by public transport to work' , 'not asked, person is unemployed','0.0'] , [0,0,0] , inplace=True)\\nnew = pd.get_dummies(MPNWAVE8_Pdata['SPITSMIJDEN_AVOND_OV'],prefix='SPITSMIJDEN_AVOND_OV')\\nMPNWAVE8_Pdata = MPNWAVE8_Pdata.join(new)\\nMPNWAVE8_Pdata.drop('SPITSMIJDEN_AVOND_OV_0', axis=1,inplace=True)\""
      ]
     },
     "execution_count": 746,
     "metadata": {},
     "output_type": "execute_result"
    }
   ],
   "source": [
    "'''MPNWAVE8_Pdata['SPITSMIJDEN_AVOND_OV'].replace(['not asked, person does not travel by public transport to work' , 'not asked, person is unemployed','0.0'] , [0,0,0] , inplace=True)\n",
    "new = pd.get_dummies(MPNWAVE8_Pdata['SPITSMIJDEN_AVOND_OV'],prefix='SPITSMIJDEN_AVOND_OV')\n",
    "MPNWAVE8_Pdata = MPNWAVE8_Pdata.join(new)\n",
    "MPNWAVE8_Pdata.drop('SPITSMIJDEN_AVOND_OV_0', axis=1,inplace=True)'''"
   ]
  },
  {
   "cell_type": "code",
   "execution_count": 747,
   "metadata": {},
   "outputs": [],
   "source": [
    "MPNWAVE8_Pdata['VOORKEUR_WERK1'].replace(['No' , 'Yes' , 'Not asked, person younger than 12 years old'] , [0,1,0] , inplace=True)\n",
    "MPNWAVE8_Pdata['VOORKEUR_WERK2'].replace(['No' , 'Yes' , 'Not asked, person younger than 12 years old'] , [0,1,0] , inplace=True)\n",
    "MPNWAVE8_Pdata['VOORKEUR_WERK3'].replace(['No' , 'Yes' , 'Not asked, person younger than 12 years old'] , [0,1,0] , inplace=True)\n",
    "MPNWAVE8_Pdata['VOORKEUR_WERK4'].replace(['No' , 'Yes' , 'Not asked, person younger than 12 years old'] , [0,1,0] , inplace=True)\n",
    "MPNWAVE8_Pdata['VOORKEUR_w5_WERK5'].replace(['No' , 'Yes' , 'Not asked, person younger than 12 years old'] , [0,1,0] , inplace=True)\n",
    "MPNWAVE8_Pdata['VOORKEUR_WERK6'].replace(['No' , 'Yes' , 'Not asked, person younger than 12 years old'] , [0,1,0] , inplace=True)\n",
    "MPNWAVE8_Pdata['VOORKEUR_WERK7'].replace(['No' , 'Yes' , 'Not asked, person younger than 12 years old'] , [0,1,0] , inplace=True)\n",
    "MPNWAVE8_Pdata['VOORKEUR_WERK8'].replace(['No' , 'Yes' , 'Not asked, person younger than 12 years old'] , [0,1,0] , inplace=True)\n",
    "MPNWAVE8_Pdata['VOORKEUR_WERK10'].replace(['No' , 'Yes' , 'Not asked, person younger than 12 years old'] , [0,1,0] , inplace=True)\n",
    "MPNWAVE8_Pdata['VOORKEUR_WERK11'].replace(['No' , 'Yes' , 'Not asked, person younger than 12 years old'] , [0,1,0] , inplace=True)\n",
    "MPNWAVE8_Pdata['VOORKEUR_WERK12'].replace(['No' , 'Yes' , 'Not asked, person younger than 12 years old'] , [0,1,0] , inplace=True)\n"
   ]
  },
  {
   "cell_type": "code",
   "execution_count": 748,
   "metadata": {},
   "outputs": [],
   "source": [
    "MPNWAVE8_Pdata['VOORKEUR_ZAKELIJK1'].replace(['No' , 'Yes' , 'Not asked, person younger than 12 years old'] , [0,1,0] , inplace=True)\n",
    "MPNWAVE8_Pdata['VOORKEUR_ZAKELIJK2'].replace(['No' , 'Yes' , 'Not asked, person younger than 12 years old'] , [0,1,0] , inplace=True)\n",
    "MPNWAVE8_Pdata['VOORKEUR_ZAKELIJK3'].replace(['No' , 'Yes' , 'Not asked, person younger than 12 years old'] , [0,1,0] , inplace=True)\n",
    "MPNWAVE8_Pdata['VOORKEUR_ZAKELIJK4'].replace(['No' , 'Yes' , 'Not asked, person younger than 12 years old'] , [0,1,0] , inplace=True)\n",
    "MPNWAVE8_Pdata['VOORKEUR_w5_ZAKELIJK5'].replace(['No' , 'Yes' , 'Not asked, person younger than 12 years old'] , [0,1,0] , inplace=True)\n",
    "MPNWAVE8_Pdata['VOORKEUR_ZAKELIJK6'].replace(['No' , 'Yes' , 'Not asked, person younger than 12 years old'] , [0,1,0] , inplace=True)\n",
    "MPNWAVE8_Pdata['VOORKEUR_ZAKELIJK7'].replace(['No' , 'Yes' , 'Not asked, person younger than 12 years old'] , [0,1,0] , inplace=True)\n",
    "MPNWAVE8_Pdata['VOORKEUR_ZAKELIJK8'].replace(['No' , 'Yes' , 'Not asked, person younger than 12 years old'] , [0,1,0] , inplace=True)\n",
    "MPNWAVE8_Pdata['VOORKEUR_ZAKELIJK10'].replace(['No' , 'Yes' , 'Not asked, person younger than 12 years old'] , [0,1,0] , inplace=True)\n",
    "MPNWAVE8_Pdata['VOORKEUR_ZAKELIJK11'].replace(['No' , 'Yes' , 'Not asked, person younger than 12 years old'] , [0,1,0] , inplace=True)\n",
    "MPNWAVE8_Pdata['VOORKEUR_ZAKELIJK12'].replace(['No' , 'Yes' , 'Not asked, person younger than 12 years old'] , [0,1,0] , inplace=True)\n"
   ]
  },
  {
   "cell_type": "code",
   "execution_count": 749,
   "metadata": {},
   "outputs": [],
   "source": [
    "MPNWAVE8_Pdata['VOORKEUR_SCHOOL1'].replace(['No' , 'Yes' , 'Not asked, person younger than 12 years old'] , [0,1,0] , inplace=True)\n",
    "MPNWAVE8_Pdata['VOORKEUR_SCHOOL2'].replace(['No' , 'Yes' , 'Not asked, person younger than 12 years old'] , [0,1,0] , inplace=True)\n",
    "MPNWAVE8_Pdata['VOORKEUR_SCHOOL3'].replace(['No' , 'Yes' , 'Not asked, person younger than 12 years old'] , [0,1,0] , inplace=True)\n",
    "MPNWAVE8_Pdata['VOORKEUR_SCHOOL4'].replace(['No' , 'Yes' , 'Not asked, person younger than 12 years old'] , [0,1,0] , inplace=True)\n",
    "MPNWAVE8_Pdata['VOORKEUR_w5_SCHOOL5'].replace(['No' , 'Yes' , 'Not asked, person younger than 12 years old'] , [0,1,0] , inplace=True)\n",
    "MPNWAVE8_Pdata['VOORKEUR_SCHOOL6'].replace(['No' , 'Yes' , 'Not asked, person younger than 12 years old'] , [0,1,0] , inplace=True)\n",
    "MPNWAVE8_Pdata['VOORKEUR_SCHOOL7'].replace(['No' , 'Yes' , 'Not asked, person younger than 12 years old'] , [0,1,0] , inplace=True)\n",
    "MPNWAVE8_Pdata['VOORKEUR_SCHOOL8'].replace(['No' , 'Yes' , 'Not asked, person younger than 12 years old'] , [0,1,0] , inplace=True)\n",
    "MPNWAVE8_Pdata['VOORKEUR_SCHOOL10'].replace(['No' , 'Yes' , 'Not asked, person younger than 12 years old'] , [0,1,0] , inplace=True)\n",
    "MPNWAVE8_Pdata['VOORKEUR_SCHOOL11'].replace(['No' , 'Yes' , 'Not asked, person younger than 12 years old'] , [0,1,0] , inplace=True)\n",
    "MPNWAVE8_Pdata['VOORKEUR_SCHOOL12'].replace(['No' , 'Yes' , 'Not asked, person younger than 12 years old'] , [0,1,0] , inplace=True)\n"
   ]
  },
  {
   "cell_type": "code",
   "execution_count": 750,
   "metadata": {},
   "outputs": [],
   "source": [
    "MPNWAVE8_Pdata['VOORKEUR_BOODSCH1'].replace(['No' , 'Yes' , 'Not asked, person younger than 12 years old'] , [0,1,0] , inplace=True)\n",
    "MPNWAVE8_Pdata['VOORKEUR_BOODSCH2'].replace(['No' , 'Yes' , 'Not asked, person younger than 12 years old'] , [0,1,0] , inplace=True)\n",
    "MPNWAVE8_Pdata['VOORKEUR_BOODSCH3'].replace(['No' , 'Yes' , 'Not asked, person younger than 12 years old'] , [0,1,0] , inplace=True)\n",
    "MPNWAVE8_Pdata['VOORKEUR_BOODSCH4'].replace(['No' , 'Yes' , 'Not asked, person younger than 12 years old'] , [0,1,0] , inplace=True)\n",
    "MPNWAVE8_Pdata['VOORKEUR_w5_BOODSCH5'].replace(['No' , 'Yes' , 'Not asked, person younger than 12 years old'] , [0,1,0] , inplace=True)\n",
    "MPNWAVE8_Pdata['VOORKEUR_BOODSCH6'].replace(['No' , 'Yes' , 'Not asked, person younger than 12 years old'] , [0,1,0] , inplace=True)\n",
    "MPNWAVE8_Pdata['VOORKEUR_BOODSCH7'].replace(['No' , 'Yes' , 'Not asked, person younger than 12 years old'] , [0,1,0] , inplace=True)\n",
    "MPNWAVE8_Pdata['VOORKEUR_BOODSCH8'].replace(['No' , 'Yes' , 'Not asked, person younger than 12 years old'] , [0,1,0] , inplace=True)\n",
    "MPNWAVE8_Pdata['VOORKEUR_BOODSCH10'].replace(['No' , 'Yes' , 'Not asked, person younger than 12 years old'] , [0,1,0] , inplace=True)\n",
    "MPNWAVE8_Pdata['VOORKEUR_BOODSCH11'].replace(['No' , 'Yes' , 'Not asked, person younger than 12 years old'] , [0,1,0] , inplace=True)\n",
    "MPNWAVE8_Pdata['VOORKEUR_BOODSCH12'].replace(['No' , 'Yes' , 'Not asked, person younger than 12 years old'] , [0,1,0] , inplace=True)\n"
   ]
  },
  {
   "cell_type": "code",
   "execution_count": 751,
   "metadata": {},
   "outputs": [],
   "source": [
    "MPNWAVE8_Pdata['VOORKEUR_WINKEL1'].replace(['No' , 'Yes' , 'Not asked, person younger than 12 years old'] , [0,1,0] , inplace=True)\n",
    "MPNWAVE8_Pdata['VOORKEUR_WINKEL2'].replace(['No' , 'Yes' , 'Not asked, person younger than 12 years old'] , [0,1,0] , inplace=True)\n",
    "MPNWAVE8_Pdata['VOORKEUR_WINKEL3'].replace(['No' , 'Yes' , 'Not asked, person younger than 12 years old'] , [0,1,0] , inplace=True)\n",
    "MPNWAVE8_Pdata['VOORKEUR_WINKEL4'].replace(['No' , 'Yes' , 'Not asked, person younger than 12 years old'] , [0,1,0] , inplace=True)\n",
    "MPNWAVE8_Pdata['VOORKEUR_w5_WINKEL5'].replace(['No' , 'Yes' , 'Not asked, person younger than 12 years old'] , [0,1,0] , inplace=True)\n",
    "MPNWAVE8_Pdata['VOORKEUR_WINKEL6'].replace(['No' , 'Yes' , 'Not asked, person younger than 12 years old'] , [0,1,0] , inplace=True)\n",
    "MPNWAVE8_Pdata['VOORKEUR_WINKEL7'].replace(['No' , 'Yes' , 'Not asked, person younger than 12 years old'] , [0,1,0] , inplace=True)\n",
    "MPNWAVE8_Pdata['VOORKEUR_WINKEL8'].replace(['No' , 'Yes' , 'Not asked, person younger than 12 years old'] , [0,1,0] , inplace=True)\n",
    "MPNWAVE8_Pdata['VOORKEUR_WINKEL10'].replace(['No' , 'Yes' , 'Not asked, person younger than 12 years old'] , [0,1,0] , inplace=True)\n",
    "MPNWAVE8_Pdata['VOORKEUR_WINKEL11'].replace(['No' , 'Yes' , 'Not asked, person younger than 12 years old'] , [0,1,0] , inplace=True)\n",
    "MPNWAVE8_Pdata['VOORKEUR_WINKEL12'].replace(['No' , 'Yes' , 'Not asked, person younger than 12 years old'] , [0,1,0] , inplace=True)\n"
   ]
  },
  {
   "cell_type": "code",
   "execution_count": 752,
   "metadata": {},
   "outputs": [],
   "source": [
    "MPNWAVE8_Pdata['VOORKEUR_HORECA1'].replace(['No' , 'Yes' , 'Not asked, person younger than 12 years old'] , [0,1,0] , inplace=True)\n",
    "MPNWAVE8_Pdata['VOORKEUR_HORECA2'].replace(['No' , 'Yes' , 'Not asked, person younger than 12 years old'] , [0,1,0] , inplace=True)\n",
    "MPNWAVE8_Pdata['VOORKEUR_HORECA3'].replace(['No' , 'Yes' , 'Not asked, person younger than 12 years old'] , [0,1,0] , inplace=True)\n",
    "MPNWAVE8_Pdata['VOORKEUR_HORECA4'].replace(['No' , 'Yes' , 'Not asked, person younger than 12 years old'] , [0,1,0] , inplace=True)\n",
    "MPNWAVE8_Pdata['VOORKEUR_HORECA5'].replace(['No' , 'Yes' , 'Not asked, person younger than 12 years old'] , [0,1,0] , inplace=True)\n",
    "MPNWAVE8_Pdata['VOORKEUR_HORECA6'].replace(['No' , 'Yes' , 'Not asked, person younger than 12 years old'] , [0,1,0] , inplace=True)\n",
    "MPNWAVE8_Pdata['VOORKEUR_HORECA7'].replace(['No' , 'Yes' , 'Not asked, person younger than 12 years old'] , [0,1,0] , inplace=True)\n",
    "MPNWAVE8_Pdata['VOORKEUR_HORECA8'].replace(['No' , 'Yes' , 'Not asked, person younger than 12 years old'] , [0,1,0] , inplace=True)\n",
    "MPNWAVE8_Pdata['VOORKEUR_HORECA10'].replace(['No' , 'Yes' , 'Not asked, person younger than 12 years old'] , [0,1,0] , inplace=True)\n",
    "MPNWAVE8_Pdata['VOORKEUR_HORECA11'].replace(['No' , 'Yes' , 'Not asked, person younger than 12 years old'] , [0,1,0] , inplace=True)\n",
    "MPNWAVE8_Pdata['VOORKEUR_HORECA12'].replace(['No' , 'Yes' , 'Not asked, person younger than 12 years old'] , [0,1,0] , inplace=True)\n"
   ]
  },
  {
   "cell_type": "code",
   "execution_count": 753,
   "metadata": {},
   "outputs": [],
   "source": [
    "MPNWAVE8_Pdata['VOORKEUR_VISITE1'].replace(['No' , 'Yes' , 'Not asked, person younger than 12 years old'] , [0,1,0] , inplace=True)\n",
    "MPNWAVE8_Pdata['VOORKEUR_VISITE2'].replace(['No' , 'Yes' , 'Not asked, person younger than 12 years old'] , [0,1,0] , inplace=True)\n",
    "MPNWAVE8_Pdata['VOORKEUR_VISITE3'].replace(['No' , 'Yes' , 'Not asked, person younger than 12 years old'] , [0,1,0] , inplace=True)\n",
    "MPNWAVE8_Pdata['VOORKEUR_VISITE4'].replace(['No' , 'Yes' , 'Not asked, person younger than 12 years old'] , [0,1,0] , inplace=True)\n",
    "MPNWAVE8_Pdata['VOORKEUR_w5_VISITE5'].replace(['No' , 'Yes' , 'Not asked, person younger than 12 years old'] , [0,1,0] , inplace=True)\n",
    "MPNWAVE8_Pdata['VOORKEUR_VISITE6'].replace(['No' , 'Yes' , 'Not asked, person younger than 12 years old'] , [0,1,0] , inplace=True)\n",
    "MPNWAVE8_Pdata['VOORKEUR_VISITE7'].replace(['No' , 'Yes' , 'Not asked, person younger than 12 years old'] , [0,1,0] , inplace=True)\n",
    "MPNWAVE8_Pdata['VOORKEUR_VISITE8'].replace(['No' , 'Yes' , 'Not asked, person younger than 12 years old'] , [0,1,0] , inplace=True)\n",
    "MPNWAVE8_Pdata['VOORKEUR_VISITE10'].replace(['No' , 'Yes' , 'Not asked, person younger than 12 years old'] , [0,1,0] , inplace=True)\n",
    "MPNWAVE8_Pdata['VOORKEUR_VISITE11'].replace(['No' , 'Yes' , 'Not asked, person younger than 12 years old'] , [0,1,0] , inplace=True)\n",
    "MPNWAVE8_Pdata['VOORKEUR_VISITE12'].replace(['No' , 'Yes' , 'Not asked, person younger than 12 years old'] , [0,1,0] , inplace=True)\n"
   ]
  },
  {
   "cell_type": "code",
   "execution_count": 754,
   "metadata": {},
   "outputs": [],
   "source": [
    "MPNWAVE8_Pdata['VOORKEUR_EROPUIT1'].replace(['No' , 'Yes' , 'Not asked, person younger than 12 years old'] , [0,1,0] , inplace=True)\n",
    "MPNWAVE8_Pdata['VOORKEUR_EROPUIT2'].replace(['No' , 'Yes' , 'Not asked, person younger than 12 years old'] , [0,1,0] , inplace=True)\n",
    "MPNWAVE8_Pdata['VOORKEUR_EROPUIT3'].replace(['No' , 'Yes' , 'Not asked, person younger than 12 years old'] , [0,1,0] , inplace=True)\n",
    "MPNWAVE8_Pdata['VOORKEUR_EROPUIT4'].replace(['No' , 'Yes' , 'Not asked, person younger than 12 years old'] , [0,1,0] , inplace=True)\n",
    "MPNWAVE8_Pdata['VOORKEUR_w5_EROPUIT5'].replace(['No' , 'Yes' , 'Not asked, person younger than 12 years old'] , [0,1,0] , inplace=True)\n",
    "MPNWAVE8_Pdata['VOORKEUR_EROPUIT6'].replace(['No' , 'Yes' , 'Not asked, person younger than 12 years old'] , [0,1,0] , inplace=True)\n",
    "MPNWAVE8_Pdata['VOORKEUR_EROPUIT7'].replace(['No' , 'Yes' , 'Not asked, person younger than 12 years old'] , [0,1,0] , inplace=True)\n",
    "MPNWAVE8_Pdata['VOORKEUR_EROPUIT8'].replace(['No' , 'Yes' , 'Not asked, person younger than 12 years old'] , [0,1,0] , inplace=True)\n",
    "MPNWAVE8_Pdata['VOORKEUR_EROPUIT10'].replace(['No' , 'Yes' , 'Not asked, person younger than 12 years old'] , [0,1,0] , inplace=True)\n",
    "MPNWAVE8_Pdata['VOORKEUR_EROPUIT11'].replace(['No' , 'Yes' , 'Not asked, person younger than 12 years old'] , [0,1,0] , inplace=True)\n",
    "MPNWAVE8_Pdata['VOORKEUR_EROPUIT12'].replace(['No' , 'Yes' , 'Not asked, person younger than 12 years old'] , [0,1,0] , inplace=True)\n"
   ]
  },
  {
   "cell_type": "code",
   "execution_count": 755,
   "metadata": {},
   "outputs": [],
   "source": [
    "MPNWAVE8_Pdata['VOORKEUR_SPORTEN1'].replace(['No' , 'Yes' , 'Not asked, person younger than 12 years old'] , [0,1,0] , inplace=True)\n",
    "MPNWAVE8_Pdata['VOORKEUR_SPORTEN2'].replace(['No' , 'Yes' , 'Not asked, person younger than 12 years old'] , [0,1,0] , inplace=True)\n",
    "MPNWAVE8_Pdata['VOORKEUR_SPORTEN3'].replace(['No' , 'Yes' , 'Not asked, person younger than 12 years old'] , [0,1,0] , inplace=True)\n",
    "MPNWAVE8_Pdata['VOORKEUR_SPORTEN4'].replace(['No' , 'Yes' , 'Not asked, person younger than 12 years old'] , [0,1,0] , inplace=True)\n",
    "MPNWAVE8_Pdata['VOORKEUR_w5_SPORTEN5'].replace(['No' , 'Yes' , 'Not asked, person younger than 12 years old'] , [0,1,0] , inplace=True)\n",
    "MPNWAVE8_Pdata['VOORKEUR_SPORTEN6'].replace(['No' , 'Yes' , 'Not asked, person younger than 12 years old'] , [0,1,0] , inplace=True)\n",
    "MPNWAVE8_Pdata['VOORKEUR_SPORTEN7'].replace(['No' , 'Yes' , 'Not asked, person younger than 12 years old'] , [0,1,0] , inplace=True)\n",
    "MPNWAVE8_Pdata['VOORKEUR_SPORTEN8'].replace(['No' , 'Yes' , 'Not asked, person younger than 12 years old'] , [0,1,0] , inplace=True)\n",
    "MPNWAVE8_Pdata['VOORKEUR_SPORTEN10'].replace(['No' , 'Yes' , 'Not asked, person younger than 12 years old'] , [0,1,0] , inplace=True)\n",
    "MPNWAVE8_Pdata['VOORKEUR_SPORTEN11'].replace(['No' , 'Yes' , 'Not asked, person younger than 12 years old'] , [0,1,0] , inplace=True)\n",
    "MPNWAVE8_Pdata['VOORKEUR_SPORTEN12'].replace(['No' , 'Yes' , 'Not asked, person younger than 12 years old'] , [0,1,0] , inplace=True)\n"
   ]
  },
  {
   "cell_type": "code",
   "execution_count": 756,
   "metadata": {},
   "outputs": [],
   "source": [
    "MPNWAVE8_Pdata['VOORKEUR_MANTELZORG1'].replace(['No' , 'Yes' , 'Not asked, person younger than 12 years old'] , [0,1,0] , inplace=True)\n",
    "MPNWAVE8_Pdata['VOORKEUR_MANTELZORG2'].replace(['No' , 'Yes' , 'Not asked, person younger than 12 years old'] , [0,1,0] , inplace=True)\n",
    "MPNWAVE8_Pdata['VOORKEUR_MANTELZORG3'].replace(['No' , 'Yes' , 'Not asked, person younger than 12 years old'] , [0,1,0] , inplace=True)\n",
    "MPNWAVE8_Pdata['VOORKEUR_MANTELZORG4'].replace(['No' , 'Yes' , 'Not asked, person younger than 12 years old'] , [0,1,0] , inplace=True)\n",
    "MPNWAVE8_Pdata['VOORKEUR_MANTELZORG5'].replace(['No' , 'Yes' , 'Not asked, person younger than 12 years old'] , [0,1,0] , inplace=True)\n",
    "MPNWAVE8_Pdata['VOORKEUR_MANTELZORG6'].replace(['No' , 'Yes' , 'Not asked, person younger than 12 years old'] , [0,1,0] , inplace=True)\n",
    "MPNWAVE8_Pdata['VOORKEUR_MANTELZORG7'].replace(['No' , 'Yes' , 'Not asked, person younger than 12 years old'] , [0,1,0] , inplace=True)\n",
    "MPNWAVE8_Pdata['VOORKEUR_MANTELZORG8'].replace(['No' , 'Yes' , 'Not asked, person younger than 12 years old'] , [0,1,0] , inplace=True)\n",
    "MPNWAVE8_Pdata['VOORKEUR_MANTELZORG10'].replace(['No' , 'Yes' , 'Not asked, person younger than 12 years old'] , [0,1,0] , inplace=True)\n",
    "MPNWAVE8_Pdata['VOORKEUR_MANTELZORG11'].replace(['No' , 'Yes' , 'Not asked, person younger than 12 years old'] , [0,1,0] , inplace=True)\n",
    "MPNWAVE8_Pdata['VOORKEUR_MANTELZORG12'].replace(['No' , 'Yes' , 'Not asked, person younger than 12 years old'] , [0,1,0] , inplace=True)\n"
   ]
  },
  {
   "cell_type": "code",
   "execution_count": 757,
   "metadata": {},
   "outputs": [],
   "source": [
    "MPNWAVE8_Pdata['VOORKEUR_VTOVERIG1'].replace(['No' , 'Yes' , 'Not asked, person younger than 12 years old'] , [0,1,0] , inplace=True)\n",
    "MPNWAVE8_Pdata['VOORKEUR_VTOVERIG2'].replace(['No' , 'Yes' , 'Not asked, person younger than 12 years old'] , [0,1,0] , inplace=True)\n",
    "MPNWAVE8_Pdata['VOORKEUR_VTOVERIG3'].replace(['No' , 'Yes' , 'Not asked, person younger than 12 years old'] , [0,1,0] , inplace=True)\n",
    "MPNWAVE8_Pdata['VOORKEUR_VTOVERIG4'].replace(['No' , 'Yes' , 'Not asked, person younger than 12 years old'] , [0,1,0] , inplace=True)\n",
    "MPNWAVE8_Pdata['VOORKEUR_VTOVERIG5'].replace(['No' , 'Yes' , 'Not asked, person younger than 12 years old'] , [0,1,0] , inplace=True)\n",
    "MPNWAVE8_Pdata['VOORKEUR_VTOVERIG6'].replace(['No' , 'Yes' , 'Not asked, person younger than 12 years old'] , [0,1,0] , inplace=True)\n",
    "MPNWAVE8_Pdata['VOORKEUR_VTOVERIG7'].replace(['No' , 'Yes' , 'Not asked, person younger than 12 years old'] , [0,1,0] , inplace=True)\n",
    "MPNWAVE8_Pdata['VOORKEUR_VTOVERIG8'].replace(['No' , 'Yes' , 'Not asked, person younger than 12 years old'] , [0,1,0] , inplace=True)\n",
    "MPNWAVE8_Pdata['VOORKEUR_VTOVERIG10'].replace(['No' , 'Yes' , 'Not asked, person younger than 12 years old'] , [0,1,0] , inplace=True)\n",
    "MPNWAVE8_Pdata['VOORKEUR_VTOVERIG11'].replace(['No' , 'Yes' , 'Not asked, person younger than 12 years old'] , [0,1,0] , inplace=True)\n",
    "MPNWAVE8_Pdata['VOORKEUR_VTOVERIG12'].replace(['No' , 'Yes' , 'Not asked, person younger than 12 years old'] , [0,1,0] , inplace=True)\n"
   ]
  },
  {
   "cell_type": "code",
   "execution_count": 758,
   "metadata": {},
   "outputs": [
    {
     "data": {
      "text/plain": [
       "'MPNWAVE8_Pdata[\\'BEZIT_OVKAART\\'].replace([\\'Yes a business public transport chip card for business use only\\' , \\'Yes a business public transport chip card that I also use privately\\' , \\'Yes a personal OV chip card\\' , \\'Yes an anonymous OV chip card\\' , \\'No\\' , \"Possession of public transport chip card: Don\\'t know\" , \\'Not asked, person younger than 12 years old\\'] , [1,2,3,4,0,0,0] , inplace=True)\\nnew = pd.get_dummies(MPNWAVE8_Pdata[\\'BEZIT_OVKAART\\'],prefix=\\'BEZIT_OVKAART\\')\\nMPNWAVE8_Pdata = MPNWAVE8_Pdata.join(new)\\nMPNWAVE8_Pdata.drop(\\'BEZIT_OVKAART_0\\', axis=1,inplace=True)'"
      ]
     },
     "execution_count": 758,
     "metadata": {},
     "output_type": "execute_result"
    }
   ],
   "source": [
    "'''MPNWAVE8_Pdata['BEZIT_OVKAART'].replace(['Yes a business public transport chip card for business use only' , 'Yes a business public transport chip card that I also use privately' , 'Yes a personal OV chip card' , 'Yes an anonymous OV chip card' , 'No' , \"Possession of public transport chip card: Don't know\" , 'Not asked, person younger than 12 years old'] , [1,2,3,4,0,0,0] , inplace=True)\n",
    "new = pd.get_dummies(MPNWAVE8_Pdata['BEZIT_OVKAART'],prefix='BEZIT_OVKAART')\n",
    "MPNWAVE8_Pdata = MPNWAVE8_Pdata.join(new)\n",
    "MPNWAVE8_Pdata.drop('BEZIT_OVKAART_0', axis=1,inplace=True)'''"
   ]
  },
  {
   "cell_type": "code",
   "execution_count": 759,
   "metadata": {},
   "outputs": [],
   "source": [
    "MPNWAVE8_Pdata['TYPE_OVKAART1'].replace(['No' , 'Yes' , 'person does not have a personal OV chip card'] , [0,1,0] , inplace=True)\n",
    "MPNWAVE8_Pdata['TYPE_OVKAART2'].replace(['No' , 'Yes' , 'person does not have a personal OV chip card'] , [0,1,0] , inplace=True)\n",
    "MPNWAVE8_Pdata['TYPE_OVKAART3'].replace(['No' , 'Yes' , 'person does not have a personal OV chip card'] , [0,1,0] , inplace=True)\n",
    "MPNWAVE8_Pdata['TYPE_OVKAART4'].replace(['No' , 'Yes' , 'person does not have a personal OV chip card'] , [0,1,0] , inplace=True)\n",
    "MPNWAVE8_Pdata['TYPE_OVKAART5'].replace(['No' , 'Yes' , 'person does not have a personal OV chip card'] , [0,1,0] , inplace=True)\n",
    "MPNWAVE8_Pdata['TYPE_OVKAART6'].replace(['No' , 'Yes' , 'person does not have a personal OV chip card'] , [0,1,0] , inplace=True)\n",
    "MPNWAVE8_Pdata['TYPE_OVKAART7'].replace(['No' , 'Yes' , 'person does not have a personal OV chip card'] , [0,1,0] , inplace=True)\n",
    "MPNWAVE8_Pdata['TYPE_OVKAART8'].replace(['No' , 'Yes' , 'person does not have a personal OV chip card'] , [0,1,0] , inplace=True)\n",
    "MPNWAVE8_Pdata['TYPE_OVKAART9'].replace(['No' , 'Yes' , 'person does not have a personal OV chip card'] , [0,1,0] , inplace=True)\n"
   ]
  },
  {
   "cell_type": "code",
   "execution_count": 760,
   "metadata": {},
   "outputs": [],
   "source": [
    "MPNWAVE8_Pdata['BESCHIK_AUTO'].replace(['Car availability: yes, whenever I want' , 'Car availability: no, I have to coordinate this with people in my household' , 'Car availability: no, but sometimes I can use the car of family / friends / acquaintances' , 'Car availability: no, (almost) never' , \"not requested, driver's license correction\" , 'not asked, person has no driving license' , 'Not asked, person is younger than 16 years old'] , [1,2,3,0,0,0,0] , inplace=True)\n",
    "new = pd.get_dummies(MPNWAVE8_Pdata['BESCHIK_AUTO'],prefix='BESCHIK_AUTO')\n",
    "MPNWAVE8_Pdata = MPNWAVE8_Pdata.join(new)\n",
    "MPNWAVE8_Pdata.drop('BESCHIK_AUTO_0', axis=1,inplace=True)"
   ]
  },
  {
   "cell_type": "code",
   "execution_count": 761,
   "metadata": {},
   "outputs": [],
   "source": [
    "MPNWAVE8_Pdata['GEBRUIK_PARK1'].replace(['No' , 'Yes' , 'Unknown' , 'not asked, person is unemployed' , 'Not asked, person younger than 12 years old'] , [0,1,0,0,0] , inplace=True)\n",
    "MPNWAVE8_Pdata['GEBRUIK_PARK2'].replace(['No' , 'Yes' , 'Unknown' , 'not asked, person is unemployed' , 'Not asked, person younger than 12 years old'] , [0,1,0,0,0] , inplace=True)\n",
    "MPNWAVE8_Pdata['GEBRUIK_PARK3'].replace(['No' , 'Yes' , 'Unknown' , 'not asked, person is unemployed' , 'Not asked, person younger than 12 years old'] , [0,1,0,0,0] , inplace=True)\n",
    "MPNWAVE8_Pdata['GEBRUIK_PARK4'].replace(['No' , 'Yes' , 'Unknown' , 'not asked, person is unemployed' , 'Not asked, person younger than 12 years old'] , [0,1,0,0,0] , inplace=True)\n",
    "\n"
   ]
  },
  {
   "cell_type": "code",
   "execution_count": 762,
   "metadata": {},
   "outputs": [],
   "source": [
    "MPNWAVE8_Pdata['N_ACTIVITEIT_w5_1'].replace(['4 or more days per week' , '1 to 3 days per week' , '1 to 3 days per month' , '6 to 11 days per year' , '1 to 5 days per year' , '(almost) never' , 'Not asked, person younger than 12 years old'] , [1,2,3,4,5,0,0] , inplace=True)\n",
    "new = pd.get_dummies(MPNWAVE8_Pdata['N_ACTIVITEIT_w5_1'],prefix='N_ACTIVITEIT_w5_1')\n",
    "MPNWAVE8_Pdata = MPNWAVE8_Pdata.join(new)\n",
    "MPNWAVE8_Pdata.drop('N_ACTIVITEIT_w5_1_0', axis=1,inplace=True)"
   ]
  },
  {
   "cell_type": "code",
   "execution_count": 763,
   "metadata": {},
   "outputs": [],
   "source": [
    "MPNWAVE8_Pdata['N_ACTIVITEIT_w5_2'].replace(['4 or more days per week' , '1 to 3 days per week' , '1 to 3 days per month' , '6 to 11 days per year' , '1 to 5 days per year' , '(almost) never' , 'Not asked, person younger than 12 years old'] , [1,2,3,4,5,0,0] , inplace=True)\n",
    "new = pd.get_dummies(MPNWAVE8_Pdata['N_ACTIVITEIT_w5_2'],prefix='N_ACTIVITEIT_w5_2')\n",
    "MPNWAVE8_Pdata = MPNWAVE8_Pdata.join(new)\n",
    "MPNWAVE8_Pdata.drop('N_ACTIVITEIT_w5_2_0', axis=1,inplace=True)"
   ]
  },
  {
   "cell_type": "code",
   "execution_count": 764,
   "metadata": {},
   "outputs": [],
   "source": [
    "MPNWAVE8_Pdata['N_ACTIVITEIT11'].replace(['4 or more days per week' , '1 to 3 days per week' , '1 to 3 days per month' , '6 to 11 days per year' , '1 to 5 days per year' , '(almost) never' , 'Not asked, person younger than 12 years old'] , [1,2,3,4,5,0,0] , inplace=True)\n",
    "new = pd.get_dummies(MPNWAVE8_Pdata['N_ACTIVITEIT11'],prefix='N_ACTIVITEIT11')\n",
    "MPNWAVE8_Pdata = MPNWAVE8_Pdata.join(new)\n",
    "MPNWAVE8_Pdata.drop('N_ACTIVITEIT11_0', axis=1,inplace=True)"
   ]
  },
  {
   "cell_type": "code",
   "execution_count": 765,
   "metadata": {},
   "outputs": [],
   "source": [
    "MPNWAVE8_Pdata['N_ACTIVITEIT_w5_4'].replace(['4 or more days per week' , '1 to 3 days per week' , '1 to 3 days per month' , '6 to 11 days per year' , '1 to 5 days per year' , '(almost) never' , 'Not asked, person younger than 12 years old'] , [1,2,3,4,5,0,0] , inplace=True)\n",
    "new = pd.get_dummies(MPNWAVE8_Pdata['N_ACTIVITEIT_w5_4'],prefix='N_ACTIVITEIT_w5_4')\n",
    "MPNWAVE8_Pdata = MPNWAVE8_Pdata.join(new)\n",
    "#MPNWAVE8_Pdata.drop('N_ACTIVITEIT_w5_4_0', axis=1,inplace=True)"
   ]
  },
  {
   "cell_type": "code",
   "execution_count": 766,
   "metadata": {},
   "outputs": [],
   "source": [
    "MPNWAVE8_Pdata['N_ACTIVITEIT_w5_5'].replace(['4 or more days per week' , '1 to 3 days per week' , '1 to 3 days per month' , '6 to 11 days per year' , '1 to 5 days per year' , '(almost) never' , 'Not asked, person younger than 12 years old'] , [1,2,3,4,5,0,0] , inplace=True)\n",
    "new = pd.get_dummies(MPNWAVE8_Pdata['N_ACTIVITEIT_w5_5'],prefix='N_ACTIVITEIT_w5_5')\n",
    "MPNWAVE8_Pdata = MPNWAVE8_Pdata.join(new)\n",
    "MPNWAVE8_Pdata.drop('N_ACTIVITEIT_w5_5_0', axis=1,inplace=True)"
   ]
  },
  {
   "cell_type": "code",
   "execution_count": 767,
   "metadata": {},
   "outputs": [],
   "source": [
    "MPNWAVE8_Pdata['N_ACTIVITEIT12'].replace(['4 or more days per week' , '1 to 3 days per week' , '1 to 3 days per month' , '6 to 11 days per year' , '1 to 5 days per year' , '(almost) never' , 'Not asked, person younger than 12 years old'] , [1,2,3,4,5,0,0] , inplace=True)\n",
    "new = pd.get_dummies(MPNWAVE8_Pdata['N_ACTIVITEIT12'],prefix='N_ACTIVITEIT12')\n",
    "MPNWAVE8_Pdata = MPNWAVE8_Pdata.join(new)\n",
    "MPNWAVE8_Pdata.drop('N_ACTIVITEIT12_0', axis=1,inplace=True)"
   ]
  },
  {
   "cell_type": "code",
   "execution_count": 768,
   "metadata": {},
   "outputs": [],
   "source": [
    "MPNWAVE8_Pdata['N_ACTIVITEIT_w5_8'].replace(['4 or more days per week' , '1 to 3 days per week' , '1 to 3 days per month' , '6 to 11 days per year' , '1 to 5 days per year' , '(almost) never' , 'Not asked, person younger than 12 years old'] , [1,2,3,4,5,0,0] , inplace=True)\n",
    "new = pd.get_dummies(MPNWAVE8_Pdata['N_ACTIVITEIT_w5_8'],prefix='N_ACTIVITEIT_w5_8')\n",
    "MPNWAVE8_Pdata = MPNWAVE8_Pdata.join(new)\n",
    "MPNWAVE8_Pdata.drop('N_ACTIVITEIT_w5_8_0', axis=1,inplace=True)"
   ]
  },
  {
   "cell_type": "code",
   "execution_count": 769,
   "metadata": {},
   "outputs": [],
   "source": [
    "MPNWAVE8_Pdata['N_ACTIVITEIT14'].replace(['4 or more days per week' , '1 to 3 days per week' , '1 to 3 days per month' , '6 to 11 days per year' , '1 to 5 days per year' , '(almost) never' , 'Not asked, person younger than 12 years old'] , [1,2,3,4,5,0,0] , inplace=True)\n",
    "new = pd.get_dummies(MPNWAVE8_Pdata['N_ACTIVITEIT14'],prefix='N_ACTIVITEIT14')\n",
    "MPNWAVE8_Pdata = MPNWAVE8_Pdata.join(new)\n",
    "MPNWAVE8_Pdata.drop('N_ACTIVITEIT14_0', axis=1,inplace=True)"
   ]
  },
  {
   "cell_type": "code",
   "execution_count": 770,
   "metadata": {},
   "outputs": [],
   "source": [
    "MPNWAVE8_Pdata['N_ACTIVITEIT_w5_10'].replace(['4 or more days per week' , '1 to 3 days per week' , '1 to 3 days per month' , '6 to 11 days per year' , '1 to 5 days per year' , '(almost) never' , 'Not asked, person younger than 12 years old'] , [1,2,3,4,5,0,0] , inplace=True)\n",
    "new = pd.get_dummies(MPNWAVE8_Pdata['N_ACTIVITEIT_w5_10'],prefix='N_ACTIVITEIT_w5_10')\n",
    "MPNWAVE8_Pdata = MPNWAVE8_Pdata.join(new)\n",
    "MPNWAVE8_Pdata.drop('N_ACTIVITEIT_w5_10_0', axis=1,inplace=True)"
   ]
  },
  {
   "cell_type": "code",
   "execution_count": 771,
   "metadata": {},
   "outputs": [],
   "source": [
    "MPNWAVE8_Pdata['N_ACTIVITEIT13'].replace(['4 or more days per week' , '1 to 3 days per week' , '1 to 3 days per month' , '6 to 11 days per year' , '1 to 5 days per year' , '(almost) never' , 'Not asked, person younger than 12 years old'] , [1,2,3,4,5,0,0] , inplace=True)\n",
    "new = pd.get_dummies(MPNWAVE8_Pdata['N_ACTIVITEIT13'],prefix='N_ACTIVITEIT13')\n",
    "MPNWAVE8_Pdata = MPNWAVE8_Pdata.join(new)\n",
    "MPNWAVE8_Pdata.drop('N_ACTIVITEIT13_0', axis=1,inplace=True)"
   ]
  },
  {
   "cell_type": "code",
   "execution_count": 772,
   "metadata": {},
   "outputs": [],
   "source": [
    "MPNWAVE8_Pdata['GEBRUIK_AUTO_w5'].replace(['4 or more days per week' , '1 to 3 days per week' , '1 to 3 days per month' , '6 to 11 days per year' , '1 to 5 days per year' , '(almost) never' , 'Not asked, person younger than 12 years old'] , [1,2,3,4,5,0,0] , inplace=True)\n",
    "new = pd.get_dummies(MPNWAVE8_Pdata['GEBRUIK_AUTO_w5'],prefix='GEBRUIK_AUTO_w5')\n",
    "MPNWAVE8_Pdata = MPNWAVE8_Pdata.join(new)\n",
    "MPNWAVE8_Pdata.drop('GEBRUIK_AUTO_w5_0', axis=1,inplace=True)"
   ]
  },
  {
   "cell_type": "code",
   "execution_count": 773,
   "metadata": {},
   "outputs": [],
   "source": [
    "MPNWAVE8_Pdata['GEBRUIK_MOTOR_w5'].replace(['4 or more days per week' , '1 to 3 days per week' , '1 to 3 days per month' , '6 to 11 days per year' , '1 to 5 days per year' , '(almost) never' , 'Not asked, person younger than 12 years old'] , [1,2,3,4,5,0,0] , inplace=True)\n",
    "new = pd.get_dummies(MPNWAVE8_Pdata['GEBRUIK_MOTOR_w5'],prefix='GEBRUIK_MOTOR_w5')\n",
    "MPNWAVE8_Pdata = MPNWAVE8_Pdata.join(new)\n",
    "MPNWAVE8_Pdata.drop('GEBRUIK_MOTOR_w5_0', axis=1,inplace=True)"
   ]
  },
  {
   "cell_type": "code",
   "execution_count": 774,
   "metadata": {},
   "outputs": [],
   "source": [
    "MPNWAVE8_Pdata['GEBRUIK_TREIN_w5'].replace(['4 or more days per week' , '1 to 3 days per week' , '1 to 3 days per month' , '6 to 11 days per year' , '1 to 5 days per year' , '(almost) never' , 'Not asked, person younger than 12 years old'] , [1,2,3,4,5,0,0] , inplace=True)\n",
    "new = pd.get_dummies(MPNWAVE8_Pdata['GEBRUIK_TREIN_w5'],prefix='GEBRUIK_TREIN_w5')\n",
    "MPNWAVE8_Pdata = MPNWAVE8_Pdata.join(new)\n",
    "MPNWAVE8_Pdata.drop('GEBRUIK_TREIN_w5_0', axis=1,inplace=True)"
   ]
  },
  {
   "cell_type": "code",
   "execution_count": 775,
   "metadata": {},
   "outputs": [],
   "source": [
    "MPNWAVE8_Pdata['GEBRUIK_BTM_w5'].replace(['4 or more days per week' , '1 to 3 days per week' , '1 to 3 days per month' , '6 to 11 days per year' , '1 to 5 days per year' , '(almost) never' , 'Not asked, person younger than 12 years old'] , [1,2,3,4,5,0,0] , inplace=True)\n",
    "new = pd.get_dummies(MPNWAVE8_Pdata['GEBRUIK_BTM_w5'],prefix='GEBRUIK_BTM_w5')\n",
    "MPNWAVE8_Pdata = MPNWAVE8_Pdata.join(new)\n",
    "MPNWAVE8_Pdata.drop('GEBRUIK_BTM_w5_0', axis=1,inplace=True)"
   ]
  },
  {
   "cell_type": "code",
   "execution_count": 776,
   "metadata": {},
   "outputs": [],
   "source": [
    "MPNWAVE8_Pdata['GEBRUIK_SNOR'].replace(['4 or more days per week' , '1 to 3 days per week' , '1 to 3 days per month' , '6 to 11 days per year' , '1 to 5 days per year' , '(almost) never' , 'Not asked, person younger than 12 years old'] , [1,2,3,4,5,0,0] , inplace=True)\n",
    "new = pd.get_dummies(MPNWAVE8_Pdata['GEBRUIK_SNOR'],prefix='GEBRUIK_SNOR')\n",
    "MPNWAVE8_Pdata = MPNWAVE8_Pdata.join(new)\n",
    "MPNWAVE8_Pdata.drop('GEBRUIK_SNOR_0', axis=1,inplace=True)"
   ]
  },
  {
   "cell_type": "code",
   "execution_count": 777,
   "metadata": {},
   "outputs": [],
   "source": [
    "MPNWAVE8_Pdata['GEBRUIK_BROM_w5'].replace(['4 or more days per week' , '1 to 3 days per week' , '1 to 3 days per month' , '6 to 11 days per year' , '1 to 5 days per year' , '(almost) never' , 'Not asked, person younger than 12 years old'] , [1,2,3,4,5,0,0] , inplace=True)\n",
    "new = pd.get_dummies(MPNWAVE8_Pdata['GEBRUIK_BROM_w5'],prefix='GEBRUIK_BROM_w5')\n",
    "MPNWAVE8_Pdata = MPNWAVE8_Pdata.join(new)\n",
    "MPNWAVE8_Pdata.drop('GEBRUIK_BROM_w5_0', axis=1,inplace=True)\n"
   ]
  },
  {
   "cell_type": "code",
   "execution_count": 778,
   "metadata": {},
   "outputs": [],
   "source": [
    "MPNWAVE8_Pdata['GEBRUIK_FIETS_w5'].replace(['4 or more days per week' , '1 to 3 days per week' , '1 to 3 days per month' , '6 to 11 days per year' , '1 to 5 days per year' , '(almost) never' , 'Not asked, person younger than 12 years old'] , [1,2,3,4,5,0,0] , inplace=True)\n",
    "new = pd.get_dummies(MPNWAVE8_Pdata['GEBRUIK_FIETS_w5'],prefix='GEBRUIK_FIETS_w5')\n",
    "MPNWAVE8_Pdata = MPNWAVE8_Pdata.join(new)\n",
    "MPNWAVE8_Pdata.drop('GEBRUIK_FIETS_w5_0', axis=1,inplace=True)"
   ]
  },
  {
   "cell_type": "code",
   "execution_count": 779,
   "metadata": {},
   "outputs": [],
   "source": [
    "MPNWAVE8_Pdata['GEBRUIK_EBIKE'].replace(['4 or more days per week' , '1 to 3 days per week' , '1 to 3 days per month' , '6 to 11 days per year' , '1 to 5 days per year' , '(almost) never' , 'Not asked, person younger than 12 years old'] , [1,2,3,4,5,0,0] , inplace=True)\n",
    "new = pd.get_dummies(MPNWAVE8_Pdata['GEBRUIK_EBIKE'],prefix='GEBRUIK_EBIKE')\n",
    "MPNWAVE8_Pdata = MPNWAVE8_Pdata.join(new)\n",
    "MPNWAVE8_Pdata.drop('GEBRUIK_EBIKE_0', axis=1,inplace=True)"
   ]
  },
  {
   "cell_type": "code",
   "execution_count": 780,
   "metadata": {},
   "outputs": [],
   "source": [
    "MPNWAVE8_Pdata['GEBRUIK_PEDEL'].replace(['4 or more days per week' , '1 to 3 days per week' , '1 to 3 days per month' , '6 to 11 days per year' , '1 to 5 days per year' , '(almost) never' , 'Not asked, person younger than 12 years old'] , [1,2,3,4,5,0,0] , inplace=True)\n",
    "new = pd.get_dummies(MPNWAVE8_Pdata['GEBRUIK_PEDEL'],prefix='GEBRUIK_PEDEL')\n",
    "MPNWAVE8_Pdata = MPNWAVE8_Pdata.join(new)\n",
    "MPNWAVE8_Pdata.drop('GEBRUIK_PEDEL_0', axis=1,inplace=True)"
   ]
  },
  {
   "cell_type": "code",
   "execution_count": 781,
   "metadata": {},
   "outputs": [],
   "source": [
    "MPNWAVE8_Pdata['GEBRUIK_SCOOTMOB'].replace(['4 or more days per week' , '1 to 3 days per week' , '1 to 3 days per month' , '6 to 11 days per year' , '1 to 5 days per year' , '(almost) never' , 'Not asked, person younger than 12 years old'] , [1,2,3,4,5,0,0] , inplace=True)\n",
    "new = pd.get_dummies(MPNWAVE8_Pdata['GEBRUIK_SCOOTMOB'],prefix='GEBRUIK_SCOOTMOB')\n",
    "MPNWAVE8_Pdata = MPNWAVE8_Pdata.join(new)\n",
    "MPNWAVE8_Pdata.drop('GEBRUIK_SCOOTMOB_0', axis=1,inplace=True)"
   ]
  },
  {
   "cell_type": "code",
   "execution_count": 782,
   "metadata": {},
   "outputs": [],
   "source": [
    "MPNWAVE8_Pdata['GEBRUIK_LOPEN_w5'].replace(['4 or more days per week' , '1 to 3 days per week' , '1 to 3 days per month' , '6 to 11 days per year' , '1 to 5 days per year' , '(almost) never' , 'Not asked, person younger than 12 years old'] , [1,2,3,4,5,0,0] , inplace=True)\n",
    "new = pd.get_dummies(MPNWAVE8_Pdata['GEBRUIK_LOPEN_w5'],prefix='GEBRUIK_LOPEN_w5')\n",
    "MPNWAVE8_Pdata = MPNWAVE8_Pdata.join(new)\n",
    "MPNWAVE8_Pdata.drop('GEBRUIK_LOPEN_w5_0', axis=1,inplace=True)"
   ]
  },
  {
   "cell_type": "code",
   "execution_count": 783,
   "metadata": {},
   "outputs": [],
   "source": [
    "MPNWAVE8_Pdata['GEBRUIK_VLIEGEN_ZAKELIJK'].replace(['not' , '1-2 times' , '3-5 times' , '6 times or more' , 'not asked, person is unemployed'] , [0,2,3,4,0] , inplace=True)\n",
    "new = pd.get_dummies(MPNWAVE8_Pdata['GEBRUIK_VLIEGEN_ZAKELIJK'],prefix='GEBRUIK_VLIEGEN_ZAKELIJK')\n",
    "MPNWAVE8_Pdata = MPNWAVE8_Pdata.join(new)\n",
    "#MPNWAVE8_Pdata.drop('GEBRUIK_VLIEGEN_ZAKELIJK_0', axis=1,inplace=True)\n"
   ]
  },
  {
   "cell_type": "code",
   "execution_count": 784,
   "metadata": {},
   "outputs": [],
   "source": [
    "MPNWAVE8_Pdata['GEBRUIK_VLIEGEN_PRIVE'].replace(['not' , '1-2 times' , '3-5 times' , '6 times or more' , 'not asked, person is unemployed'] , [0,2,3,4,0] , inplace=True)\n",
    "new = pd.get_dummies(MPNWAVE8_Pdata['GEBRUIK_VLIEGEN_PRIVE'],prefix='GEBRUIK_VLIEGEN_PRIVE')\n",
    "MPNWAVE8_Pdata = MPNWAVE8_Pdata.join(new)\n",
    "MPNWAVE8_Pdata.drop('GEBRUIK_VLIEGEN_PRIVE_0', axis=1,inplace=True)\n"
   ]
  },
  {
   "cell_type": "code",
   "execution_count": 785,
   "metadata": {},
   "outputs": [],
   "source": [
    "MPNWAVE8_Pdata['EVENT1'].replace(['No' , 'Yes' ,'Unknown' , 'not asked, person younger than 16 years old'] , [0,1,0,0] , inplace=True)\n",
    "MPNWAVE8_Pdata['EVENT3'].replace(['No' , 'Yes' ,'Unknown' , 'not asked, person younger than 16 years old'] , [0,1,0,0] , inplace=True)\n",
    "MPNWAVE8_Pdata['EVENT4'].replace(['No' , 'Yes' ,'Unknown' , 'not asked, person younger than 16 years old'] , [0,1,0,0] , inplace=True)\n",
    "MPNWAVE8_Pdata['EVENT5'].replace(['No' , 'Yes' ,'Unknown' , 'not asked, person younger than 16 years old'] , [0,1,0,0] , inplace=True)\n",
    "MPNWAVE8_Pdata['EVENT6'].replace(['No' , 'Yes' ,'Unknown' , 'not asked, person younger than 16 years old'] , [0,1,0,0] , inplace=True)\n",
    "MPNWAVE8_Pdata['EVENT7'].replace(['No' , 'Yes' ,'Unknown' , 'not asked, person younger than 16 years old'] , [0,1,0,0] , inplace=True)\n",
    "MPNWAVE8_Pdata['EVENT8'].replace(['No' , 'Yes' ,'Unknown' , 'not asked, person younger than 16 years old'] , [0,1,0,0] , inplace=True)\n",
    "MPNWAVE8_Pdata['EVENT9'].replace(['No' , 'Yes' ,'Unknown' , 'not asked, person younger than 16 years old'] , [0,1,0,0] , inplace=True)\n",
    "MPNWAVE8_Pdata['EVENT10'].replace(['No' , 'Yes' ,'Unknown' , 'not asked, person younger than 16 years old'] , [0,1,0,0] , inplace=True)\n",
    "MPNWAVE8_Pdata['EVENT11'].replace(['No' , 'Yes' ,'Unknown' , 'not asked, person younger than 16 years old'] , [0,1,0,0] , inplace=True)\n",
    "MPNWAVE8_Pdata['EVENT12'].replace(['No' , 'Yes' ,'Unknown' , 'not asked, person younger than 16 years old'] , [0,1,0,0] , inplace=True)\n",
    "MPNWAVE8_Pdata['EVENT13'].replace(['No' , 'Yes' ,'Unknown' , 'not asked, person younger than 16 years old'] , [0,1,0,0] , inplace=True)\n",
    "MPNWAVE8_Pdata['EVENT14'].replace(['No' , 'Yes' ,'Unknown' , 'not asked, person younger than 16 years old'] , [0,1,0,0] , inplace=True)\n",
    "MPNWAVE8_Pdata['EVENT15'].replace(['No' , 'Yes' ,'Unknown' , 'not asked, person younger than 16 years old'] , [0,1,0,0] , inplace=True)\n",
    "MPNWAVE8_Pdata['EVENT16'].replace(['No' , 'Yes' ,'Unknown' , 'not asked, person younger than 16 years old'] , [0,1,0,0] , inplace=True)\n",
    "MPNWAVE8_Pdata['EVENT17'].replace(['No' , 'Yes' ,'Unknown' , 'not asked, person younger than 16 years old'] , [0,1,0,0] , inplace=True)\n"
   ]
  },
  {
   "cell_type": "code",
   "execution_count": 786,
   "metadata": {},
   "outputs": [],
   "source": [
    "MPNWAVE8_Pdata['EVENT1_w5_TIJD'].replace(['0 - 3 months' , '4 - 6 months' , '7 - 9 months' , '10 - 12 months' , '12 - 24 months' , 'event did not occur' , 'Unknown' , 'not asked, person younger than 16 years old'] , [1,2,3,4,5,0,0,0] , inplace=True)\n",
    "new = pd.get_dummies(MPNWAVE8_Pdata['EVENT1_w5_TIJD'],prefix='EVENT1_w5_TIJD')\n",
    "MPNWAVE8_Pdata = MPNWAVE8_Pdata.join(new)\n",
    "MPNWAVE8_Pdata.drop('EVENT1_w5_TIJD_0', axis=1,inplace=True)"
   ]
  },
  {
   "cell_type": "code",
   "execution_count": 787,
   "metadata": {},
   "outputs": [],
   "source": [
    "MPNWAVE8_Pdata['EVENT3_w5_TIJD'].replace(['0 - 3 months' , '4 - 6 months' , '7 - 9 months' , '10 - 12 months' , '12 - 24 months' , 'event did not occur' , 'Unknown' , 'not asked, person younger than 16 years old'] , [1,2,3,4,5,0,0,0] , inplace=True)\n",
    "new = pd.get_dummies(MPNWAVE8_Pdata['EVENT3_w5_TIJD'],prefix='EVENT3_w5_TIJD')\n",
    "MPNWAVE8_Pdata = MPNWAVE8_Pdata.join(new)\n",
    "MPNWAVE8_Pdata.drop('EVENT3_w5_TIJD_0', axis=1,inplace=True)"
   ]
  },
  {
   "cell_type": "code",
   "execution_count": 788,
   "metadata": {},
   "outputs": [],
   "source": [
    "MPNWAVE8_Pdata['EVENT4_w5_TIJD'].replace(['0 - 3 months' , '4 - 6 months' , '7 - 9 months' , '10 - 12 months' , '12 - 24 months' , 'event did not occur' , 'Unknown' , 'not asked, person younger than 16 years old'] , [1,2,3,4,5,0,0,0] , inplace=True)\n",
    "new = pd.get_dummies(MPNWAVE8_Pdata['EVENT4_w5_TIJD'],prefix='EVENT4_w5_TIJD')\n",
    "MPNWAVE8_Pdata = MPNWAVE8_Pdata.join(new)\n",
    "MPNWAVE8_Pdata.drop('EVENT4_w5_TIJD_0', axis=1,inplace=True)"
   ]
  },
  {
   "cell_type": "code",
   "execution_count": 789,
   "metadata": {},
   "outputs": [],
   "source": [
    "MPNWAVE8_Pdata['EVENT5_w5_TIJD'].replace(['0 - 3 months' , '4 - 6 months' , '7 - 9 months' , '10 - 12 months' , '12 - 24 months' , 'event did not occur' , 'Unknown' , 'not asked, person younger than 16 years old'] , [1,2,3,4,5,0,0,0] , inplace=True)\n",
    "new = pd.get_dummies(MPNWAVE8_Pdata['EVENT5_w5_TIJD'],prefix='EVENT5_w5_TIJD')\n",
    "MPNWAVE8_Pdata = MPNWAVE8_Pdata.join(new)\n",
    "MPNWAVE8_Pdata.drop('EVENT5_w5_TIJD_0', axis=1,inplace=True)"
   ]
  },
  {
   "cell_type": "code",
   "execution_count": 790,
   "metadata": {},
   "outputs": [],
   "source": [
    "MPNWAVE8_Pdata['EVENT6_w5_TIJD'].replace(['0 - 3 months' , '4 - 6 months' , '7 - 9 months' , '10 - 12 months' , '12 - 24 months' , 'event did not occur' , 'Unknown' , 'not asked, person younger than 16 years old'] , [1,2,3,4,5,0,0,0] , inplace=True)\n",
    "new = pd.get_dummies(MPNWAVE8_Pdata['EVENT6_w5_TIJD'],prefix='EVENT6_w5_TIJD')\n",
    "MPNWAVE8_Pdata = MPNWAVE8_Pdata.join(new)\n",
    "MPNWAVE8_Pdata.drop('EVENT6_w5_TIJD_0', axis=1,inplace=True)"
   ]
  },
  {
   "cell_type": "code",
   "execution_count": 791,
   "metadata": {},
   "outputs": [],
   "source": [
    "MPNWAVE8_Pdata['EVENT7_w5_TIJD'].replace(['0 - 3 months' , '4 - 6 months' , '7 - 9 months' , '10 - 12 months' , '12 - 24 months' , 'event did not occur' , 'Unknown' , 'not asked, person younger than 16 years old'] , [1,2,3,4,5,0,0,0] , inplace=True)\n",
    "new = pd.get_dummies(MPNWAVE8_Pdata['EVENT7_w5_TIJD'],prefix='EVENT7_w5_TIJD')\n",
    "MPNWAVE8_Pdata = MPNWAVE8_Pdata.join(new)\n",
    "MPNWAVE8_Pdata.drop('EVENT7_w5_TIJD_0', axis=1,inplace=True)"
   ]
  },
  {
   "cell_type": "code",
   "execution_count": 792,
   "metadata": {},
   "outputs": [],
   "source": [
    "MPNWAVE8_Pdata['EVENT8_w5_TIJD'].replace(['0 - 3 months' , '4 - 6 months' , '7 - 9 months' , '10 - 12 months' , '12 - 24 months' , 'event did not occur' , 'Unknown' , 'not asked, person younger than 16 years old'] , [1,2,3,4,5,0,0,0] , inplace=True)\n",
    "new = pd.get_dummies(MPNWAVE8_Pdata['EVENT8_w5_TIJD'],prefix='EVENT8_w5_TIJD')\n",
    "MPNWAVE8_Pdata = MPNWAVE8_Pdata.join(new)\n",
    "MPNWAVE8_Pdata.drop('EVENT8_w5_TIJD_0', axis=1,inplace=True)"
   ]
  },
  {
   "cell_type": "code",
   "execution_count": 793,
   "metadata": {},
   "outputs": [],
   "source": [
    "MPNWAVE8_Pdata['EVENT9_w5_TIJD'].replace(['0 - 3 months' , '4 - 6 months' , '7 - 9 months' , '10 - 12 months' , '12 - 24 months' , 'event did not occur' , 'Unknown' , 'not asked, person younger than 16 years old'] , [1,2,3,4,5,0,0,0] , inplace=True)\n",
    "new = pd.get_dummies(MPNWAVE8_Pdata['EVENT9_w5_TIJD'],prefix='EVENT9_w5_TIJD')\n",
    "MPNWAVE8_Pdata = MPNWAVE8_Pdata.join(new)\n",
    "MPNWAVE8_Pdata.drop('EVENT9_w5_TIJD_0', axis=1,inplace=True)"
   ]
  },
  {
   "cell_type": "code",
   "execution_count": 794,
   "metadata": {},
   "outputs": [],
   "source": [
    "MPNWAVE8_Pdata['EVENT10_w5_TIJD'].replace(['0 - 3 months' , '4 - 6 months' , '7 - 9 months' , '10 - 12 months' , '12 - 24 months' , 'event did not occur' , 'Unknown' , 'not asked, person younger than 16 years old'] , [1,2,3,4,5,0,0,0] , inplace=True)\n",
    "new = pd.get_dummies(MPNWAVE8_Pdata['EVENT10_w5_TIJD'],prefix='EVENT10_w5_TIJD')\n",
    "MPNWAVE8_Pdata = MPNWAVE8_Pdata.join(new)\n",
    "MPNWAVE8_Pdata.drop('EVENT10_w5_TIJD_0', axis=1,inplace=True)"
   ]
  },
  {
   "cell_type": "code",
   "execution_count": 795,
   "metadata": {},
   "outputs": [],
   "source": [
    "MPNWAVE8_Pdata['EVENT11_w5_TIJD'].replace(['0 - 3 months' , '4 - 6 months' , '7 - 9 months' , '10 - 12 months' , '12 - 24 months' , 'event did not occur' , 'Unknown' , 'not asked, person younger than 16 years old'] , [1,2,3,4,5,0,0,0] , inplace=True)\n",
    "new = pd.get_dummies(MPNWAVE8_Pdata['EVENT11_w5_TIJD'],prefix='EVENT11_w5_TIJD')\n",
    "MPNWAVE8_Pdata = MPNWAVE8_Pdata.join(new)\n",
    "MPNWAVE8_Pdata.drop('EVENT11_w5_TIJD_0', axis=1,inplace=True)"
   ]
  },
  {
   "cell_type": "code",
   "execution_count": 796,
   "metadata": {},
   "outputs": [],
   "source": [
    "MPNWAVE8_Pdata['EVENT12_w5_TIJD'].replace(['0 - 3 months' , '4 - 6 months' , '7 - 9 months' , '10 - 12 months' , '12 - 24 months' , 'event did not occur' , 'Unknown' , 'not asked, person younger than 16 years old'] , [1,2,3,4,5,0,0,0] , inplace=True)\n",
    "new = pd.get_dummies(MPNWAVE8_Pdata['EVENT12_w5_TIJD'],prefix='EVENT12_w5_TIJD')\n",
    "MPNWAVE8_Pdata = MPNWAVE8_Pdata.join(new)\n",
    "MPNWAVE8_Pdata.drop('EVENT12_w5_TIJD_0', axis=1,inplace=True)"
   ]
  },
  {
   "cell_type": "code",
   "execution_count": 797,
   "metadata": {},
   "outputs": [],
   "source": [
    "MPNWAVE8_Pdata['EVENT13_w5_TIJD'].replace(['0 - 3 months' , '4 - 6 months' , '7 - 9 months' , '10 - 12 months' , '12 - 24 months' , 'event did not occur' , 'Unknown' , 'not asked, person younger than 16 years old'] , [1,2,3,4,5,0,0,0] , inplace=True)\n",
    "new = pd.get_dummies(MPNWAVE8_Pdata['EVENT13_w5_TIJD'],prefix='EVENT13_w5_TIJD')\n",
    "MPNWAVE8_Pdata = MPNWAVE8_Pdata.join(new)\n",
    "MPNWAVE8_Pdata.drop('EVENT13_w5_TIJD_0', axis=1,inplace=True)"
   ]
  },
  {
   "cell_type": "code",
   "execution_count": 798,
   "metadata": {},
   "outputs": [],
   "source": [
    "MPNWAVE8_Pdata['EVENT14_w5_TIJD'].replace(['0 - 3 months' , '4 - 6 months' , '7 - 9 months' , '10 - 12 months' , '12 - 24 months' , 'event did not occur' , 'Unknown' , 'not asked, person younger than 16 years old'] , [1,2,3,4,5,0,0,0] , inplace=True)\n",
    "new = pd.get_dummies(MPNWAVE8_Pdata['EVENT14_w5_TIJD'],prefix='EVENT14_w5_TIJD')\n",
    "MPNWAVE8_Pdata = MPNWAVE8_Pdata.join(new)\n",
    "MPNWAVE8_Pdata.drop('EVENT14_w5_TIJD_0', axis=1,inplace=True)"
   ]
  },
  {
   "cell_type": "code",
   "execution_count": 799,
   "metadata": {},
   "outputs": [],
   "source": [
    "MPNWAVE8_Pdata['EVENT15_w5_TIJD'].replace(['0 - 3 months' , '4 - 6 months' , '7 - 9 months' , '10 - 12 months' , '12 - 24 months' , 'event did not occur' , 'Unknown' , 'not asked, person younger than 16 years old'] , [1,2,3,4,5,0,0,0] , inplace=True)\n",
    "new = pd.get_dummies(MPNWAVE8_Pdata['EVENT15_w5_TIJD'],prefix='EVENT15_w5_TIJD')\n",
    "MPNWAVE8_Pdata = MPNWAVE8_Pdata.join(new)\n",
    "MPNWAVE8_Pdata.drop('EVENT15_w5_TIJD_0', axis=1,inplace=True)"
   ]
  },
  {
   "cell_type": "code",
   "execution_count": 800,
   "metadata": {},
   "outputs": [],
   "source": [
    "MPNWAVE8_Pdata['EVENT16_w5_TIJD'].replace(['0 - 3 months' , '4 - 6 months' , '7 - 9 months' , '10 - 12 months' , '12 - 24 months' , 'event did not occur' , 'Unknown' , 'not asked, person younger than 16 years old'] , [1,2,3,4,5,0,0,0] , inplace=True)\n",
    "new = pd.get_dummies(MPNWAVE8_Pdata['EVENT16_w5_TIJD'],prefix='EVENT16_w5_TIJD')\n",
    "MPNWAVE8_Pdata = MPNWAVE8_Pdata.join(new)\n",
    "MPNWAVE8_Pdata.drop('EVENT16_w5_TIJD_0', axis=1,inplace=True)"
   ]
  },
  {
   "cell_type": "code",
   "execution_count": 801,
   "metadata": {},
   "outputs": [],
   "source": [
    "MPNWAVE8_Pdata['EVENT17_w5_TIJD'].replace(['0 - 3 months' , '4 - 6 months' , '7 - 9 months' , '10 - 12 months' , '12 - 24 months' , 'event did not occur' , 'Unknown' , 'not asked, person younger than 16 years old'] , [1,2,3,4,5,0,0,0] , inplace=True)\n",
    "new = pd.get_dummies(MPNWAVE8_Pdata['EVENT17_w5_TIJD'],prefix='EVENT17_w5_TIJD')\n",
    "MPNWAVE8_Pdata = MPNWAVE8_Pdata.join(new)\n",
    "MPNWAVE8_Pdata.drop('EVENT17_w5_TIJD_0', axis=1,inplace=True)"
   ]
  },
  {
   "cell_type": "code",
   "execution_count": 802,
   "metadata": {},
   "outputs": [],
   "source": [
    "MPNWAVE8_Pdata['INVLOED1'].replace(['No' , 'Yes' ,'Event did not occur' , 'Event experienced, no follow-up questions asked due to routing error' , 'not asked, person younger than 16 years old'] , [0,1,0,0,0] , inplace=True)\n",
    "MPNWAVE8_Pdata['INVLOED2'].replace(['No' , 'Yes' ,'Event did not occur' , 'Event experienced, no follow-up questions asked due to routing error' , 'not asked, person younger than 16 years old'] , [0,1,0,0,0] , inplace=True)\n",
    "MPNWAVE8_Pdata['INVLOED3'].replace(['No' , 'Yes' ,'Event did not occur' , 'Event experienced, no follow-up questions asked due to routing error' , 'not asked, person younger than 16 years old'] , [0,1,0,0,0] , inplace=True)\n",
    "MPNWAVE8_Pdata['INVLOED4'].replace(['No' , 'Yes' ,'Event did not occur' , 'Event experienced, no follow-up questions asked due to routing error' , 'not asked, person younger than 16 years old'] , [0,1,0,0,0] , inplace=True)\n",
    "MPNWAVE8_Pdata['INVLOED5'].replace(['No' , 'Yes' ,'Event did not occur' , 'Event experienced, no follow-up questions asked due to routing error' , 'not asked, person younger than 16 years old'] , [0,1,0,0,0] , inplace=True)\n",
    "MPNWAVE8_Pdata['INVLOED6'].replace(['No' , 'Yes' ,'Event did not occur' , 'Event experienced, no follow-up questions asked due to routing error' , 'not asked, person younger than 16 years old'] , [0,1,0,0,0] , inplace=True)\n",
    "MPNWAVE8_Pdata['INVLOED7'].replace(['No' , 'Yes' ,'Event did not occur' , 'Event experienced, no follow-up questions asked due to routing error' , 'not asked, person younger than 16 years old'] , [0,1,0,0,0] , inplace=True)\n",
    "MPNWAVE8_Pdata['INVLOED8'].replace(['No' , 'Yes' ,'Event did not occur' , 'Event experienced, no follow-up questions asked due to routing error' , 'not asked, person younger than 16 years old'] , [0,1,0,0,0] , inplace=True)\n",
    "MPNWAVE8_Pdata['INVLOED9'].replace(['No' , 'Yes' ,'Event did not occur' , 'Event experienced, no follow-up questions asked due to routing error' , 'not asked, person younger than 16 years old'] , [0,1,0,0,0] , inplace=True)\n",
    "MPNWAVE8_Pdata['INVLOED_w5_10'].replace(['No' , 'Yes' ,'Event did not occur' , 'Event experienced, no follow-up questions asked due to routing error' , 'not asked, person younger than 16 years old'] , [0,1,0,0,0] , inplace=True)\n",
    "MPNWAVE8_Pdata['INVLOED11'].replace(['No' , 'Yes' ,'Event did not occur' , 'Event experienced, no follow-up questions asked due to routing error' , 'not asked, person younger than 16 years old'] , [0,1,0,0,0] , inplace=True)\n",
    "MPNWAVE8_Pdata['INVLOED12'].replace(['No' , 'Yes' ,'Event did not occur' , 'Event experienced, no follow-up questions asked due to routing error' , 'not asked, person younger than 16 years old'] , [0,1,0,0,0] , inplace=True)\n"
   ]
  },
  {
   "cell_type": "code",
   "execution_count": 803,
   "metadata": {},
   "outputs": [],
   "source": [
    "MPNWAVE8_Pdata['INVLOED1_w5_EVENT1'].replace(['No' , 'Yes' , 'Unknown' ,'Event did not occur' , 'Event experienced, no follow-up questions asked due to routing error' , 'not asked, person younger than 16 years old'] , [0,1,0,0,0,0] , inplace=True)\n",
    "MPNWAVE8_Pdata['INVLOED2_w5_EVENT1'].replace(['No' , 'Yes' , 'Unknown' ,'Event did not occur' , 'Event experienced, no follow-up questions asked due to routing error' , 'not asked, person younger than 16 years old'] , [0,1,0,0,0,0] , inplace=True)\n",
    "MPNWAVE8_Pdata['INVLOED3_w5_EVENT1'].replace(['No' , 'Yes' , 'Unknown' ,'Event did not occur' , 'Event experienced, no follow-up questions asked due to routing error' , 'not asked, person younger than 16 years old'] , [0,1,0,0,0,0] , inplace=True)\n",
    "MPNWAVE8_Pdata['INVLOED4_w5_EVENT1'].replace(['No' , 'Yes' , 'Unknown' ,'Event did not occur' , 'Event experienced, no follow-up questions asked due to routing error' , 'not asked, person younger than 16 years old'] , [0,1,0,0,0,0] , inplace=True)\n",
    "MPNWAVE8_Pdata['INVLOED5_w5_EVENT1'].replace(['No' , 'Yes' , 'Unknown' ,'Event did not occur' , 'Event experienced, no follow-up questions asked due to routing error' , 'not asked, person younger than 16 years old'] , [0,1,0,0,0,0] , inplace=True)\n",
    "MPNWAVE8_Pdata['INVLOED6_w5_EVENT1'].replace(['No' , 'Yes' , 'Unknown' ,'Event did not occur' , 'Event experienced, no follow-up questions asked due to routing error' , 'Not asked, person younger than 16 years old'] , [0,1,0,0,0,0] , inplace=True)\n",
    "MPNWAVE8_Pdata['INVLOED7_w5_EVENT1'].replace(['No' , 'Yes' , 'Unknown' ,'Event did not occur' , 'Event experienced, no follow-up questions asked due to routing error' , 'Not asked, person younger than 16 years old'] , [0,1,0,0,0,0] , inplace=True)\n",
    "MPNWAVE8_Pdata['INVLOED8_w5_EVENT1'].replace(['No' , 'Yes' , 'Unknown' ,'Event did not occur' , 'Event experienced, no follow-up questions asked due to routing error' , 'Not asked, person younger than 16 years old'] , [0,1,0,0,0,0] , inplace=True)\n",
    "MPNWAVE8_Pdata['INVLOED9_w5_EVENT1'].replace(['No' , 'Yes' , 'Unknown' ,'Event did not occur' , 'Event experienced, no follow-up questions asked due to routing error' , 'Not asked, person younger than 16 years old'] , [0,1,0,0,0,0] , inplace=True)\n",
    "MPNWAVE8_Pdata['INVLOED10_w5_EVENT1'].replace(['No' , 'Yes' , 'Unknown' ,'Event did not occur' , 'Event experienced, no follow-up questions asked due to routing error' , 'Not asked, person younger than 16 years old'] , [0,1,0,0,0,0] , inplace=True)\n",
    "MPNWAVE8_Pdata['INVLOED11_w5_EVENT1'].replace(['No' , 'Yes' , 'Unknown' ,'Event did not occur' , 'Event experienced, no follow-up questions asked due to routing error' , 'Not asked, person younger than 16 years old'] , [0,1,0,0,0,0] , inplace=True)\n",
    "MPNWAVE8_Pdata['INVLOED12_w5_EVENT1'].replace(['No' , 'Yes' , 'Unknown' ,'Event did not occur' , 'Event experienced, no follow-up questions asked due to routing error' , 'Not asked, person younger than 16 years old'] , [0,1,0,0,0,0] , inplace=True)\n",
    "MPNWAVE8_Pdata['INVLOED_w5_EVENT1'].replace(['No' , 'Yes' , 'Unknown' ,'Event did not occur' , 'Event experienced, no follow-up questions asked due to routing error' , 'Not asked, person younger than 16 years old'] , [0,1,0,0,0,0] , inplace=True)\n"
   ]
  },
  {
   "cell_type": "code",
   "execution_count": 804,
   "metadata": {},
   "outputs": [],
   "source": [
    "MPNWAVE8_Pdata['INVLOED1_w5_EVENT3'].replace(['No' , 'Yes' , 'Unknown' ,'Event did not occur' , 'Event experienced, no follow-up questions asked due to routing error' , 'Not asked, person younger than 16 years old'] , [0,1,0,0,0,0] , inplace=True)\n",
    "MPNWAVE8_Pdata['INVLOED2_w5_EVENT3'].replace(['No' , 'Yes' , 'Unknown' ,'Event did not occur' , 'Event experienced, no follow-up questions asked due to routing error' , 'Not asked, person younger than 16 years old'] , [0,1,0,0,0,0] , inplace=True)\n",
    "MPNWAVE8_Pdata['INVLOED3_w5_EVENT3'].replace(['No' , 'Yes' , 'Unknown' ,'Event did not occur' , 'Event experienced, no follow-up questions asked due to routing error' , 'Not asked, person younger than 16 years old'] , [0,1,0,0,0,0] , inplace=True)\n",
    "MPNWAVE8_Pdata['INVLOED4_w5_EVENT3'].replace(['No' , 'Yes' , 'Unknown' ,'Event did not occur' , 'Event experienced, no follow-up questions asked due to routing error' , 'Not asked, person younger than 16 years old'] , [0,1,0,0,0,0] , inplace=True)\n",
    "MPNWAVE8_Pdata['INVLOED5_w5_EVENT3'].replace(['No' , 'Yes' , 'Unknown' ,'Event did not occur' , 'Event experienced, no follow-up questions asked due to routing error' , 'Not asked, person younger than 16 years old'] , [0,1,0,0,0,0] , inplace=True)\n",
    "MPNWAVE8_Pdata['INVLOED6_w5_EVENT3'].replace(['No' , 'Yes' , 'Unknown' ,'Event did not occur' , 'Event experienced, no follow-up questions asked due to routing error' , 'Not asked, person younger than 16 years old'] , [0,1,0,0,0,0] , inplace=True)\n",
    "MPNWAVE8_Pdata['INVLOED7_w5_EVENT3'].replace(['No' , 'Yes' , 'Unknown' ,'Event did not occur' , 'Event experienced, no follow-up questions asked due to routing error' , 'Not asked, person younger than 16 years old'] , [0,1,0,0,0,0] , inplace=True)\n",
    "MPNWAVE8_Pdata['INVLOED8_w5_EVENT3'].replace(['No' , 'Yes' , 'Unknown' ,'Event did not occur' , 'Event experienced, no follow-up questions asked due to routing error' , 'Not asked, person younger than 16 years old'] , [0,1,0,0,0,0] , inplace=True)\n",
    "MPNWAVE8_Pdata['INVLOED9_w5_EVENT3'].replace(['No' , 'Yes' , 'Unknown' ,'Event did not occur' , 'Event experienced, no follow-up questions asked due to routing error' , 'Not asked, person younger than 16 years old'] , [0,1,0,0,0,0] , inplace=True)\n",
    "MPNWAVE8_Pdata['INVLOED10_w5_EVENT3'].replace(['No' , 'Yes' , 'Unknown' ,'Event did not occur' , 'Event experienced, no follow-up questions asked due to routing error' , 'Not asked, person younger than 16 years old'] , [0,1,0,0,0,0] , inplace=True)\n",
    "MPNWAVE8_Pdata['INVLOED11_w5_EVENT3'].replace(['No' , 'Yes' , 'Unknown' ,'Event did not occur' , 'Event experienced, no follow-up questions asked due to routing error' , 'Not asked, person younger than 16 years old'] , [0,1,0,0,0,0] , inplace=True)\n",
    "MPNWAVE8_Pdata['INVLOED12_w5_EVENT3'].replace(['No' , 'Yes' , 'Unknown' ,'Event did not occur' , 'Event experienced, no follow-up questions asked due to routing error' , 'Not asked, person younger than 16 years old'] , [0,1,0,0,0,0] , inplace=True)\n",
    "MPNWAVE8_Pdata['INVLOED_w5_EVENT3'].replace(['No' , 'Yes' , 'Unknown' ,'Event did not occur' , 'Event experienced, no follow-up questions asked due to routing error' , 'Not asked, person younger than 16 years old'] , [0,1,0,0,0,0] , inplace=True)\n"
   ]
  },
  {
   "cell_type": "code",
   "execution_count": 805,
   "metadata": {},
   "outputs": [],
   "source": [
    "MPNWAVE8_Pdata['INVLOED1_w5_EVENT4'].replace(['No' , 'Yes' , 'Unknown' ,'Event did not occur' , 'Event experienced, no follow-up questions asked due to routing error' , 'Not asked, person younger than 16 years old'] , [0,1,0,0,0,0] , inplace=True)\n",
    "MPNWAVE8_Pdata['INVLOED2_w5_EVENT4'].replace(['No' , 'Yes' , 'Unknown' ,'Event did not occur' , 'Event experienced, no follow-up questions asked due to routing error' , 'Not asked, person younger than 16 years old'] , [0,1,0,0,0,0] , inplace=True)\n",
    "MPNWAVE8_Pdata['INVLOED3_w5_EVENT4'].replace(['No' , 'Yes' , 'Unknown' ,'Event did not occur' , 'Event experienced, no follow-up questions asked due to routing error' , 'Not asked, person younger than 16 years old'] , [0,1,0,0,0,0] , inplace=True)\n",
    "MPNWAVE8_Pdata['INVLOED4_w5_EVENT4'].replace(['No' , 'Yes' , 'Unknown' ,'Event did not occur' , 'Event experienced, no follow-up questions asked due to routing error' , 'Not asked, person younger than 16 years old'] , [0,1,0,0,0,0] , inplace=True)\n",
    "MPNWAVE8_Pdata['INVLOED5_w5_EVENT4'].replace(['No' , 'Yes' , 'Unknown' ,'Event did not occur' , 'Event experienced, no follow-up questions asked due to routing error' , 'Not asked, person younger than 16 years old'] , [0,1,0,0,0,0] , inplace=True)\n",
    "MPNWAVE8_Pdata['INVLOED6_w5_EVENT4'].replace(['No' , 'Yes' , 'Unknown' ,'Event did not occur' , 'Event experienced, no follow-up questions asked due to routing error' , 'Not asked, person younger than 16 years old'] , [0,1,0,0,0,0] , inplace=True)\n",
    "MPNWAVE8_Pdata['INVLOED7_w5_EVENT4'].replace(['No' , 'Yes' , 'Unknown' ,'Event did not occur' , 'Event experienced, no follow-up questions asked due to routing error' , 'Not asked, person younger than 16 years old'] , [0,1,0,0,0,0] , inplace=True)\n",
    "MPNWAVE8_Pdata['INVLOED8_w5_EVENT4'].replace(['No' , 'Yes' , 'Unknown' ,'Event did not occur' , 'Event experienced, no follow-up questions asked due to routing error' , 'Not asked, person younger than 16 years old'] , [0,1,0,0,0,0] , inplace=True)\n",
    "MPNWAVE8_Pdata['INVLOED9_w5_EVENT4'].replace(['No' , 'Yes' , 'Unknown' ,'Event did not occur' , 'Event experienced, no follow-up questions asked due to routing error' , 'Not asked, person younger than 16 years old'] , [0,1,0,0,0,0] , inplace=True)\n",
    "MPNWAVE8_Pdata['INVLOED10_w5_EVENT4'].replace(['No' , 'Yes' , 'Unknown' ,'Event did not occur' , 'Event experienced, no follow-up questions asked due to routing error' , 'Not asked, person younger than 16 years old'] , [0,1,0,0,0,0] , inplace=True)\n",
    "MPNWAVE8_Pdata['INVLOED11_w5_EVENT4'].replace(['No' , 'Yes' , 'Unknown' ,'Event did not occur' , 'Event experienced, no follow-up questions asked due to routing error' , 'Not asked, person younger than 16 years old'] , [0,1,0,0,0,0] , inplace=True)\n",
    "MPNWAVE8_Pdata['INVLOED12_w5_EVENT4'].replace(['No' , 'Yes' , 'Unknown' ,'Event did not occur' , 'Event experienced, no follow-up questions asked due to routing error' , 'Not asked, person younger than 16 years old'] , [0,1,0,0,0,0] , inplace=True)\n",
    "MPNWAVE8_Pdata['INVLOED_w5_EVENT4'].replace(['No' , 'Yes' , 'Unknown' ,'Event did not occur' , 'Event experienced, no follow-up questions asked due to routing error' , 'Not asked, person younger than 16 years old'] , [0,1,0,0,0,0] , inplace=True)\n"
   ]
  },
  {
   "cell_type": "code",
   "execution_count": 806,
   "metadata": {},
   "outputs": [],
   "source": [
    "MPNWAVE8_Pdata['INVLOED1_w5_EVENT5'].replace(['No' , 'Yes' , 'Unknown' ,'Event did not occur' , 'Event experienced, no follow-up questions asked due to routing error' , 'Not asked, person younger than 16 years old'] , [0,1,0,0,0,0] , inplace=True)\n",
    "MPNWAVE8_Pdata['INVLOED2_w5_EVENT5'].replace(['No' , 'Yes' , 'Unknown' ,'Event did not occur' , 'Event experienced, no follow-up questions asked due to routing error' , 'Not asked, person younger than 16 years old'] , [0,1,0,0,0,0] , inplace=True)\n",
    "MPNWAVE8_Pdata['INVLOED3_w5_EVENT5'].replace(['No' , 'Yes' , 'Unknown' ,'Event did not occur' , 'Event experienced, no follow-up questions asked due to routing error' , 'Not asked, person younger than 16 years old'] , [0,1,0,0,0,0] , inplace=True)\n",
    "MPNWAVE8_Pdata['INVLOED4_w5_EVENT5'].replace(['No' , 'Yes' , 'Unknown' ,'Event did not occur' , 'Event experienced, no follow-up questions asked due to routing error' , 'Not asked, person younger than 16 years old'] , [0,1,0,0,0,0] , inplace=True)\n",
    "MPNWAVE8_Pdata['INVLOED5_w5_EVENT5'].replace(['No' , 'Yes' , 'Unknown' ,'Event did not occur' , 'Event experienced, no follow-up questions asked due to routing error' , 'Not asked, person younger than 16 years old'] , [0,1,0,0,0,0] , inplace=True)\n",
    "MPNWAVE8_Pdata['INVLOED6_w5_EVENT5'].replace(['No' , 'Yes' , 'Unknown' ,'Event did not occur' , 'Event experienced, no follow-up questions asked due to routing error' , 'Not asked, person younger than 16 years old'] , [0,1,0,0,0,0] , inplace=True)\n",
    "MPNWAVE8_Pdata['INVLOED7_w5_EVENT5'].replace(['No' , 'Yes' , 'Unknown' ,'Event did not occur' , 'Event experienced, no follow-up questions asked due to routing error' , 'Not asked, person younger than 16 years old'] , [0,1,0,0,0,0] , inplace=True)\n",
    "MPNWAVE8_Pdata['INVLOED8_w5_EVENT5'].replace(['No' , 'Yes' , 'Unknown' ,'Event did not occur' , 'Event experienced, no follow-up questions asked due to routing error' , 'Not asked, person younger than 16 years old'] , [0,1,0,0,0,0] , inplace=True)\n",
    "MPNWAVE8_Pdata['INVLOED9_w5_EVENT5'].replace(['No' , 'Yes' , 'Unknown' ,'Event did not occur' , 'Event experienced, no follow-up questions asked due to routing error' , 'Not asked, person younger than 16 years old'] , [0,1,0,0,0,0] , inplace=True)\n",
    "MPNWAVE8_Pdata['INVLOED10_w5_EVENT5'].replace(['No' , 'Yes' , 'Unknown' ,'Event did not occur' , 'Event experienced, no follow-up questions asked due to routing error' , 'Not asked, person younger than 16 years old'] , [0,1,0,0,0,0] , inplace=True)\n",
    "MPNWAVE8_Pdata['INVLOED11_w5_EVENT5'].replace(['No' , 'Yes' , 'Unknown' ,'Event did not occur' , 'Event experienced, no follow-up questions asked due to routing error' , 'Not asked, person younger than 16 years old'] , [0,1,0,0,0,0] , inplace=True)\n",
    "MPNWAVE8_Pdata['INVLOED12_w5_EVENT5'].replace(['No' , 'Yes' , 'Unknown' ,'Event did not occur' , 'Event experienced, no follow-up questions asked due to routing error' , 'Not asked, person younger than 16 years old'] , [0,1,0,0,0,0] , inplace=True)\n",
    "MPNWAVE8_Pdata['INVLOED_w5_EVENT5'].replace(['No' , 'Yes' , 'Unknown' ,'Event did not occur' , 'Event experienced, no follow-up questions asked due to routing error' , 'Not asked, person younger than 16 years old'] , [0,1,0,0,0,0] , inplace=True)\n"
   ]
  },
  {
   "cell_type": "code",
   "execution_count": 807,
   "metadata": {},
   "outputs": [],
   "source": [
    "MPNWAVE8_Pdata['INVLOED1_w5_EVENT6'].replace(['No' , 'Yes' , 'Unknown' ,'Event did not occur' , 'Event experienced, no follow-up questions asked due to routing error' , 'Not asked, person younger than 16 years old'] , [0,1,0,0,0,0] , inplace=True)\n",
    "MPNWAVE8_Pdata['INVLOED2_w5_EVENT6'].replace(['No' , 'Yes' , 'Unknown' ,'Event did not occur' , 'Event experienced, no follow-up questions asked due to routing error' , 'Not asked, person younger than 16 years old'] , [0,1,0,0,0,0] , inplace=True)\n",
    "MPNWAVE8_Pdata['INVLOED3_w5_EVENT6'].replace(['No' , 'Yes' , 'Unknown' ,'Event did not occur' , 'Event experienced, no follow-up questions asked due to routing error' , 'Not asked, person younger than 16 years old'] , [0,1,0,0,0,0] , inplace=True)\n",
    "MPNWAVE8_Pdata['INVLOED4_w5_EVENT6'].replace(['No' , 'Yes' , 'Unknown' ,'Event did not occur' , 'Event experienced, no follow-up questions asked due to routing error' , 'Not asked, person younger than 16 years old'] , [0,1,0,0,0,0] , inplace=True)\n",
    "MPNWAVE8_Pdata['INVLOED5_w5_EVENT6'].replace(['No' , 'Yes' , 'Unknown' ,'Event did not occur' , 'Event experienced, no follow-up questions asked due to routing error' , 'Not asked, person younger than 16 years old'] , [0,1,0,0,0,0] , inplace=True)\n",
    "MPNWAVE8_Pdata['INVLOED6_w5_EVENT6'].replace(['No' , 'Yes' , 'Unknown' ,'Event did not occur' , 'Event experienced, no follow-up questions asked due to routing error' , 'Not asked, person younger than 16 years old'] , [0,1,0,0,0,0] , inplace=True)\n",
    "MPNWAVE8_Pdata['INVLOED7_w5_EVENT6'].replace(['No' , 'Yes' , 'Unknown' ,'Event did not occur' , 'Event experienced, no follow-up questions asked due to routing error' , 'Not asked, person younger than 16 years old'] , [0,1,0,0,0,0] , inplace=True)\n",
    "MPNWAVE8_Pdata['INVLOED8_w5_EVENT6'].replace(['No' , 'Yes' , 'Unknown' ,'Event did not occur' , 'Event experienced, no follow-up questions asked due to routing error' , 'Not asked, person younger than 16 years old'] , [0,1,0,0,0,0] , inplace=True)\n",
    "MPNWAVE8_Pdata['INVLOED9_w5_EVENT6'].replace(['No' , 'Yes' , 'Unknown' ,'Event did not occur' , 'Event experienced, no follow-up questions asked due to routing error' , 'Not asked, person younger than 16 years old'] , [0,1,0,0,0,0] , inplace=True)\n",
    "MPNWAVE8_Pdata['INVLOED10_w5_EVENT6'].replace(['No' , 'Yes' , 'Unknown' ,'Event did not occur' , 'Event experienced, no follow-up questions asked due to routing error' , 'Not asked, person younger than 16 years old'] , [0,1,0,0,0,0] , inplace=True)\n",
    "MPNWAVE8_Pdata['INVLOED11_w5_EVENT6'].replace(['No' , 'Yes' , 'Unknown' ,'Event did not occur' , 'Event experienced, no follow-up questions asked due to routing error' , 'Not asked, person younger than 16 years old'] , [0,1,0,0,0,0] , inplace=True)\n",
    "MPNWAVE8_Pdata['INVLOED12_w5_EVENT6'].replace(['No' , 'Yes' , 'Unknown' ,'Event did not occur' , 'Event experienced, no follow-up questions asked due to routing error' , 'Not asked, person younger than 16 years old'] , [0,1,0,0,0,0] , inplace=True)\n",
    "MPNWAVE8_Pdata['INVLOED_w5_EVENT6'].replace(['No' , 'Yes' , 'Unknown' ,'Event did not occur' , 'Event experienced, no follow-up questions asked due to routing error' , 'Not asked, person younger than 16 years old'] , [0,1,0,0,0,0] , inplace=True)\n"
   ]
  },
  {
   "cell_type": "code",
   "execution_count": 808,
   "metadata": {},
   "outputs": [],
   "source": [
    "MPNWAVE8_Pdata['INVLOED1_w5_EVENT7'].replace(['No' , 'Yes' , 'Unknown' ,'Event did not occur' , 'Event experienced, no follow-up questions asked due to routing error' , 'Not asked, person younger than 16 years old'] , [0,1,0,0,0,0] , inplace=True)\n",
    "MPNWAVE8_Pdata['INVLOED2_w5_EVENT7'].replace(['No' , 'Yes' , 'Unknown' ,'Event did not occur' , 'Event experienced, no follow-up questions asked due to routing error' , 'Not asked, person younger than 16 years old'] , [0,1,0,0,0,0] , inplace=True)\n",
    "MPNWAVE8_Pdata['INVLOED3_w5_EVENT7'].replace(['No' , 'Yes' , 'Unknown' ,'Event did not occur' , 'Event experienced, no follow-up questions asked due to routing error' , 'Not asked, person younger than 16 years old'] , [0,1,0,0,0,0] , inplace=True)\n",
    "MPNWAVE8_Pdata['INVLOED4_w5_EVENT7'].replace(['No' , 'Yes' , 'Unknown' ,'Event did not occur' , 'Event experienced, no follow-up questions asked due to routing error' , 'Not asked, person younger than 16 years old'] , [0,1,0,0,0,0] , inplace=True)\n",
    "MPNWAVE8_Pdata['INVLOED5_w5_EVENT7'].replace(['No' , 'Yes' , 'Unknown' ,'Event did not occur' , 'Event experienced, no follow-up questions asked due to routing error' , 'Not asked, person younger than 16 years old'] , [0,1,0,0,0,0] , inplace=True)\n",
    "MPNWAVE8_Pdata['INVLOED6_w5_EVENT7'].replace(['No' , 'Yes' , 'Unknown' ,'Event did not occur' , 'Event experienced, no follow-up questions asked due to routing error' , 'Not asked, person younger than 16 years old'] , [0,1,0,0,0,0] , inplace=True)\n",
    "MPNWAVE8_Pdata['INVLOED7_w5_EVENT7'].replace(['No' , 'Yes' , 'Unknown' ,'Event did not occur' , 'Event experienced, no follow-up questions asked due to routing error' , 'Not asked, person younger than 16 years old'] , [0,1,0,0,0,0] , inplace=True)\n",
    "MPNWAVE8_Pdata['INVLOED8_w5_EVENT7'].replace(['No' , 'Yes' , 'Unknown' ,'Event did not occur' , 'Event experienced, no follow-up questions asked due to routing error' , 'Not asked, person younger than 16 years old'] , [0,1,0,0,0,0] , inplace=True)\n",
    "MPNWAVE8_Pdata['INVLOED9_w5_EVENT7'].replace(['No' , 'Yes' , 'Unknown' ,'Event did not occur' , 'Event experienced, no follow-up questions asked due to routing error' , 'Not asked, person younger than 16 years old'] , [0,1,0,0,0,0] , inplace=True)\n",
    "MPNWAVE8_Pdata['INVLOED10_w5_EVENT7'].replace(['No' , 'Yes' , 'Unknown' ,'Event did not occur' , 'Event experienced, no follow-up questions asked due to routing error' , 'Not asked, person younger than 16 years old'] , [0,1,0,0,0,0] , inplace=True)\n",
    "MPNWAVE8_Pdata['INVLOED11_w5_EVENT7'].replace(['No' , 'Yes' , 'Unknown' ,'Event did not occur' , 'Event experienced, no follow-up questions asked due to routing error' , 'Not asked, person younger than 16 years old'] , [0,1,0,0,0,0] , inplace=True)\n",
    "MPNWAVE8_Pdata['INVLOED12_w5_EVENT7'].replace(['No' , 'Yes' , 'Unknown' ,'Event did not occur' , 'Event experienced, no follow-up questions asked due to routing error' , 'Not asked, person younger than 16 years old'] , [0,1,0,0,0,0] , inplace=True)\n",
    "MPNWAVE8_Pdata['INVLOED_w5_EVENT7'].replace(['No' , 'Yes' , 'Unknown' ,'Event did not occur' , 'Event experienced, no follow-up questions asked due to routing error' , 'Not asked, person younger than 16 years old'] , [0,1,0,0,0,0] , inplace=True)\n"
   ]
  },
  {
   "cell_type": "code",
   "execution_count": 809,
   "metadata": {},
   "outputs": [],
   "source": [
    "MPNWAVE8_Pdata['INVLOED1_w5_EVENT8'].replace(['No' , 'Yes' , 'Unknown' ,'Event did not occur' , 'Event experienced, no follow-up questions asked due to routing error' , 'Not asked, person younger than 16 years old'] , [0,1,0,0,0,0] , inplace=True)\n",
    "MPNWAVE8_Pdata['INVLOED2_w5_EVENT8'].replace(['No' , 'Yes' , 'Unknown' ,'Event did not occur' , 'Event experienced, no follow-up questions asked due to routing error' , 'Not asked, person younger than 16 years old'] , [0,1,0,0,0,0] , inplace=True)\n",
    "MPNWAVE8_Pdata['INVLOED3_w5_EVENT8'].replace(['No' , 'Yes' , 'Unknown' ,'Event did not occur' , 'Event experienced, no follow-up questions asked due to routing error' , 'Not asked, person younger than 16 years old'] , [0,1,0,0,0,0] , inplace=True)\n",
    "MPNWAVE8_Pdata['INVLOED4_w5_EVENT8'].replace(['No' , 'Yes' , 'Unknown' ,'Event did not occur' , 'Event experienced, no follow-up questions asked due to routing error' , 'Not asked, person younger than 16 years old'] , [0,1,0,0,0,0] , inplace=True)\n",
    "MPNWAVE8_Pdata['INVLOED5_w5_EVENT8'].replace(['No' , 'Yes' , 'Unknown' ,'Event did not occur' , 'Event experienced, no follow-up questions asked due to routing error' , 'Not asked, person younger than 16 years old'] , [0,1,0,0,0,0] , inplace=True)\n",
    "MPNWAVE8_Pdata['INVLOED6_w5_EVENT8'].replace(['No' , 'Yes' , 'Unknown' ,'Event did not occur' , 'Event experienced, no follow-up questions asked due to routing error' , 'Not asked, person younger than 16 years old'] , [0,1,0,0,0,0] , inplace=True)\n",
    "MPNWAVE8_Pdata['INVLOED7_w5_EVENT8'].replace(['No' , 'Yes' , 'Unknown' ,'Event did not occur' , 'Event experienced, no follow-up questions asked due to routing error' , 'Not asked, person younger than 16 years old'] , [0,1,0,0,0,0] , inplace=True)\n",
    "MPNWAVE8_Pdata['INVLOED8_w5_EVENT8'].replace(['No' , 'Yes' , 'Unknown' ,'Event did not occur' , 'Event experienced, no follow-up questions asked due to routing error' , 'Not asked, person younger than 16 years old'] , [0,1,0,0,0,0] , inplace=True)\n",
    "MPNWAVE8_Pdata['INVLOED9_w5_EVENT8'].replace(['No' , 'Yes' , 'Unknown' ,'Event did not occur' , 'Event experienced, no follow-up questions asked due to routing error' , 'Not asked, person younger than 16 years old'] , [0,1,0,0,0,0] , inplace=True)\n",
    "MPNWAVE8_Pdata['INVLOED10_w5_EVENT8'].replace(['No' , 'Yes' , 'Unknown' ,'Event did not occur' , 'Event experienced, no follow-up questions asked due to routing error' , 'Not asked, person younger than 16 years old'] , [0,1,0,0,0,0] , inplace=True)\n",
    "MPNWAVE8_Pdata['INVLOED11_w5_EVENT8'].replace(['No' , 'Yes' , 'Unknown' ,'Event did not occur' , 'Event experienced, no follow-up questions asked due to routing error' , 'Not asked, person younger than 16 years old'] , [0,1,0,0,0,0] , inplace=True)\n",
    "MPNWAVE8_Pdata['INVLOED12_w5_EVENT8'].replace(['No' , 'Yes' , 'Unknown' ,'Event did not occur' , 'Event experienced, no follow-up questions asked due to routing error' , 'Not asked, person younger than 16 years old'] , [0,1,0,0,0,0] , inplace=True)\n",
    "MPNWAVE8_Pdata['INVLOED_w5_EVENT8'].replace(['No' , 'Yes' , 'Unknown' ,'Event did not occur' , 'Event experienced, no follow-up questions asked due to routing error' , 'Not asked, person younger than 16 years old'] , [0,1,0,0,0,0] , inplace=True)\n"
   ]
  },
  {
   "cell_type": "code",
   "execution_count": 810,
   "metadata": {},
   "outputs": [],
   "source": [
    "for i in [9,10,11,12,13,14,15,16,17]:\n",
    "    for x in [1,2,3,4,5,6,7,8,9,10,11,12]:\n",
    "        MPNWAVE8_Pdata['INVLOED%d'%x+'_w5_EVENT%d'%i].replace(['No' , 'Yes' , 'Unknown' ,'Event did not occur' , 'Event experienced, no follow-up questions asked due to routing error' , 'Not asked, person younger than 16 years old'] , [0,1,0,0,0,0] , inplace=True)"
   ]
  },
  {
   "cell_type": "code",
   "execution_count": 811,
   "metadata": {},
   "outputs": [],
   "source": [
    "for i in range(9,18):\n",
    "    MPNWAVE8_Pdata['INVLOED_w5_EVENT%d'%i].replace(['No' , 'Yes' , 'Unknown' ,'Event did not occur' , 'Event experienced, no follow-up questions asked due to routing error' , 'Not asked, person younger than 16 years old'] , [0,1,0,0,0,0] , inplace=True)"
   ]
  },
  {
   "cell_type": "code",
   "execution_count": 812,
   "metadata": {},
   "outputs": [],
   "source": [
    "for i in range(1,7):\n",
    "    MPNWAVE8_Pdata['EVENT_ICT%d' %i].replace(['No' , 'Yes' , 'Not asked, person younger than 16 years old'] , [0,1,0] , inplace=True)\n"
   ]
  },
  {
   "cell_type": "code",
   "execution_count": 813,
   "metadata": {},
   "outputs": [],
   "source": [
    "for i in range(13,15):\n",
    "    MPNWAVE8_Pdata['EVENT_ICT%d' %i].replace(['No' , 'Yes' , 'Not asked, person younger than 16 years old'] , [0,1,0] , inplace=True)\n"
   ]
  },
  {
   "cell_type": "code",
   "execution_count": 814,
   "metadata": {},
   "outputs": [],
   "source": [
    "for i in [1,2,3,4,5,6,13,14]:\n",
    "    MPNWAVE8_Pdata['INVLOED_EVENT_ICT%d' %i].replace(['No' , 'Yes' , 'Not asked, person younger than 16 years old','Event did not occur'] , [0,1,0,0] , inplace=True)\n",
    "    for x in [1,2,3,4,5,6,7,8,9,11,12]:\n",
    "        MPNWAVE8_Pdata['INVLOED%d'%x+'_EVENT_ICT%d' %i].replace(['No' , 'Yes' , 'Not asked, person younger than 16 years old','Event did not occur'] , [0,1,0,0] , inplace=True)\n"
   ]
  },
  {
   "cell_type": "code",
   "execution_count": 815,
   "metadata": {},
   "outputs": [],
   "source": [
    "for i in [1,2,3,4,5,6,13,14]:\n",
    "    MPNWAVE8_Pdata['INVLOED10_EVENT_w5_ICT%d' %i].replace(['No' , 'Yes' , 'Not asked, person younger than 16 years old','Event did not occur'] , [0,1,0,0] , inplace=True)\n",
    "    "
   ]
  },
  {
   "cell_type": "code",
   "execution_count": 816,
   "metadata": {},
   "outputs": [],
   "source": [
    "for i in range(1,3):\n",
    "    MPNWAVE8_Pdata['EVENT_w5_WONING%d' %i].replace(['No' , 'Yes' , 'Not asked, person younger than 16 years old'] , [0,1,0] , inplace=True)\n"
   ]
  },
  {
   "cell_type": "code",
   "execution_count": 817,
   "metadata": {},
   "outputs": [],
   "source": [
    "for i in range(3,14):\n",
    "    MPNWAVE8_Pdata['EVENT_WONING%d' %i].replace(['No' , 'Yes' , 'Not asked, person younger than 16 years old'] , [0,1,0] , inplace=True)\n"
   ]
  },
  {
   "cell_type": "code",
   "execution_count": 818,
   "metadata": {},
   "outputs": [],
   "source": [
    "MPNWAVE8_Pdata['EVENT_WONING'].replace(['No' , 'Yes' , 'Not asked, person younger than 16 years old'] , [0,1,0] , inplace=True)\n"
   ]
  },
  {
   "cell_type": "code",
   "execution_count": 819,
   "metadata": {},
   "outputs": [],
   "source": [
    "for i in range(1,3):\n",
    "    MPNWAVE8_Pdata['INVLOED_EVENT_w5_WONING%d'%i].replace(['No' , 'Yes', 'Event did not occur' , 'Not asked, person younger than 16 years old'] , [0,1,0,0] , inplace=True)\n",
    "    for x in range(1,13):\n",
    "        MPNWAVE8_Pdata['INVLOED%d'%x+'_EVENT_w5_WONING%d'%i].replace(['No' , 'Yes', 'Event did not occur' , 'Not asked, person younger than 16 years old'] , [0,1,0,0] , inplace=True)\n"
   ]
  },
  {
   "cell_type": "code",
   "execution_count": 820,
   "metadata": {},
   "outputs": [],
   "source": [
    "for i in range(3,14):\n",
    "    MPNWAVE8_Pdata['INVLOED_EVENT_WONING%d'%i].replace(['No' , 'Yes', 'Event did not occur' , 'Not asked, person younger than 16 years old'] , [0,1,0,0] , inplace=True)\n",
    "    for x in [1,2,3,4,5,6,7,8,9,11,12]:\n",
    "        MPNWAVE8_Pdata['INVLOED%d'%x+'_EVENT_WONING%d'%i].replace(['No' , 'Yes', 'Event did not occur' , 'Not asked, person younger than 16 years old'] , [0,1,0,0] , inplace=True)\n"
   ]
  },
  {
   "cell_type": "code",
   "execution_count": 821,
   "metadata": {},
   "outputs": [],
   "source": [
    "for i in range(3,14):\n",
    "    MPNWAVE8_Pdata['INVLOED10_EVENT_w5_WONING%d'%i].replace(['No' , 'Yes', 'Event did not occur' , 'Not asked, person younger than 16 years old'] , [0,1,0,0] , inplace=True)\n"
   ]
  },
  {
   "cell_type": "code",
   "execution_count": 822,
   "metadata": {},
   "outputs": [],
   "source": [
    "MPNWAVE8_Pdata['KLEEFT2'].replace(['<12 years old' , '12-17 years old' , '18-24 years old' , '25-29 years old' , '30-39 years old' , '40-49 years old' , '50-59 years old' , '60-69 years old' , '70-79 years old' , '80 years old and older'] , [1,2,3,4,5,6,7,8,9,10] , inplace=True)\n",
    "new = pd.get_dummies(MPNWAVE8_Pdata['KLEEFT2'],prefix='KLEEFT2')\n",
    "MPNWAVE8_Pdata = MPNWAVE8_Pdata.join(new)"
   ]
  },
  {
   "cell_type": "code",
   "execution_count": 823,
   "metadata": {},
   "outputs": [],
   "source": [
    "#MPNWAVE8_Pdata.to_csv('F:/more work/netherlands/wave8data/MPNWAVE8_Pdata/MPNWAVE8_Pdata_binary.csv')"
   ]
  },
  {
   "cell_type": "code",
   "execution_count": 824,
   "metadata": {},
   "outputs": [
    {
     "data": {
      "text/plain": [
       "\"for i in MPNWAVE8_Pdata.columns:\\n    x = MPNWAVE8_Pdata['%s' %i].map(str).str.contains('a|b|c|d|e|f|g|h|i|j|k|l|m|n|o|p|q|r|s|t|u|v|w|x|y|z').value_counts(True)\\n    x = int(x)\\n    if x>1:\\n      MPNWAVE8_Pdata.drop('%s' %i,axis=1,inplace=True)\\n    \\n\\n  \""
      ]
     },
     "execution_count": 824,
     "metadata": {},
     "output_type": "execute_result"
    }
   ],
   "source": [
    "'''for i in MPNWAVE8_Pdata.columns:\n",
    "    x = MPNWAVE8_Pdata['%s' %i].map(str).str.contains('a|b|c|d|e|f|g|h|i|j|k|l|m|n|o|p|q|r|s|t|u|v|w|x|y|z').value_counts(True)\n",
    "    x = int(x)\n",
    "    if x>1:\n",
    "      MPNWAVE8_Pdata.drop('%s' %i,axis=1,inplace=True)\n",
    "    \n",
    "\n",
    "  '''  \n",
    "\n",
    "\n",
    "\n",
    "\n"
   ]
  },
  {
   "cell_type": "code",
   "execution_count": 825,
   "metadata": {},
   "outputs": [
    {
     "data": {
      "text/plain": [
       "\"MPNWAVE8_Pdata.drop(['HH_VALID' , 'IMPHHDATA' , 'DEELNAME' , 'P_VALID' , 'DEELNAMEP' , 'WERKSITUATIE_MEEST_w5' , 'SECTORWERK' , 'FUNCTIE_WERK' ,\\n                     'WERKURENRECENT_CONTINU' , 'N_URENVAST_CONTINU' , 'N_URENTHUIS_CONTINU' , 'N_URENELDERS_CONTINU' , 'N_URENONDERWEG_CONTINU' ,\\n                     'POVERIG' , 'VVM_VOORKEUR_w5_WERK' ,'VVM_VOORKEUR_w5_ZAKELIJK' , 'VVM_VOORKEUR_w5_SCHOOL' , 'VVM_VOORKEUR_w5_BOODSCH' ,\\n                     'VVM_VOORKEUR_w5_WINKEL' , 'VVM_VOORKEUR_HORECA' , 'VVM_VOORKEUR_w5_VISITE' , 'VVM_VOORKEUR_w5_EROPUIT', \\n                     'VVM_VOORKEUR_w5_SPORTEN' , 'VVM_VOORKEUR_MANTELZORG' , 'VVM_VOORKEUR_VTOVERIG' , 'BEZIT_OVKAART' , 'EVENT_ICT',\\n                     'EVENT_WONING'],axis=1 , inplace=True)\\n\""
      ]
     },
     "execution_count": 825,
     "metadata": {},
     "output_type": "execute_result"
    }
   ],
   "source": [
    "'''MPNWAVE8_Pdata.drop(['HH_VALID' , 'IMPHHDATA' , 'DEELNAME' , 'P_VALID' , 'DEELNAMEP' , 'WERKSITUATIE_MEEST_w5' , 'SECTORWERK' , 'FUNCTIE_WERK' ,\n",
    "                     'WERKURENRECENT_CONTINU' , 'N_URENVAST_CONTINU' , 'N_URENTHUIS_CONTINU' , 'N_URENELDERS_CONTINU' , 'N_URENONDERWEG_CONTINU' ,\n",
    "                     'POVERIG' , 'VVM_VOORKEUR_w5_WERK' ,'VVM_VOORKEUR_w5_ZAKELIJK' , 'VVM_VOORKEUR_w5_SCHOOL' , 'VVM_VOORKEUR_w5_BOODSCH' ,\n",
    "                     'VVM_VOORKEUR_w5_WINKEL' , 'VVM_VOORKEUR_HORECA' , 'VVM_VOORKEUR_w5_VISITE' , 'VVM_VOORKEUR_w5_EROPUIT', \n",
    "                     'VVM_VOORKEUR_w5_SPORTEN' , 'VVM_VOORKEUR_MANTELZORG' , 'VVM_VOORKEUR_VTOVERIG' , 'BEZIT_OVKAART' , 'EVENT_ICT',\n",
    "                     'EVENT_WONING'],axis=1 , inplace=True)\n",
    "'''"
   ]
  },
  {
   "cell_type": "code",
   "execution_count": 826,
   "metadata": {},
   "outputs": [],
   "source": [
    "MPNWAVE8_Pdata.drop(['HH_VALID' , 'IMPHHDATA' , 'DEELNAME' , 'P_VALID' , 'DEELNAMEP' , 'WERKSITUATIE_MEEST_w5' , 'SECTORWERK' ,\n",
    "                     'WERKURENRECENT_CONTINU' , 'N_URENVAST_CONTINU' , 'N_URENTHUIS_CONTINU' , 'N_URENELDERS_CONTINU' , 'N_URENONDERWEG_CONTINU' ,\n",
    "                     'POVERIG' , 'VVM_VOORKEUR_w5_WERK' ,'VVM_VOORKEUR_w5_ZAKELIJK' , 'VVM_VOORKEUR_w5_SCHOOL' , 'VVM_VOORKEUR_w5_BOODSCH' ,\n",
    "                     'VVM_VOORKEUR_w5_WINKEL' , 'VVM_VOORKEUR_HORECA' , 'VVM_VOORKEUR_w5_VISITE' , 'VVM_VOORKEUR_w5_EROPUIT', \n",
    "                     'VVM_VOORKEUR_w5_SPORTEN' , 'VVM_VOORKEUR_MANTELZORG' , 'VVM_VOORKEUR_VTOVERIG' , 'BEZIT_OVKAART' , 'EVENT_ICT',\n",
    "                     'EVENT_WONING'],axis=1 , inplace=True)\n"
   ]
  },
  {
   "cell_type": "code",
   "execution_count": 827,
   "metadata": {},
   "outputs": [],
   "source": [
    "MPNWAVE8_Pdata.to_csv('F:/more work/the netherlands/4 wave/wave5/MPNWAVE5_Pdata_binary.csv')"
   ]
  },
  {
   "cell_type": "code",
   "execution_count": null,
   "metadata": {},
   "outputs": [],
   "source": []
  }
 ],
 "metadata": {
  "kernelspec": {
   "display_name": "Python 3.10.8 64-bit",
   "language": "python",
   "name": "python3"
  },
  "language_info": {
   "codemirror_mode": {
    "name": "ipython",
    "version": 3
   },
   "file_extension": ".py",
   "mimetype": "text/x-python",
   "name": "python",
   "nbconvert_exporter": "python",
   "pygments_lexer": "ipython3",
   "version": "3.10.9"
  },
  "orig_nbformat": 4,
  "vscode": {
   "interpreter": {
    "hash": "2b324498af64d22b4773901be112d66dec816013b7f64fed368c8550f7daba2d"
   }
  }
 },
 "nbformat": 4,
 "nbformat_minor": 2
}
