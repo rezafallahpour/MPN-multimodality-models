{
 "cells": [
  {
   "cell_type": "code",
   "execution_count": 577,
   "metadata": {},
   "outputs": [],
   "source": [
    "import pandas as pd"
   ]
  },
  {
   "cell_type": "code",
   "execution_count": 578,
   "metadata": {},
   "outputs": [
    {
     "name": "stderr",
     "output_type": "stream",
     "text": [
      "C:\\Users\\Reza\\AppData\\Local\\Temp\\ipykernel_3016\\3103140842.py:1: DtypeWarning: Columns (11,14,17,84) have mixed types. Specify dtype option on import or set low_memory=False.\n",
      "  MPNWAVE8_DAGBOEKdata = pd.read_csv('F:/more work/the netherlands/4 wave/wave5/MPNWAVE5_DAGBOEKdata.csv')\n"
     ]
    }
   ],
   "source": [
    "MPNWAVE8_DAGBOEKdata = pd.read_csv('F:/more work/the netherlands/4 wave/wave5/MPNWAVE5_DAGBOEKdata.csv')"
   ]
  },
  {
   "cell_type": "code",
   "execution_count": 579,
   "metadata": {},
   "outputs": [],
   "source": [
    "MPNWAVE8_DAGBOEKdata = MPNWAVE8_DAGBOEKdata[MPNWAVE8_DAGBOEKdata['P_VALID'] == 'person completed the questionnaire and completed the diary']"
   ]
  },
  {
   "cell_type": "code",
   "execution_count": 580,
   "metadata": {},
   "outputs": [
    {
     "name": "stderr",
     "output_type": "stream",
     "text": [
      "C:\\Users\\Reza\\AppData\\Local\\Temp\\ipykernel_3016\\2139800197.py:1: SettingWithCopyWarning: \n",
      "A value is trying to be set on a copy of a slice from a DataFrame\n",
      "\n",
      "See the caveats in the documentation: https://pandas.pydata.org/pandas-docs/stable/user_guide/indexing.html#returning-a-view-versus-a-copy\n",
      "  MPNWAVE8_DAGBOEKdata['VERTREKP'].replace(['Own address' , 'Another address' , 'Unknown' , 'On this day the person did not take a trip'],[1,2,9,99],inplace=True)\n"
     ]
    }
   ],
   "source": [
    "MPNWAVE8_DAGBOEKdata['VERTREKP'].replace(['Own address' , 'Another address' , 'Unknown' , 'On this day the person did not take a trip'],[1,2,9,99],inplace=True)"
   ]
  },
  {
   "cell_type": "code",
   "execution_count": 581,
   "metadata": {},
   "outputs": [],
   "source": [
    "new = pd.get_dummies(MPNWAVE8_DAGBOEKdata['VERTREKP'],prefix = 'VERTREKP')\n",
    "MPNWAVE8_DAGBOEKdata = MPNWAVE8_DAGBOEKdata.join(new)\n"
   ]
  },
  {
   "cell_type": "code",
   "execution_count": 582,
   "metadata": {},
   "outputs": [],
   "source": [
    "MPNWAVE8_DAGBOEKdata['TOER'].replace(['No' , 'On this day the person did not take a trip' , 'Yes'],[0,0,1],inplace=True)"
   ]
  },
  {
   "cell_type": "code",
   "execution_count": 583,
   "metadata": {},
   "outputs": [],
   "source": [
    "MPNWAVE8_DAGBOEKdata['TOER_TYPE'].replace(['A walking / running / cycling excursion' , 'Mailing a letter' , 'Multiple trips for work' , 'Walking the dog' , 'Other' , 'Touring by car / motorcycle' , 'Picking up / dropping off people' , 'Unkown, trip not reported as round trip' , 'Did not make round trip' , 'On this day the person did not take a trip'],[1,2,3,4,5,6,7,8,0,0],inplace=True)"
   ]
  },
  {
   "cell_type": "code",
   "execution_count": 584,
   "metadata": {},
   "outputs": [],
   "source": [
    "new = pd.get_dummies(MPNWAVE8_DAGBOEKdata['TOER_TYPE'],prefix = 'TOER_TYPE')\n",
    "MPNWAVE8_DAGBOEKdata = MPNWAVE8_DAGBOEKdata.join(new)\n",
    "MPNWAVE8_DAGBOEKdata.drop('TOER_TYPE_0' , axis=1,inplace=True)"
   ]
  },
  {
   "cell_type": "code",
   "execution_count": 585,
   "metadata": {},
   "outputs": [],
   "source": [
    "MPNWAVE8_DAGBOEKdata['DOEL'].replace(['To home' , 'Work' , 'Business-related visit in work context' , 'Transport as a profession' , 'Dropping off, picking up people' , 'Delivering, picking up goods' , 'Following education study, courses' , 'Shopping, doing grocery shopping' , 'Visitation' , 'Touring, hiking' , 'Sports, hobby' , 'Other leisure time activities' , 'Services, personal care' , 'Other purpose' , 'Unknown' , 'On this day the person did not take a trip'] , [1,2,3,4,5,6,7,8,9,10,11,12,13,14,0,0],inplace=True)\n",
    "new = pd.get_dummies(MPNWAVE8_DAGBOEKdata['DOEL'],prefix = 'DOEL')\n",
    "MPNWAVE8_DAGBOEKdata = MPNWAVE8_DAGBOEKdata.join(new)\n",
    "MPNWAVE8_DAGBOEKdata.drop('DOEL_0' , axis=1,inplace=True)"
   ]
  },
  {
   "cell_type": "code",
   "execution_count": 586,
   "metadata": {},
   "outputs": [],
   "source": [
    "MPNWAVE8_DAGBOEKdata['MOTIEF'].replace(['To and from work' , 'Business-related visit in work context' , 'Transport as a profession' , 'Dropping off, picking up people' , 'Delivering, picking up goods' , 'Following education study, courses' , 'Shopping, doing grocery shopping' , 'Visitation' , 'Touring, hiking' , 'Sports, hobby' , 'Other leisure time activities' , 'Services, personal care' , 'Other purpose' , 'Unknown' , 'On this day the person did not take a trip'] , [1,2,3,4,5,6,7,8,9,10,11,12,0,0,0],inplace=True)\n",
    "new = pd.get_dummies(MPNWAVE8_DAGBOEKdata['MOTIEF'],prefix = 'MOTIEF')\n",
    "MPNWAVE8_DAGBOEKdata = MPNWAVE8_DAGBOEKdata.join(new)\n",
    "MPNWAVE8_DAGBOEKdata.drop('MOTIEF_0' , axis=1,inplace=True)"
   ]
  },
  {
   "cell_type": "code",
   "execution_count": 587,
   "metadata": {},
   "outputs": [],
   "source": [
    "MPNWAVE8_DAGBOEKdata['KMOTIEF'].replace(['To and from work' , 'Business-related visit in work context' , 'Services, personal care' , 'Shopping, doing grocery shopping' , 'Following education study, courses' , 'Visitation' , 'Social recreational other' , 'Touring, hiking' , 'Other purpose' , 'Unknown' , 'On this day the person did not take a trip'] , [1,2,3,4,5,6,7,8,0,0,0],inplace=True)\n",
    "new = pd.get_dummies(MPNWAVE8_DAGBOEKdata['KMOTIEF'],prefix = 'KMOTIEF')\n",
    "MPNWAVE8_DAGBOEKdata = MPNWAVE8_DAGBOEKdata.join(new)\n",
    "MPNWAVE8_DAGBOEKdata.drop('KMOTIEF_0' , axis=1,inplace=True)"
   ]
  },
  {
   "cell_type": "code",
   "execution_count": 588,
   "metadata": {},
   "outputs": [],
   "source": [
    "MPNWAVE8_DAGBOEKdata['KAFSTV'].replace(['0,1-0,5 km' , '0.5-1.0 km' , '1.0-2.5 km' , '2.5-3.7 km' , '3.7-5.0 km' , '5.0-7.5 km' , '7.5-10 km' , '10-15 km' , '15-20 km' , '20-30 km' , '30-40 km' , '40-50 km' , '>50 km'] , [1,2,3,4,5,6,7,8,9,10,11,12,13], inplace=True)\n",
    "new = pd.get_dummies(MPNWAVE8_DAGBOEKdata['KAFSTV'],prefix = 'KAFSTV')\n",
    "MPNWAVE8_DAGBOEKdata = MPNWAVE8_DAGBOEKdata.join(new)"
   ]
  },
  {
   "cell_type": "code",
   "execution_count": 589,
   "metadata": {},
   "outputs": [],
   "source": [
    "MPNWAVE8_DAGBOEKdata['KHVM'].replace(['Car as driver' , 'Car as passenger' , 'Train' , 'Bus/tram/metro' , 'Scooter/moped' , 'Bicycle' , 'Walking' , 'Other' , 'Means of transport not stored' , 'On this day the person did not take a trip'],[1,2,3,4,5,6,7,0,0,0],inplace=True)\n",
    "new = pd.get_dummies(MPNWAVE8_DAGBOEKdata['KHVM'],prefix = 'KHVM')\n",
    "MPNWAVE8_DAGBOEKdata = MPNWAVE8_DAGBOEKdata.join(new)\n",
    "MPNWAVE8_DAGBOEKdata.drop('KHVM_0.0' , axis=1,inplace=True)"
   ]
  },
  {
   "cell_type": "code",
   "execution_count": 590,
   "metadata": {},
   "outputs": [],
   "source": [
    "MPNWAVE8_DAGBOEKdata['KVERTTIJD'].replace(['0 to 4:00' , '4:00 to 7:00' , '7:00 to 8:00' , '8:00 to 9:00' , '9:00 to 12:00' , '12:00 to 13:00' , '13:00 to 14:00' , '14:00 to 16:00' , '16:00 to 17:00' , '17:00 to 18:00' , '18:00 to 19:00' , '19:00 to 20:00' , '20:00 to 24:00'] , [1,2,3,4,5,6,7,8,9,10,11,12,13],inplace=True)\n",
    "new = pd.get_dummies(MPNWAVE8_DAGBOEKdata['KVERTTIJD'],prefix = 'KVERTTIJD')\n",
    "MPNWAVE8_DAGBOEKdata = MPNWAVE8_DAGBOEKdata.join(new)"
   ]
  },
  {
   "cell_type": "code",
   "execution_count": 591,
   "metadata": {},
   "outputs": [],
   "source": [
    "MPNWAVE8_DAGBOEKdata['KREISDUUR'].replace(['1 to 5 minutes' , '5 to 10 minutes' , '10 to 15 minutes' , '15 to 20 minutes' , '20 to 25 minutes' , '25 to 30 minutes' , '30 to 45 minutes' , '45 to 60 minutes' , '60 to 90 minutes' , '90 to 120 minutes' , '120 minutes or more'],[1,2,3,4,5,6,7,8,9,10,11],inplace=True)\n",
    "new = pd.get_dummies(MPNWAVE8_DAGBOEKdata['KREISDUUR'],prefix = 'KREISDUUR')\n",
    "MPNWAVE8_DAGBOEKdata = MPNWAVE8_DAGBOEKdata.join(new)"
   ]
  },
  {
   "cell_type": "code",
   "execution_count": 592,
   "metadata": {},
   "outputs": [],
   "source": [
    "MPNWAVE8_DAGBOEKdata['ROLAUTO'].replace(['No trip by car' , 'Driver of car' , 'Passenger in car'] , [0,1,2], inplace=True)\n",
    "new = pd.get_dummies(MPNWAVE8_DAGBOEKdata['ROLAUTO'],prefix = 'ROLAUTO')\n",
    "MPNWAVE8_DAGBOEKdata = MPNWAVE8_DAGBOEKdata.join(new)"
   ]
  },
  {
   "cell_type": "code",
   "execution_count": 593,
   "metadata": {},
   "outputs": [],
   "source": [
    "MPNWAVE8_DAGBOEKdata['PARKEERKOSTEN'].replace(['less than 0.50 €' , '0.50 to 1.00 €' , '1.00 to 1.50 €' , '1.50 to 2.00 €' , '2.00 to 2.50 €' , '2.50 to 3.00 €' , '3.00 to 3.50 €' , '3.50 to 4.00 €' , '4.00 to 4.50 €' , '4.50 to 5.00 €' , '5.00 to 6.00 €' , '6.00 to 7.00 €' , '7.00 to 8.00 €' , '8.00 to 9.00 €' , '9.00 to 10.00 €' , '10.00 € or more' ] , [1,2,3,4,5,6,7,8,9,10,11,12,13,14,15,16] , inplace=True)\n",
    "new = pd.get_dummies(MPNWAVE8_DAGBOEKdata['PARKEERKOSTEN'],prefix = 'PARKEERKOSTEN')\n",
    "MPNWAVE8_DAGBOEKdata = MPNWAVE8_DAGBOEKdata.join(new)"
   ]
  },
  {
   "cell_type": "code",
   "execution_count": 594,
   "metadata": {},
   "outputs": [],
   "source": [
    "MPNWAVE8_DAGBOEKdata['VERTRAGING'].replace(['No delay' , 'less than 5 minutes' , '5 to 10 minutes' , '10 to 15 minutes' , '15 to 20 minutes' , '20 to 30 minutes' , '30 tot 40 minutes' , '40 to 50 minutes' , '50 to 60 minutes' , '60 to 90 minutes' , '90 minutes or more'] , [0,1,2,3,4,5,6,7,8,9,10] , inplace=True)\n",
    "new = pd.get_dummies(MPNWAVE8_DAGBOEKdata['VERTRAGING'],prefix = 'VERTRAGING')\n",
    "MPNWAVE8_DAGBOEKdata = MPNWAVE8_DAGBOEKdata.join(new)"
   ]
  },
  {
   "cell_type": "code",
   "execution_count": 595,
   "metadata": {},
   "outputs": [],
   "source": [
    "#MPNWAVE8_DAGBOEKdata['AutoSoort']"
   ]
  },
  {
   "cell_type": "code",
   "execution_count": 596,
   "metadata": {},
   "outputs": [
    {
     "data": {
      "text/plain": [
       "\"MPNWAVE8_DAGBOEKdata['AutoSoort'].replace(['An other car from the household / A car from the household' , 'A car from a family member, friends, acquaintances or colleagues' , 'A rental car, like Sixt, Herz, Avis or Europcar' , 'A shared car, like Greenwheels, SnappCar or BlaBlaCar' , 'Garage loan car' , 'Company car (auto van de zaak)/ business lease car' , 'Private lease car' , 'Company car (bedrijfsauto)' , 'Other' , 'Question skipped' , 'Question not answered'] , [1,2,3,4,5,6,7,8,0,0,0], inplace=True)\\nnew = pd.get_dummies(MPNWAVE8_DAGBOEKdata['AutoSoort'],prefix = 'AutoSoort')\\nMPNWAVE8_DAGBOEKdata = MPNWAVE8_DAGBOEKdata.join(new)\\nMPNWAVE8_DAGBOEKdata.drop('AutoSoort_0.0' , axis=1,inplace=True)\""
      ]
     },
     "execution_count": 596,
     "metadata": {},
     "output_type": "execute_result"
    }
   ],
   "source": [
    "'''MPNWAVE8_DAGBOEKdata['AutoSoort'].replace(['An other car from the household / A car from the household' , 'A car from a family member, friends, acquaintances or colleagues' , 'A rental car, like Sixt, Herz, Avis or Europcar' , 'A shared car, like Greenwheels, SnappCar or BlaBlaCar' , 'Garage loan car' , 'Company car (auto van de zaak)/ business lease car' , 'Private lease car' , 'Company car (bedrijfsauto)' , 'Other' , 'Question skipped' , 'Question not answered'] , [1,2,3,4,5,6,7,8,0,0,0], inplace=True)\n",
    "new = pd.get_dummies(MPNWAVE8_DAGBOEKdata['AutoSoort'],prefix = 'AutoSoort')\n",
    "MPNWAVE8_DAGBOEKdata = MPNWAVE8_DAGBOEKdata.join(new)\n",
    "MPNWAVE8_DAGBOEKdata.drop('AutoSoort_0.0' , axis=1,inplace=True)'''"
   ]
  },
  {
   "cell_type": "code",
   "execution_count": 597,
   "metadata": {},
   "outputs": [],
   "source": [
    "MPNWAVE8_DAGBOEKdata['KRVM'].replace(['Car as driver' , 'Car as passenger' , 'Train' , 'Bus/tram/metro' , 'Scooter/moped' , 'Bicycle' , 'Walking' , 'Other' , 'Means of transport not stored' , 'On this day the person did not take a trip'],[1,2,3,4,5,6,7,0,0,0],inplace=True)\n",
    "new = pd.get_dummies(MPNWAVE8_DAGBOEKdata['KRVM'],prefix = 'KRVM')\n",
    "MPNWAVE8_DAGBOEKdata = MPNWAVE8_DAGBOEKdata.join(new)\n",
    "MPNWAVE8_DAGBOEKdata.drop('KRVM_0.0' , axis=1,inplace=True)"
   ]
  },
  {
   "cell_type": "code",
   "execution_count": 598,
   "metadata": {},
   "outputs": [],
   "source": [
    "MPNWAVE8_DAGBOEKdata['Bestuurder'].replace(['Not asked' , 'Yes, driver' , 'No, passenger'] , [0,1,2] , inplace=True)\n",
    "new = pd.get_dummies(MPNWAVE8_DAGBOEKdata['Bestuurder'],prefix = 'Bestuurder')\n",
    "MPNWAVE8_DAGBOEKdata = MPNWAVE8_DAGBOEKdata.join(new)\n",
    "MPNWAVE8_DAGBOEKdata.drop('Bestuurder_0.0' , axis=1,inplace=True)"
   ]
  },
  {
   "cell_type": "code",
   "execution_count": 599,
   "metadata": {},
   "outputs": [
    {
     "data": {
      "text/plain": [
       "\"MPNWAVE8_DAGBOEKdata['BTYPEVERPL'].replace(['Single trip' , 'Three or more occupational trips. Travel time, distance and means of transport show total of the trips'],[1,2] , inplace=True)\\nnew = pd.get_dummies(MPNWAVE8_DAGBOEKdata['BTYPEVERPL'],prefix = 'BTYPEVERPL')\\nMPNWAVE8_DAGBOEKdata = MPNWAVE8_DAGBOEKdata.join(new)\""
      ]
     },
     "execution_count": 599,
     "metadata": {},
     "output_type": "execute_result"
    }
   ],
   "source": [
    "'''MPNWAVE8_DAGBOEKdata['BTYPEVERPL'].replace(['Single trip' , 'Three or more occupational trips. Travel time, distance and means of transport show total of the trips'],[1,2] , inplace=True)\n",
    "new = pd.get_dummies(MPNWAVE8_DAGBOEKdata['BTYPEVERPL'],prefix = 'BTYPEVERPL')\n",
    "MPNWAVE8_DAGBOEKdata = MPNWAVE8_DAGBOEKdata.join(new)'''"
   ]
  },
  {
   "cell_type": "code",
   "execution_count": 600,
   "metadata": {},
   "outputs": [],
   "source": [
    "MPNWAVE8_DAGBOEKdata['KBHVM'].replace(['Car as driver' , 'Car as passenger' , 'Train' , 'Bus/tram/metro' , 'Scooter/moped' , 'Bicycle' , 'Walking' , 'Other' , 'Means of transport not stored' , 'On this day the person did not take a trip'],[1,2,3,4,5,6,7,0,0,0],inplace=True)\n",
    "new = pd.get_dummies(MPNWAVE8_DAGBOEKdata['KBHVM'],prefix = 'KBHVM')\n",
    "MPNWAVE8_DAGBOEKdata = MPNWAVE8_DAGBOEKdata.join(new)\n",
    "MPNWAVE8_DAGBOEKdata.drop('KBHVM_0.0' , axis=1,inplace=True)"
   ]
  },
  {
   "cell_type": "code",
   "execution_count": 601,
   "metadata": {},
   "outputs": [],
   "source": [
    "MPNWAVE8_DAGBOEKdata['KBRVM'].replace(['Car as driver' , 'Car as passenger' , 'Train' , 'Bus/tram/metro' , 'Scooter/moped' , 'Bicycle' , 'Walking' , 'Other' , 'Means of transport not stored' , 'On this day the person did not take a trip'],[1,2,3,4,5,6,7,0,0,0],inplace=True)\n",
    "new = pd.get_dummies(MPNWAVE8_DAGBOEKdata['KBRVM'],prefix = 'KBRVM')\n",
    "MPNWAVE8_DAGBOEKdata = MPNWAVE8_DAGBOEKdata.join(new)\n",
    "MPNWAVE8_DAGBOEKdata.drop('KBRVM_0.0' , axis=1,inplace=True)"
   ]
  },
  {
   "cell_type": "code",
   "execution_count": 602,
   "metadata": {},
   "outputs": [
    {
     "data": {
      "text/plain": [
       "unmarked    59096\n",
       "Name: MARKERING_VVM, dtype: int64"
      ]
     },
     "execution_count": 602,
     "metadata": {},
     "output_type": "execute_result"
    }
   ],
   "source": [
    "MPNWAVE8_DAGBOEKdata = MPNWAVE8_DAGBOEKdata[MPNWAVE8_DAGBOEKdata['MARKERING_VVM']== 'unmarked']\n",
    "MPNWAVE8_DAGBOEKdata['MARKERING_VVM'].value_counts()"
   ]
  },
  {
   "cell_type": "code",
   "execution_count": 603,
   "metadata": {},
   "outputs": [
    {
     "data": {
      "text/plain": [
       "not corrected    59088\n",
       "corrected            8\n",
       "Name: CORRECTIE_VVM, dtype: int64"
      ]
     },
     "execution_count": 603,
     "metadata": {},
     "output_type": "execute_result"
    }
   ],
   "source": [
    "#MPNWAVE8_DAGBOEKdata = MPNWAVE8_DAGBOEKdata[MPNWAVE8_DAGBOEKdata['CORRECTIE_VVM']== 'not corrected']\n",
    "MPNWAVE8_DAGBOEKdata['CORRECTIE_VVM'].value_counts()"
   ]
  },
  {
   "cell_type": "code",
   "execution_count": 604,
   "metadata": {},
   "outputs": [
    {
     "data": {
      "text/plain": [
       "not corrected    54894\n",
       "corrected         4202\n",
       "Name: CORRECTIE_AFSTAND, dtype: int64"
      ]
     },
     "execution_count": 604,
     "metadata": {},
     "output_type": "execute_result"
    }
   ],
   "source": [
    "#MPNWAVE8_DAGBOEKdata = MPNWAVE8_DAGBOEKdata[MPNWAVE8_DAGBOEKdata['CORRECTIE_AFSTAND']== 'not corrected']\n",
    "MPNWAVE8_DAGBOEKdata['CORRECTIE_AFSTAND'].value_counts()"
   ]
  },
  {
   "cell_type": "code",
   "execution_count": 605,
   "metadata": {},
   "outputs": [
    {
     "data": {
      "text/plain": [
       "not corrected    58774\n",
       "corrected          322\n",
       "Name: CORRECTIE_REISTIJD, dtype: int64"
      ]
     },
     "execution_count": 605,
     "metadata": {},
     "output_type": "execute_result"
    }
   ],
   "source": [
    "#MPNWAVE8_DAGBOEKdata = MPNWAVE8_DAGBOEKdata[MPNWAVE8_DAGBOEKdata['CORRECTIE_REISTIJD']== 'not corrected']\n",
    "MPNWAVE8_DAGBOEKdata['CORRECTIE_REISTIJD'].value_counts()"
   ]
  },
  {
   "cell_type": "code",
   "execution_count": 606,
   "metadata": {},
   "outputs": [
    {
     "data": {
      "text/plain": [
       "unmarked    58782\n",
       "Name: MARKERING_REISTIJD1, dtype: int64"
      ]
     },
     "execution_count": 606,
     "metadata": {},
     "output_type": "execute_result"
    }
   ],
   "source": [
    "MPNWAVE8_DAGBOEKdata = MPNWAVE8_DAGBOEKdata[MPNWAVE8_DAGBOEKdata['MARKERING_REISTIJD1']== 'unmarked']\n",
    "MPNWAVE8_DAGBOEKdata['MARKERING_REISTIJD1'].value_counts()"
   ]
  },
  {
   "cell_type": "code",
   "execution_count": 607,
   "metadata": {},
   "outputs": [
    {
     "data": {
      "text/plain": [
       "unmarked    58606\n",
       "Name: MARKERING_REISTIJD2, dtype: int64"
      ]
     },
     "execution_count": 607,
     "metadata": {},
     "output_type": "execute_result"
    }
   ],
   "source": [
    "MPNWAVE8_DAGBOEKdata = MPNWAVE8_DAGBOEKdata[MPNWAVE8_DAGBOEKdata['MARKERING_REISTIJD2']== 'unmarked']\n",
    "MPNWAVE8_DAGBOEKdata['MARKERING_REISTIJD2'].value_counts()"
   ]
  },
  {
   "cell_type": "code",
   "execution_count": 608,
   "metadata": {},
   "outputs": [
    {
     "data": {
      "text/plain": [
       "unmarked    58606\n",
       "Name: MARKERING_AFSTAND, dtype: int64"
      ]
     },
     "execution_count": 608,
     "metadata": {},
     "output_type": "execute_result"
    }
   ],
   "source": [
    "MPNWAVE8_DAGBOEKdata = MPNWAVE8_DAGBOEKdata[MPNWAVE8_DAGBOEKdata['MARKERING_AFSTAND']== 'unmarked']\n",
    "MPNWAVE8_DAGBOEKdata['MARKERING_AFSTAND'].value_counts()"
   ]
  },
  {
   "cell_type": "code",
   "execution_count": 609,
   "metadata": {},
   "outputs": [
    {
     "data": {
      "text/plain": [
       "unmarked    55093\n",
       "Name: MARKERING_OVERIG, dtype: int64"
      ]
     },
     "execution_count": 609,
     "metadata": {},
     "output_type": "execute_result"
    }
   ],
   "source": [
    "MPNWAVE8_DAGBOEKdata = MPNWAVE8_DAGBOEKdata[MPNWAVE8_DAGBOEKdata['MARKERING_OVERIG']== 'unmarked']\n",
    "MPNWAVE8_DAGBOEKdata['MARKERING_OVERIG'].value_counts()"
   ]
  },
  {
   "cell_type": "code",
   "execution_count": 610,
   "metadata": {},
   "outputs": [],
   "source": [
    "MPNWAVE8_DAGBOEKdata['DAGSOORT'].replace(['weekday' , 'weekend'] , [1,2] , inplace=True)\n",
    "new = pd.get_dummies(MPNWAVE8_DAGBOEKdata['DAGSOORT'],prefix = 'DAGSOORT')\n",
    "MPNWAVE8_DAGBOEKdata = MPNWAVE8_DAGBOEKdata.join(new)"
   ]
  },
  {
   "cell_type": "code",
   "execution_count": 611,
   "metadata": {},
   "outputs": [],
   "source": [
    "MPNWAVE8_DAGBOEKdata = MPNWAVE8_DAGBOEKdata[MPNWAVE8_DAGBOEKdata['WEGGEWEEST']=='On this day the person did go somewhere']"
   ]
  },
  {
   "cell_type": "code",
   "execution_count": 612,
   "metadata": {},
   "outputs": [
    {
     "data": {
      "text/plain": [
       "On this day the person did go somewhere    52474\n",
       "Name: WEGGEWEEST, dtype: int64"
      ]
     },
     "execution_count": 612,
     "metadata": {},
     "output_type": "execute_result"
    }
   ],
   "source": [
    "MPNWAVE8_DAGBOEKdata['WEGGEWEEST'].value_counts()"
   ]
  },
  {
   "cell_type": "code",
   "execution_count": 613,
   "metadata": {},
   "outputs": [
    {
     "data": {
      "text/plain": [
       "1.0                                           39197\n",
       "3.0                                            3786\n",
       "1.0                                            2904\n",
       "2.0                                            2020\n",
       "4.0                                            1735\n",
       "3.0                                             789\n",
       "5.0                                             570\n",
       "4.0                                             561\n",
       "2.0                                             316\n",
       "6.0                                             192\n",
       "5.0                                             140\n",
       "7.0                                              77\n",
       "6.0                                              42\n",
       "8.0                                              40\n",
       "7.0                                              28\n",
       "9.0                                              27\n",
       "11.0                                             22\n",
       "10.0                                             10\n",
       "9.0                                               9\n",
       "8.0                                               8\n",
       "On this day the person did not take a trip        1\n",
       "Name: AANTRIT, dtype: int64"
      ]
     },
     "execution_count": 613,
     "metadata": {},
     "output_type": "execute_result"
    }
   ],
   "source": [
    "MPNWAVE8_DAGBOEKdata['AANTRIT'].value_counts()"
   ]
  },
  {
   "cell_type": "code",
   "execution_count": 614,
   "metadata": {},
   "outputs": [],
   "source": [
    "MPNWAVE8_DAGBOEKdata['multimodal'] = MPNWAVE8_DAGBOEKdata['AANTRIT']\n",
    "MPNWAVE8_DAGBOEKdata['multimodal'] = MPNWAVE8_DAGBOEKdata['multimodal'].map(lambda x: 0 if x == 1 or x == '1.0' else 1)"
   ]
  },
  {
   "cell_type": "code",
   "execution_count": 615,
   "metadata": {},
   "outputs": [
    {
     "data": {
      "text/plain": [
       "1.0                                           39197\n",
       "3.0                                            3786\n",
       "1.0                                            2904\n",
       "2.0                                            2020\n",
       "4.0                                            1735\n",
       "3.0                                             789\n",
       "5.0                                             570\n",
       "4.0                                             561\n",
       "2.0                                             316\n",
       "6.0                                             192\n",
       "5.0                                             140\n",
       "7.0                                              77\n",
       "6.0                                              42\n",
       "8.0                                              40\n",
       "7.0                                              28\n",
       "9.0                                              27\n",
       "11.0                                             22\n",
       "10.0                                             10\n",
       "9.0                                               9\n",
       "8.0                                               8\n",
       "On this day the person did not take a trip        1\n",
       "Name: AANTRIT, dtype: int64"
      ]
     },
     "execution_count": 615,
     "metadata": {},
     "output_type": "execute_result"
    }
   ],
   "source": [
    "MPNWAVE8_DAGBOEKdata['AANTRIT'].value_counts()"
   ]
  },
  {
   "cell_type": "code",
   "execution_count": 616,
   "metadata": {},
   "outputs": [
    {
     "data": {
      "text/plain": [
       "0    42101\n",
       "1    10373\n",
       "Name: multimodal, dtype: int64"
      ]
     },
     "execution_count": 616,
     "metadata": {},
     "output_type": "execute_result"
    }
   ],
   "source": [
    "MPNWAVE8_DAGBOEKdata['multimodal'].value_counts()"
   ]
  },
  {
   "cell_type": "code",
   "execution_count": 617,
   "metadata": {},
   "outputs": [
    {
     "data": {
      "text/plain": [
       "\"MPNWAVE8_DAGBOEKdata.drop(['SAMENREIZEN',\\t'BTYPEVERPL',\\t'BTYPEWERK'\\t,'BAFSTV'\\t,'BHVM'\\t,'KBHVM'\\t,'BRVM'\\t,'KBRVM'\\t,'AFSTVBL',\\t'REISDUURBL'\\t,'CORRECTIE_VVM'\\t,'MARKERING_VVM',\\t'CORRECTIE_AFSTAND',\\t'CORRECTIE_REISTIJD',\\t'MARKERING_REISTIJD1'\\t,'MARKERING_REISTIJD2'\\t,'MARKERING_AFSTAND'\\t,'MARKERING_OVERIG','PERSOON'\\t\\t,\\t'HH_VALID',\\t'IMPHHDATA'\\t,'P_VALID',\\n'WEGGEWEEST'\\t,'VERTREKP',\\t'AANTVPL',\\t'VPLDAGNR',\\t'VERPL', 'VERTPROV',\\t'AANKPROV', 'HVM'\\n,'RIT',\\t'RVM','CORRECTIE_VERTREKDATUM','VERTPC2',\\t'AANKPC2'\\n],axis=1,inplace=True)\""
      ]
     },
     "execution_count": 617,
     "metadata": {},
     "output_type": "execute_result"
    }
   ],
   "source": [
    "'''MPNWAVE8_DAGBOEKdata.drop(['SAMENREIZEN',\t'BTYPEVERPL',\t'BTYPEWERK'\t,'BAFSTV'\t,'BHVM'\t,'KBHVM'\t,'BRVM'\t,'KBRVM'\t,'AFSTVBL',\t'REISDUURBL'\t,'CORRECTIE_VVM'\t,'MARKERING_VVM',\t'CORRECTIE_AFSTAND',\t'CORRECTIE_REISTIJD',\t'MARKERING_REISTIJD1'\t,'MARKERING_REISTIJD2'\t,'MARKERING_AFSTAND'\t,'MARKERING_OVERIG','PERSOON'\t\t,\t'HH_VALID',\t'IMPHHDATA'\t,'P_VALID',\n",
    "'WEGGEWEEST'\t,'VERTREKP',\t'AANTVPL',\t'VPLDAGNR',\t'VERPL', 'VERTPROV',\t'AANKPROV', 'HVM'\n",
    ",'RIT',\t'RVM','CORRECTIE_VERTREKDATUM','VERTPC2',\t'AANKPC2'\n",
    "],axis=1,inplace=True)'''\n"
   ]
  },
  {
   "cell_type": "code",
   "execution_count": 618,
   "metadata": {},
   "outputs": [
    {
     "data": {
      "text/plain": [
       "count    52474.000000\n",
       "mean         0.197679\n",
       "std          0.398252\n",
       "min          0.000000\n",
       "25%          0.000000\n",
       "50%          0.000000\n",
       "75%          0.000000\n",
       "max          1.000000\n",
       "Name: multimodal, dtype: float64"
      ]
     },
     "execution_count": 618,
     "metadata": {},
     "output_type": "execute_result"
    }
   ],
   "source": [
    "MPNWAVE8_DAGBOEKdata['multimodal'].describe()\n",
    "#MPNWAVE8_DAGBOEKdata.to_csv('F:/more work/the netherlands/4 wave/wave7/MPNWAVE7_DAGBOEKdata_binary.csv',index=False)"
   ]
  },
  {
   "cell_type": "code",
   "execution_count": 619,
   "metadata": {},
   "outputs": [],
   "source": [
    "df = pd.DataFrame()\n"
   ]
  },
  {
   "cell_type": "code",
   "execution_count": 620,
   "metadata": {},
   "outputs": [],
   "source": [
    "column = ['HHID',\t'PERSID'\t,'JAAR'\t,'VPLID'\t,'VERPLNR'\t,'TOER'\t,'TOER_TYPE'\t,'AANTRIT'\t,'DOEL' ,\t'KMOTIEF','KHVM','KRVM','DAGSOORT','AFSTV','AFSTV_ORG',\t'G_AFSTAND'\t,'KAFSTV', 'REISDUUR',\t'KREISDUUR' ]\n"
   ]
  },
  {
   "cell_type": "code",
   "execution_count": 621,
   "metadata": {},
   "outputs": [],
   "source": [
    "df[column] = MPNWAVE8_DAGBOEKdata[column]"
   ]
  },
  {
   "cell_type": "code",
   "execution_count": 622,
   "metadata": {},
   "outputs": [
    {
     "data": {
      "text/plain": [
       "\"new = pd.get_dummies(MPNWAVE8_DAGBOEKdata['TOER_TYPE'],prefix = 'TOER_TYPE')\\ndf = df.join(new)\\ndf.drop('TOER_TYPE_0' , axis=1,inplace=True)\\n\\nnew = pd.get_dummies(MPNWAVE8_DAGBOEKdata['DOEL'],prefix = 'DOEL')\\ndf = df.join(new)\\ndf.drop('DOEL_0' , axis=1,inplace=True)\\n\\nnew = pd.get_dummies(MPNWAVE8_DAGBOEKdata['KMOTIEF'],prefix = 'KMOTIEF')\\ndf = df.join(new)\\ndf.drop('KMOTIEF_0' , axis=1,inplace=True)\\n\\nnew = pd.get_dummies(MPNWAVE8_DAGBOEKdata['KHVM'],prefix = 'KHVM')\\ndf = df.join(new)\\ndf.drop('KHVM_0.0' , axis=1,inplace=True)\\n\\nnew = pd.get_dummies(MPNWAVE8_DAGBOEKdata['KRVM'],prefix = 'KRVM')\\ndf = df.join(new)\\ndf.drop('KRVM_0.0' , axis=1,inplace=True)\\n\\nnew = pd.get_dummies(MPNWAVE8_DAGBOEKdata['KAFSTV'],prefix = 'KAFSTV')\\ndf = df.join(new)\\n\\nnew = pd.get_dummies(MPNWAVE8_DAGBOEKdata['KREISDUUR'],prefix = 'KREISDUUR')\\ndf = df.join(new)\\n\""
      ]
     },
     "execution_count": 622,
     "metadata": {},
     "output_type": "execute_result"
    }
   ],
   "source": [
    "'''new = pd.get_dummies(MPNWAVE8_DAGBOEKdata['TOER_TYPE'],prefix = 'TOER_TYPE')\n",
    "df = df.join(new)\n",
    "df.drop('TOER_TYPE_0' , axis=1,inplace=True)\n",
    "\n",
    "new = pd.get_dummies(MPNWAVE8_DAGBOEKdata['DOEL'],prefix = 'DOEL')\n",
    "df = df.join(new)\n",
    "df.drop('DOEL_0' , axis=1,inplace=True)\n",
    "\n",
    "new = pd.get_dummies(MPNWAVE8_DAGBOEKdata['KMOTIEF'],prefix = 'KMOTIEF')\n",
    "df = df.join(new)\n",
    "df.drop('KMOTIEF_0' , axis=1,inplace=True)\n",
    "\n",
    "new = pd.get_dummies(MPNWAVE8_DAGBOEKdata['KHVM'],prefix = 'KHVM')\n",
    "df = df.join(new)\n",
    "df.drop('KHVM_0.0' , axis=1,inplace=True)\n",
    "\n",
    "new = pd.get_dummies(MPNWAVE8_DAGBOEKdata['KRVM'],prefix = 'KRVM')\n",
    "df = df.join(new)\n",
    "df.drop('KRVM_0.0' , axis=1,inplace=True)\n",
    "\n",
    "new = pd.get_dummies(MPNWAVE8_DAGBOEKdata['KAFSTV'],prefix = 'KAFSTV')\n",
    "df = df.join(new)\n",
    "\n",
    "new = pd.get_dummies(MPNWAVE8_DAGBOEKdata['KREISDUUR'],prefix = 'KREISDUUR')\n",
    "df = df.join(new)\n",
    "'''\n"
   ]
  },
  {
   "cell_type": "code",
   "execution_count": 623,
   "metadata": {},
   "outputs": [],
   "source": [
    "df['multimodal'] = MPNWAVE8_DAGBOEKdata['multimodal']"
   ]
  },
  {
   "cell_type": "code",
   "execution_count": 624,
   "metadata": {},
   "outputs": [
    {
     "data": {
      "text/html": [
       "<div>\n",
       "<style scoped>\n",
       "    .dataframe tbody tr th:only-of-type {\n",
       "        vertical-align: middle;\n",
       "    }\n",
       "\n",
       "    .dataframe tbody tr th {\n",
       "        vertical-align: top;\n",
       "    }\n",
       "\n",
       "    .dataframe thead th {\n",
       "        text-align: right;\n",
       "    }\n",
       "</style>\n",
       "<table border=\"1\" class=\"dataframe\">\n",
       "  <thead>\n",
       "    <tr style=\"text-align: right;\">\n",
       "      <th></th>\n",
       "      <th>HHID</th>\n",
       "      <th>PERSID</th>\n",
       "      <th>JAAR</th>\n",
       "      <th>VPLID</th>\n",
       "      <th>TOER</th>\n",
       "      <th>DOEL</th>\n",
       "      <th>KMOTIEF</th>\n",
       "      <th>KHVM</th>\n",
       "      <th>KRVM</th>\n",
       "      <th>DAGSOORT</th>\n",
       "      <th>AFSTV</th>\n",
       "      <th>AFSTV_ORG</th>\n",
       "      <th>G_AFSTAND</th>\n",
       "      <th>KAFSTV</th>\n",
       "      <th>REISDUUR</th>\n",
       "      <th>KREISDUUR</th>\n",
       "      <th>multimodal</th>\n",
       "    </tr>\n",
       "  </thead>\n",
       "  <tbody>\n",
       "    <tr>\n",
       "      <th>count</th>\n",
       "      <td>5.247400e+04</td>\n",
       "      <td>5.247400e+04</td>\n",
       "      <td>52474.0</td>\n",
       "      <td>52474.000000</td>\n",
       "      <td>52474.000000</td>\n",
       "      <td>52474.000000</td>\n",
       "      <td>52474.000000</td>\n",
       "      <td>51579.000000</td>\n",
       "      <td>51579.000000</td>\n",
       "      <td>52474.000000</td>\n",
       "      <td>50927.000000</td>\n",
       "      <td>52473.000000</td>\n",
       "      <td>47001.000000</td>\n",
       "      <td>51578.000000</td>\n",
       "      <td>50927.000000</td>\n",
       "      <td>51579.000000</td>\n",
       "      <td>52474.000000</td>\n",
       "    </tr>\n",
       "    <tr>\n",
       "      <th>mean</th>\n",
       "      <td>3.061028e+07</td>\n",
       "      <td>3.061028e+09</td>\n",
       "      <td>2017.0</td>\n",
       "      <td>598316.825742</td>\n",
       "      <td>0.049472</td>\n",
       "      <td>4.883009</td>\n",
       "      <td>3.773412</td>\n",
       "      <td>3.458656</td>\n",
       "      <td>3.807499</td>\n",
       "      <td>1.223482</td>\n",
       "      <td>14.718328</td>\n",
       "      <td>18.797735</td>\n",
       "      <td>14.519195</td>\n",
       "      <td>5.737058</td>\n",
       "      <td>26.240108</td>\n",
       "      <td>4.725470</td>\n",
       "      <td>0.197679</td>\n",
       "    </tr>\n",
       "    <tr>\n",
       "      <th>std</th>\n",
       "      <td>3.723399e+05</td>\n",
       "      <td>3.723399e+07</td>\n",
       "      <td>0.0</td>\n",
       "      <td>39230.191357</td>\n",
       "      <td>0.216854</td>\n",
       "      <td>4.171350</td>\n",
       "      <td>2.655762</td>\n",
       "      <td>2.448352</td>\n",
       "      <td>2.621878</td>\n",
       "      <td>0.416583</td>\n",
       "      <td>27.307812</td>\n",
       "      <td>131.419294</td>\n",
       "      <td>26.583593</td>\n",
       "      <td>3.759239</td>\n",
       "      <td>39.147792</td>\n",
       "      <td>2.761665</td>\n",
       "      <td>0.398252</td>\n",
       "    </tr>\n",
       "    <tr>\n",
       "      <th>min</th>\n",
       "      <td>3.000050e+07</td>\n",
       "      <td>3.000050e+09</td>\n",
       "      <td>2017.0</td>\n",
       "      <td>530190.000000</td>\n",
       "      <td>0.000000</td>\n",
       "      <td>0.000000</td>\n",
       "      <td>0.000000</td>\n",
       "      <td>0.000000</td>\n",
       "      <td>0.000000</td>\n",
       "      <td>1.000000</td>\n",
       "      <td>0.000000</td>\n",
       "      <td>0.001000</td>\n",
       "      <td>0.000000</td>\n",
       "      <td>1.000000</td>\n",
       "      <td>-1345.000000</td>\n",
       "      <td>1.000000</td>\n",
       "      <td>0.000000</td>\n",
       "    </tr>\n",
       "    <tr>\n",
       "      <th>25%</th>\n",
       "      <td>3.040472e+07</td>\n",
       "      <td>3.040472e+09</td>\n",
       "      <td>2017.0</td>\n",
       "      <td>563880.500000</td>\n",
       "      <td>0.000000</td>\n",
       "      <td>1.000000</td>\n",
       "      <td>1.000000</td>\n",
       "      <td>1.000000</td>\n",
       "      <td>1.000000</td>\n",
       "      <td>1.000000</td>\n",
       "      <td>1.200000</td>\n",
       "      <td>1.300000</td>\n",
       "      <td>1.102000</td>\n",
       "      <td>3.000000</td>\n",
       "      <td>8.000000</td>\n",
       "      <td>2.000000</td>\n",
       "      <td>0.000000</td>\n",
       "    </tr>\n",
       "    <tr>\n",
       "      <th>50%</th>\n",
       "      <td>3.071740e+07</td>\n",
       "      <td>3.071740e+09</td>\n",
       "      <td>2017.0</td>\n",
       "      <td>598509.000000</td>\n",
       "      <td>0.000000</td>\n",
       "      <td>2.000000</td>\n",
       "      <td>4.000000</td>\n",
       "      <td>3.000000</td>\n",
       "      <td>4.000000</td>\n",
       "      <td>1.000000</td>\n",
       "      <td>4.000000</td>\n",
       "      <td>4.000000</td>\n",
       "      <td>3.861000</td>\n",
       "      <td>5.000000</td>\n",
       "      <td>15.000000</td>\n",
       "      <td>4.000000</td>\n",
       "      <td>0.000000</td>\n",
       "    </tr>\n",
       "    <tr>\n",
       "      <th>75%</th>\n",
       "      <td>3.086335e+07</td>\n",
       "      <td>3.086335e+09</td>\n",
       "      <td>2017.0</td>\n",
       "      <td>632207.500000</td>\n",
       "      <td>0.000000</td>\n",
       "      <td>8.000000</td>\n",
       "      <td>6.000000</td>\n",
       "      <td>6.000000</td>\n",
       "      <td>6.000000</td>\n",
       "      <td>1.000000</td>\n",
       "      <td>15.000000</td>\n",
       "      <td>16.000000</td>\n",
       "      <td>15.542000</td>\n",
       "      <td>9.000000</td>\n",
       "      <td>32.000000</td>\n",
       "      <td>7.000000</td>\n",
       "      <td>0.000000</td>\n",
       "    </tr>\n",
       "    <tr>\n",
       "      <th>max</th>\n",
       "      <td>3.451631e+07</td>\n",
       "      <td>3.451631e+09</td>\n",
       "      <td>2017.0</td>\n",
       "      <td>666664.000000</td>\n",
       "      <td>1.000000</td>\n",
       "      <td>14.000000</td>\n",
       "      <td>8.000000</td>\n",
       "      <td>7.000000</td>\n",
       "      <td>7.000000</td>\n",
       "      <td>2.000000</td>\n",
       "      <td>655.100000</td>\n",
       "      <td>8772.000000</td>\n",
       "      <td>365.653000</td>\n",
       "      <td>13.000000</td>\n",
       "      <td>870.000000</td>\n",
       "      <td>11.000000</td>\n",
       "      <td>1.000000</td>\n",
       "    </tr>\n",
       "  </tbody>\n",
       "</table>\n",
       "</div>"
      ],
      "text/plain": [
       "               HHID        PERSID     JAAR          VPLID          TOER  \\\n",
       "count  5.247400e+04  5.247400e+04  52474.0   52474.000000  52474.000000   \n",
       "mean   3.061028e+07  3.061028e+09   2017.0  598316.825742      0.049472   \n",
       "std    3.723399e+05  3.723399e+07      0.0   39230.191357      0.216854   \n",
       "min    3.000050e+07  3.000050e+09   2017.0  530190.000000      0.000000   \n",
       "25%    3.040472e+07  3.040472e+09   2017.0  563880.500000      0.000000   \n",
       "50%    3.071740e+07  3.071740e+09   2017.0  598509.000000      0.000000   \n",
       "75%    3.086335e+07  3.086335e+09   2017.0  632207.500000      0.000000   \n",
       "max    3.451631e+07  3.451631e+09   2017.0  666664.000000      1.000000   \n",
       "\n",
       "               DOEL       KMOTIEF          KHVM          KRVM      DAGSOORT  \\\n",
       "count  52474.000000  52474.000000  51579.000000  51579.000000  52474.000000   \n",
       "mean       4.883009      3.773412      3.458656      3.807499      1.223482   \n",
       "std        4.171350      2.655762      2.448352      2.621878      0.416583   \n",
       "min        0.000000      0.000000      0.000000      0.000000      1.000000   \n",
       "25%        1.000000      1.000000      1.000000      1.000000      1.000000   \n",
       "50%        2.000000      4.000000      3.000000      4.000000      1.000000   \n",
       "75%        8.000000      6.000000      6.000000      6.000000      1.000000   \n",
       "max       14.000000      8.000000      7.000000      7.000000      2.000000   \n",
       "\n",
       "              AFSTV     AFSTV_ORG     G_AFSTAND        KAFSTV      REISDUUR  \\\n",
       "count  50927.000000  52473.000000  47001.000000  51578.000000  50927.000000   \n",
       "mean      14.718328     18.797735     14.519195      5.737058     26.240108   \n",
       "std       27.307812    131.419294     26.583593      3.759239     39.147792   \n",
       "min        0.000000      0.001000      0.000000      1.000000  -1345.000000   \n",
       "25%        1.200000      1.300000      1.102000      3.000000      8.000000   \n",
       "50%        4.000000      4.000000      3.861000      5.000000     15.000000   \n",
       "75%       15.000000     16.000000     15.542000      9.000000     32.000000   \n",
       "max      655.100000   8772.000000    365.653000     13.000000    870.000000   \n",
       "\n",
       "          KREISDUUR    multimodal  \n",
       "count  51579.000000  52474.000000  \n",
       "mean       4.725470      0.197679  \n",
       "std        2.761665      0.398252  \n",
       "min        1.000000      0.000000  \n",
       "25%        2.000000      0.000000  \n",
       "50%        4.000000      0.000000  \n",
       "75%        7.000000      0.000000  \n",
       "max       11.000000      1.000000  "
      ]
     },
     "execution_count": 624,
     "metadata": {},
     "output_type": "execute_result"
    }
   ],
   "source": [
    "df.describe()"
   ]
  },
  {
   "cell_type": "code",
   "execution_count": 625,
   "metadata": {},
   "outputs": [
    {
     "data": {
      "text/plain": [
       "Index(['HHID', 'PERSID', 'JAAR', 'VPLID', 'VERPLNR', 'TOER', 'TOER_TYPE',\n",
       "       'AANTRIT', 'DOEL', 'KMOTIEF', 'KHVM', 'KRVM', 'DAGSOORT', 'AFSTV',\n",
       "       'AFSTV_ORG', 'G_AFSTAND', 'KAFSTV', 'REISDUUR', 'KREISDUUR',\n",
       "       'multimodal'],\n",
       "      dtype='object')"
      ]
     },
     "execution_count": 625,
     "metadata": {},
     "output_type": "execute_result"
    }
   ],
   "source": [
    "df.columns"
   ]
  },
  {
   "cell_type": "code",
   "execution_count": 626,
   "metadata": {},
   "outputs": [],
   "source": [
    "df.to_csv('F:/more work/the netherlands/4 wave/wave5/wave5DAGBOEKdatafinalbinary.csv',index=False)"
   ]
  },
  {
   "cell_type": "code",
   "execution_count": 627,
   "metadata": {},
   "outputs": [],
   "source": [
    "#pp = pd.read_csv('F:/more work/the netherlands/4 wave/wave6/wave6DAGBOEKdatafinalbinary.csv')"
   ]
  }
 ],
 "metadata": {
  "kernelspec": {
   "display_name": "Python 3.10.8 64-bit",
   "language": "python",
   "name": "python3"
  },
  "language_info": {
   "codemirror_mode": {
    "name": "ipython",
    "version": 3
   },
   "file_extension": ".py",
   "mimetype": "text/x-python",
   "name": "python",
   "nbconvert_exporter": "python",
   "pygments_lexer": "ipython3",
   "version": "3.10.9"
  },
  "orig_nbformat": 4,
  "vscode": {
   "interpreter": {
    "hash": "2b324498af64d22b4773901be112d66dec816013b7f64fed368c8550f7daba2d"
   }
  }
 },
 "nbformat": 4,
 "nbformat_minor": 2
}
