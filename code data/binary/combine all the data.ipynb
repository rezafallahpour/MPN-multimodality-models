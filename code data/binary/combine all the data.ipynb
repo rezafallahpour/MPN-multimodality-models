{
 "cells": [
  {
   "cell_type": "code",
   "execution_count": 1,
   "metadata": {},
   "outputs": [],
   "source": [
    "import pandas as pd\n",
    "import numpy as np"
   ]
  },
  {
   "cell_type": "code",
   "execution_count": 2,
   "metadata": {},
   "outputs": [],
   "source": [
    "data1 = pd.read_csv('F:/more work/the netherlands/4 wave/wave5/MultianddiaryAndTtAndPAndHHMerged.csv')\n",
    "data1.drop('Unnamed: 0',axis=1,inplace=True)"
   ]
  },
  {
   "cell_type": "code",
   "execution_count": 3,
   "metadata": {},
   "outputs": [],
   "source": [
    "data2 = pd.read_csv('F:/more work/the netherlands/4 wave/wave6/MultianddiaryAndTtAndPAndHHMerged.csv')\n",
    "data2.drop('Unnamed: 0',axis=1,inplace=True)\n",
    "data3 = pd.read_csv('F:/more work/the netherlands/4 wave/wave7/MultianddiaryAndTtAndPAndHHMerged.csv')\n",
    "data3.drop('Unnamed: 0',axis=1,inplace=True)\n",
    "data4 = pd.read_csv('F:/more work/the netherlands/4 wave/wave8/MultianddiaryAndTtAndPAndHHMerged.csv')\n",
    "data4.drop('Unnamed: 0',axis=1,inplace=True)"
   ]
  },
  {
   "cell_type": "code",
   "execution_count": 4,
   "metadata": {},
   "outputs": [
    {
     "data": {
      "text/plain": [
       "0    35871\n",
       "1     3293\n",
       "Name: multimodal, dtype: int64"
      ]
     },
     "execution_count": 4,
     "metadata": {},
     "output_type": "execute_result"
    }
   ],
   "source": [
    "data1[\"multimodal\"].value_counts(dropna=False)\n"
   ]
  },
  {
   "cell_type": "code",
   "execution_count": 5,
   "metadata": {},
   "outputs": [
    {
     "data": {
      "text/plain": [
       "0    40645\n",
       "1     3957\n",
       "Name: multimodal, dtype: int64"
      ]
     },
     "execution_count": 5,
     "metadata": {},
     "output_type": "execute_result"
    }
   ],
   "source": [
    "data2[\"multimodal\"].value_counts(dropna=False)\n"
   ]
  },
  {
   "cell_type": "code",
   "execution_count": 6,
   "metadata": {},
   "outputs": [
    {
     "data": {
      "text/plain": [
       "0    35367\n",
       "1     3365\n",
       "Name: multimodal, dtype: int64"
      ]
     },
     "execution_count": 6,
     "metadata": {},
     "output_type": "execute_result"
    }
   ],
   "source": [
    "data3[\"multimodal\"].value_counts(dropna=False)\n"
   ]
  },
  {
   "cell_type": "code",
   "execution_count": 7,
   "metadata": {},
   "outputs": [
    {
     "data": {
      "text/plain": [
       "0    24695\n",
       "1      948\n",
       "Name: multimodal, dtype: int64"
      ]
     },
     "execution_count": 7,
     "metadata": {},
     "output_type": "execute_result"
    }
   ],
   "source": [
    "\n",
    "data4[\"multimodal\"].value_counts(dropna=False)"
   ]
  },
  {
   "cell_type": "code",
   "execution_count": 8,
   "metadata": {},
   "outputs": [],
   "source": [
    "fianldataformodel = pd.concat([data1,data2,data3,data4],ignore_index=True, sort=False)"
   ]
  },
  {
   "cell_type": "code",
   "execution_count": 9,
   "metadata": {},
   "outputs": [
    {
     "data": {
      "text/plain": [
       "0    136578\n",
       "1     11563\n",
       "Name: multimodal, dtype: int64"
      ]
     },
     "execution_count": 9,
     "metadata": {},
     "output_type": "execute_result"
    }
   ],
   "source": [
    "fianldataformodel[\"multimodal\"].value_counts(dropna=False)"
   ]
  },
  {
   "cell_type": "code",
   "execution_count": 10,
   "metadata": {},
   "outputs": [],
   "source": [
    "fianldataformodel = fianldataformodel.rename(columns={\"Time_driv\":\"CarTravelTime1\",\"Time_traffic_driv\":\"CarTravelTimeTraffic1\",\"Dist_driv\":\"CarDistance1\",\"Status_driv\":\"CarStatus1\",\"Time_bike\":\"BikeTravelTime1\",\"Dist_bike\":\"BikeDistance1\",\"Status_bike\":\"BikeStatus1\",\"Time_walk\":\"WalkTravelTime1\", \"Dist_walk\":\"WalkDistance1\",\"Status_walk\":\"WalkStatus1\",\"Dist_transit\":\"TransitDistance1\",\"Time_transit\":\"TransitDuration1\",\"Status_transit\":\"TransitStatus1\",\"Only_walking_transit\":\"Transit_only_walking1\"})"
   ]
  },
  {
   "cell_type": "code",
   "execution_count": 11,
   "metadata": {},
   "outputs": [
    {
     "data": {
      "text/plain": [
       "NaN    86410\n",
       "0.0    42588\n",
       "1.0    19143\n",
       "Name: Transit_only_walking, dtype: int64"
      ]
     },
     "execution_count": 11,
     "metadata": {},
     "output_type": "execute_result"
    }
   ],
   "source": [
    "fianldataformodel[\"Transit_only_walking\"] .value_counts(dropna=False)"
   ]
  },
  {
   "cell_type": "code",
   "execution_count": 12,
   "metadata": {},
   "outputs": [],
   "source": [
    "cc = ['BikeDistance', 'BikeTravelTime', 'BikeStatus', 'WalkDistance',\n",
    "       'WalkTravelTime', 'WalkStatus', 'CarDistance', 'CarTravelTime',\n",
    "       'CarTravelTimeTraffic', 'CarStatus', 'TransitStatus', 'TransitDistance',\n",
    "       'TransitDuration', 'Transit_only_walking']\n",
    "for i in cc:\n",
    "    p=\"1\"\n",
    "    fianldataformodel[i].replace(np.nan,0,inplace=True)\n",
    "    fianldataformodel[i+p].replace(np.nan,0,inplace=True)\n",
    "    #fianldataformodel[i] = fianldataformodel[i+p] + fianldataformodel[i]"
   ]
  },
  {
   "cell_type": "code",
   "execution_count": 13,
   "metadata": {},
   "outputs": [],
   "source": [
    "fianldataformodel[\"BikeDistance\"] = fianldataformodel[\"BikeDistance1\"] + fianldataformodel[\"BikeDistance\"] \n",
    "fianldataformodel[\"BikeTravelTime\"] = fianldataformodel[\"BikeTravelTime1\"] + fianldataformodel[\"BikeTravelTime\"]\n",
    "#fianldataformodel[\"BikeStatus\"] = fianldataformodel[\"BikeStatus1\"] + fianldataformodel[\"BikeStatus\"]\n",
    "fianldataformodel[\"WalkDistance\"] = fianldataformodel[\"WalkDistance1\"] + fianldataformodel[\"WalkDistance\"]\n",
    "fianldataformodel[\"WalkTravelTime\"] = fianldataformodel[\"WalkTravelTime1\"] + fianldataformodel[\"WalkTravelTime\"]\n",
    "#fianldataformodel[\"WalkStatus\"] = fianldataformodel[\"WalkStatus1\"] + fianldataformodel[\"WalkStatus\"]\n",
    "fianldataformodel[\"CarDistance\"] = fianldataformodel[\"CarDistance1\"] + fianldataformodel[\"CarDistance\"]\n",
    "fianldataformodel[\"CarTravelTime\"] = fianldataformodel[\"CarTravelTime1\"] + fianldataformodel[\"CarTravelTime\"]\n",
    "fianldataformodel[\"CarTravelTimeTraffic\"] = fianldataformodel[\"CarTravelTimeTraffic1\"] + fianldataformodel[\"CarTravelTimeTraffic\"]\n",
    "#fianldataformodel[\"CarStatus\"] = fianldataformodel[\"CarStatus1\"] + fianldataformodel[\"CarStatus\"]\n",
    "#fianldataformodel[\"TransitStatus\"] = fianldataformodel[\"TransitStatus1\"] + fianldataformodel[\"TransitStatus\"]\n",
    "fianldataformodel[\"TransitDistance\"] = fianldataformodel[\"TransitDistance1\"] + fianldataformodel[\"TransitDistance\"]\n",
    "fianldataformodel[\"TransitDuration\"] = fianldataformodel[\"TransitDuration1\"] + fianldataformodel[\"TransitDuration\"]\n",
    "fianldataformodel[\"Transit_only_walking\"] = fianldataformodel[\"Transit_only_walking1\"] + fianldataformodel[\"Transit_only_walking\"]\n"
   ]
  },
  {
   "cell_type": "code",
   "execution_count": 14,
   "metadata": {},
   "outputs": [],
   "source": [
    "fianldataformodel.drop(['P_VALID_y','CarTravelTime1', 'CarTravelTimeTraffic1', 'CarDistance1',\n",
    "       'CarStatus1', 'BikeTravelTime1', 'BikeDistance1', 'BikeStatus1',\n",
    "       'WalkTravelTime1', 'WalkDistance1', 'WalkStatus1', 'TransitDistance1',\n",
    "       'TransitDuration1', 'TransitStatus1', 'Transit_only_walking1'],axis=1,inplace=True)"
   ]
  },
  {
   "cell_type": "code",
   "execution_count": 15,
   "metadata": {},
   "outputs": [],
   "source": [
    "fianldataformodel = fianldataformodel[fianldataformodel[\"P_VALID_x\"]==\"person completed the questionnaire and completed the diary\"]\n",
    "fianldataformodel.drop([\"P_VALID_x\"],axis=1,inplace=True)"
   ]
  },
  {
   "cell_type": "code",
   "execution_count": 16,
   "metadata": {},
   "outputs": [],
   "source": [
    "fianldataformodel = fianldataformodel[fianldataformodel['MARKERING_REISTIJD1']== 'unmarked']\n",
    "fianldataformodel = fianldataformodel[fianldataformodel['MARKERING_REISTIJD2']== 'unmarked']\n",
    "fianldataformodel = fianldataformodel[fianldataformodel['MARKERING_AFSTAND']== 'unmarked']\n",
    "fianldataformodel = fianldataformodel[fianldataformodel['MARKERING_OVERIG']== 'unmarked']\n",
    "\n"
   ]
  },
  {
   "cell_type": "code",
   "execution_count": 17,
   "metadata": {},
   "outputs": [],
   "source": [
    "fianldataformodel=fianldataformodel[fianldataformodel[\"BikeDistance\"]!=0]\n",
    "fianldataformodel=fianldataformodel[fianldataformodel[\"BikeTravelTime\"]!=0]\n",
    "fianldataformodel=fianldataformodel[fianldataformodel[\"WalkDistance\"]!=0]\n",
    "fianldataformodel=fianldataformodel[fianldataformodel[\"WalkTravelTime\"]!=0]\n",
    "fianldataformodel=fianldataformodel[fianldataformodel[\"CarDistance\"]!=0]\n",
    "fianldataformodel=fianldataformodel[fianldataformodel[\"CarTravelTime\"]!=0]\n",
    "fianldataformodel=fianldataformodel[fianldataformodel[\"CarTravelTimeTraffic\"]!=0]\n",
    "fianldataformodel=fianldataformodel[fianldataformodel[\"TransitDistance\"]!=0]\n",
    "fianldataformodel=fianldataformodel[fianldataformodel[\"TransitDuration\"]!=0]\n",
    "\n",
    "\n"
   ]
  },
  {
   "cell_type": "code",
   "execution_count": 18,
   "metadata": {},
   "outputs": [
    {
     "data": {
      "text/plain": [
       "0    124033\n",
       "1     10418\n",
       "Name: multimodal, dtype: int64"
      ]
     },
     "execution_count": 18,
     "metadata": {},
     "output_type": "execute_result"
    }
   ],
   "source": [
    "fianldataformodel[\"multimodal\"].value_counts(dropna=False)"
   ]
  },
  {
   "cell_type": "code",
   "execution_count": 19,
   "metadata": {},
   "outputs": [],
   "source": [
    "fianldataformodel.drop(['MARKERING_VVM',\t'MARKERING_REISTIJD1',\t'MARKERING_REISTIJD2',\t'MARKERING_AFSTAND',\t'MARKERING_OVERIG','VERPLNR','DiaryID','TOER_TYPE'],axis=1,inplace=True)"
   ]
  },
  {
   "cell_type": "code",
   "execution_count": 20,
   "metadata": {},
   "outputs": [],
   "source": [
    "fianldataformodel.dropna(inplace=True)"
   ]
  },
  {
   "cell_type": "code",
   "execution_count": 21,
   "metadata": {},
   "outputs": [
    {
     "data": {
      "text/plain": [
       "Index(['HHID', 'NID', 'PERSID', 'JAAR', 'VPLID', 'TOER', 'AANTRIT_x', 'DOEL',\n",
       "       'KMOTIEF', 'KHVM', 'KRVM', 'DAGSOORT', 'AFSTV', 'AFSTV_ORG',\n",
       "       'G_AFSTAND', 'KAFSTV', 'REISDUUR', 'KREISDUUR', 'AANTRIT_y', 'KRVM_x',\n",
       "       'multimodal', 'KRVM_y', 'KRVM_F', 'Mode_Car', 'Mode__Other', 'Mode_PT',\n",
       "       'Mode_Bicycle', 'Mode_Choices1', 'Mode_Choices2', 'Mode_Choices3',\n",
       "       'Mode_Choices4', 'Mode_Choices5', 'GESLACHT', 'OPLEIDING', 'WERKZAAM',\n",
       "       'VVM_WERK_w5', 'RIJBEWIJS', 'PAUTO', 'PBROM', 'PFIETS', 'PEBIKE',\n",
       "       'TYPE_OVKAART3', 'TYPE_OVKAART5', 'KLEEFT2', 'HHAUTO_N', 'HHPARK1',\n",
       "       'HHPARK2', 'HHPARK3', 'HHPARK4', 'BikeDistance', 'BikeTravelTime',\n",
       "       'BikeStatus', 'WalkDistance', 'WalkTravelTime', 'WalkStatus',\n",
       "       'CarDistance', 'CarTravelTime', 'CarTravelTimeTraffic', 'CarStatus',\n",
       "       'TransitStatus', 'TransitDistance', 'TransitDuration',\n",
       "       'Transit_only_walking'],\n",
       "      dtype='object')"
      ]
     },
     "execution_count": 21,
     "metadata": {},
     "output_type": "execute_result"
    }
   ],
   "source": [
    "fianldataformodel.columns"
   ]
  },
  {
   "cell_type": "code",
   "execution_count": 22,
   "metadata": {},
   "outputs": [
    {
     "data": {
      "text/plain": [
       "Person has a driver's license                  116440\n",
       "Person does not have a driver's license         11401\n",
       "Not asked, person younger than 12 years old      2871\n",
       "Unknown                                          1230\n",
       "Not asked, person younger than 16 years old       873\n",
       "Name: RIJBEWIJS, dtype: int64"
      ]
     },
     "execution_count": 22,
     "metadata": {},
     "output_type": "execute_result"
    }
   ],
   "source": [
    "fianldataformodel['RIJBEWIJS'].value_counts()"
   ]
  },
  {
   "cell_type": "code",
   "execution_count": 23,
   "metadata": {},
   "outputs": [],
   "source": [
    "fianldataformodel['TOER'].replace(['No' , 'On this day the person did not take a trip' , 'Yes'],[0,0,1],inplace=True)\n"
   ]
  },
  {
   "cell_type": "code",
   "execution_count": 24,
   "metadata": {},
   "outputs": [],
   "source": [
    "\n",
    "\n",
    "fianldataformodel['DOEL'].replace(['To home' , 'Work' , 'Business-related visit in work context' , 'Transport as a profession' , 'Dropping off, picking up people' , 'Delivering, picking up goods' , 'Following education study, courses' , 'Shopping, doing grocery shopping' , 'Visitation' , 'Touring, hiking' , 'Sports, hobby' , 'Other leisure time activities' , 'Services, personal care' , 'Other purpose' , 'Unknown' , 'On this day the person did not take a trip'] , [1,2,3,4,5,6,7,8,9,10,11,12,13,14,0,0],inplace=True)\n",
    "new = pd.get_dummies(fianldataformodel['DOEL'],prefix = 'DOEL')\n",
    "fianldataformodel = fianldataformodel.join(new)\n",
    "fianldataformodel.drop('DOEL_0' , axis=1,inplace=True)"
   ]
  },
  {
   "cell_type": "code",
   "execution_count": 25,
   "metadata": {},
   "outputs": [],
   "source": [
    "\n",
    "fianldataformodel['KMOTIEF'].replace(['To and from work' , 'Business-related visit in work context' , 'Services, personal care' , 'Shopping, doing grocery shopping' , 'Following education study, courses' , 'Visitation' , 'Social recreational other' , 'Touring, hiking' , 'Other purpose' , 'Unknown' , 'On this day the person did not take a trip'] , [1,2,3,4,5,6,7,8,0,0,0],inplace=True)\n",
    "new = pd.get_dummies(fianldataformodel['KMOTIEF'],prefix = 'KMOTIEF')\n",
    "fianldataformodel = fianldataformodel.join(new)\n",
    "fianldataformodel.drop('KMOTIEF_0' , axis=1,inplace=True)"
   ]
  },
  {
   "cell_type": "code",
   "execution_count": 26,
   "metadata": {},
   "outputs": [],
   "source": [
    "\n",
    "fianldataformodel['KHVM'].replace(['Car as driver' , 'Car as passenger' , 'Train' , 'Bus/tram/metro' , 'Scooter/moped' , 'Bicycle' , 'Walking' , 'Other' , 'Means of transport not stored' , 'On this day the person did not take a trip'],[1,2,3,4,5,6,7,0,0,0],inplace=True)\n",
    "new = pd.get_dummies(fianldataformodel['KHVM'],prefix = 'KHVM')\n",
    "fianldataformodel = fianldataformodel.join(new)\n",
    "fianldataformodel.drop('KHVM_0' , axis=1,inplace=True)"
   ]
  },
  {
   "cell_type": "code",
   "execution_count": 27,
   "metadata": {},
   "outputs": [],
   "source": [
    "fianldataformodel['KRVM'].replace(['Car as driver' , 'Car as passenger' , 'Train' , 'Bus/tram/metro' , 'Scooter/moped' , 'Bicycle' , 'Walking' , 'Other' , 'Means of transport not stored' , 'On this day the person did not take a trip'],[1,2,3,4,5,6,7,0,0,0],inplace=True)\n",
    "new = pd.get_dummies(fianldataformodel['KRVM'],prefix = 'KRVM')\n",
    "fianldataformodel = fianldataformodel.join(new)\n",
    "fianldataformodel.drop('KRVM_0' , axis=1,inplace=True)"
   ]
  },
  {
   "cell_type": "code",
   "execution_count": 28,
   "metadata": {},
   "outputs": [],
   "source": [
    "fianldataformodel['DAGSOORT'].replace(['weekday' , 'weekend'] , [1,2] , inplace=True)\n",
    "new = pd.get_dummies(fianldataformodel['DAGSOORT'],prefix = 'DAGSOORT')\n",
    "fianldataformodel = fianldataformodel.join(new)"
   ]
  },
  {
   "cell_type": "code",
   "execution_count": 29,
   "metadata": {},
   "outputs": [],
   "source": [
    "fianldataformodel['KAFSTV'].replace(['0,1-0,5 km' , '0.5-1.0 km' , '1.0-2.5 km' , '2.5-3.7 km' , '3.7-5.0 km' , '5.0-7.5 km' , '7.5-10 km' , '10-15 km' , '15-20 km' , '20-30 km' , '30-40 km' , '40-50 km' , '>50 km'] , [1,2,3,4,5,6,7,8,9,10,11,12,13], inplace=True)\n",
    "new = pd.get_dummies(fianldataformodel['KAFSTV'],prefix = 'KAFSTV')\n",
    "fianldataformodel = fianldataformodel.join(new)"
   ]
  },
  {
   "cell_type": "code",
   "execution_count": 30,
   "metadata": {},
   "outputs": [],
   "source": [
    "fianldataformodel['KREISDUUR'].replace(['1 to 5 minutes' , '5 to 10 minutes' , '10 to 15 minutes' , '15 to 20 minutes' , '20 to 25 minutes' , '25 to 30 minutes' , '30 to 45 minutes' , '45 to 60 minutes' , '60 to 90 minutes' , '90 to 120 minutes' , '120 minutes or more'],[1,2,3,4,5,6,7,8,9,10,11],inplace=True)\n",
    "new = pd.get_dummies(fianldataformodel['KREISDUUR'],prefix = 'KREISDUUR')\n",
    "fianldataformodel = fianldataformodel.join(new)"
   ]
  },
  {
   "cell_type": "code",
   "execution_count": 31,
   "metadata": {},
   "outputs": [],
   "source": [
    "fianldataformodel['GESLACHT'].replace(['Man' , 'Woman'] , [1,0],inplace=True)\n"
   ]
  },
  {
   "cell_type": "code",
   "execution_count": 32,
   "metadata": {},
   "outputs": [],
   "source": [
    "fianldataformodel['OPLEIDING'].replace(['no education/ primary education' ,'primary education' , 'no education', 'LBO \\ VBO \\ VMBO (vocational educational programs)' , \"MAVO\\\\1st 3 years HAVO-VWO\\VMBO (junior years high school education)\" , 'MBO' , 'HAVO and VWO senior high school year(s) \\ university propaedeutic diploma' , \"HBO\\WO (Bachelor's degree)\" , \"HBO / WO master's or doctoral degree\" , \"Don't know \\ won't say\" , 'No data known, no imputation from 2018 possible'] , [1,1,1,3,4,5,6,7,8,0,0] , inplace=True)\n",
    "\n",
    "new = pd.get_dummies(fianldataformodel['OPLEIDING'],prefix='OPLEIDING')\n",
    "fianldataformodel = fianldataformodel.join(new)\n",
    "fianldataformodel.drop('OPLEIDING_0', axis=1,inplace=True)"
   ]
  },
  {
   "cell_type": "code",
   "execution_count": 33,
   "metadata": {},
   "outputs": [],
   "source": [
    "fianldataformodel['WERKZAAM'].replace(['not working' , 'active' , 'whether or not employed unknown'] , [0,1,0] , inplace=True)\n"
   ]
  },
  {
   "cell_type": "code",
   "execution_count": 34,
   "metadata": {},
   "outputs": [],
   "source": [
    "\n",
    "fianldataformodel['VVM_WERK_w5'].replace(['car (as driver)' , 'car (as passenger)' , 'Motorcycle' , 'Train' , 'bus / tram / metro' , 'moped, scooter (max. 25 km \\ h, helmet not required)' , 'moped, scooter (max. 45 km \\ h, helmet required)' , 'bike' , 'Electric bike (e-bike) (max. 25 km \\ h, helmet not required)' , 'Speed ??pedelec (max. 45 km \\ h, helmet required)' , 'Walking' , 'Mobility scooter \\ Canta \\ wheelchair' , 'Other' , 'Not applicable' , 'not asked, person is unemployed' , 'person did not complete the questionnaire', 'remaining'] , [1,2,3,4,5,6,7,8,9,10,11,12,0,0,0,0,0] , inplace=True)\n",
    "new = pd.get_dummies(fianldataformodel['VVM_WERK_w5'],prefix='VVM_WERK_w5')\n",
    "fianldataformodel = fianldataformodel.join(new)\n",
    "fianldataformodel.drop('VVM_WERK_w5_0', axis=1,inplace=True)\n"
   ]
  },
  {
   "cell_type": "code",
   "execution_count": 35,
   "metadata": {},
   "outputs": [],
   "source": [
    "\n",
    "fianldataformodel['RIJBEWIJS'].replace([\"Person has a driver's license\" , \"Person does not have a driver's license\" , \"Unknown\" , 'Not asked, person younger than 12 years old'] , [1,0,0,0],inplace=True)\n",
    "\n",
    "\n",
    "fianldataformodel['PAUTO'].replace(['No' , 'Yes' , 'Person does not own any vehicle'] , [0,1,0] , inplace=True)\n",
    "\n",
    "fianldataformodel['PBROM'].replace(['No' , 'Yes' , 'Person does not own any vehicle'] , [0,1,0] , inplace=True)\n",
    "\n",
    "\n",
    "fianldataformodel['PFIETS'].replace(['No' , 'Yes' , 'Person does not own any vehicle'] , [0,1,0] , inplace=True)\n",
    "\n",
    "\n",
    "fianldataformodel['PEBIKE'].replace(['No' , 'Yes' , 'Person does not own any vehicle'] , [0,1,0] , inplace=True)\n",
    "\n",
    "\n",
    "fianldataformodel['TYPE_OVKAART3'].replace(['No' , 'Yes' , 'person does not have a personal OV chip card'] , [0,1,0] , inplace=True)\n",
    "\n",
    "\n",
    "fianldataformodel['TYPE_OVKAART5'].replace(['No' , 'Yes' , 'person does not have a personal OV chip card'] , [0,1,0] , inplace=True)"
   ]
  },
  {
   "cell_type": "code",
   "execution_count": 36,
   "metadata": {},
   "outputs": [],
   "source": [
    "fianldataformodel['KLEEFT2'].replace(['<12 years old' , '12-17 years old' , '18-24 years old' , '25-29 years old' , '30-39 years old' , '40-49 years old' , '50-59 years old' , '60-69 years old' , '70-79 years old' , '80 years old and older'] , [1,2,3,4,5,6,7,8,9,10] , inplace=True)\n",
    "\n",
    "new = pd.get_dummies(fianldataformodel['KLEEFT2'],prefix='KLEEFT2')\n",
    "fianldataformodel = fianldataformodel.join(new)"
   ]
  },
  {
   "cell_type": "code",
   "execution_count": 37,
   "metadata": {},
   "outputs": [],
   "source": [
    "\n",
    "\n",
    "new = pd.get_dummies(fianldataformodel['HHAUTO_N'],prefix='HHAUTO_N')\n",
    "fianldataformodel = fianldataformodel.join(new)\n",
    "fianldataformodel.drop('HHAUTO_N_0.0', axis=1,inplace=True)\n",
    "\n",
    "\n",
    "\n",
    "fianldataformodel[\"HHPARK1\"].replace(['Yes','No','no household questionnaire, no imputation from 2016 possible','no household questionnaire, no imputation from 2019 possible','no household questionnaire, no imputation from 2017 possible'],[1,0,0,0,0],inplace=True)\n",
    "fianldataformodel[\"HHPARK2\"].replace(['Yes','No','no household questionnaire, no imputation from 2016 possible','no household questionnaire, no imputation from 2019 possible','no household questionnaire, no imputation from 2017 possible'],[1,0,0,0,0],inplace=True)\n",
    "fianldataformodel[\"HHPARK3\"].replace(['Yes','No','no household questionnaire, no imputation from 2016 possible','no household questionnaire, no imputation from 2019 possible','no household questionnaire, no imputation from 2017 possible'],[1,0,0,0,0],inplace=True)\n",
    "fianldataformodel[\"HHPARK4\"].replace(['Yes','No','no household questionnaire, no imputation from 2016 possible','no household questionnaire, no imputation from 2019 possible','no household questionnaire, no imputation from 2017 possible'],[1,0,0,0,0],inplace=True)\n",
    "\n",
    "\n",
    "fianldataformodel['BikeStatus'].replace(['OK'],[1],inplace=True)\n",
    "fianldataformodel['WalkStatus'].replace(['OK'],[1],inplace=True)\n",
    "fianldataformodel['CarStatus'].replace(['OK'],[1],inplace=True)\n",
    "fianldataformodel['TransitStatus'].replace(['OK'],[1],inplace=True)\n",
    "\n",
    "\n"
   ]
  },
  {
   "cell_type": "code",
   "execution_count": 38,
   "metadata": {},
   "outputs": [
    {
     "data": {
      "text/plain": [
       "0.0    94585\n",
       "1.0    38230\n",
       "Name: Transit_only_walking, dtype: int64"
      ]
     },
     "execution_count": 38,
     "metadata": {},
     "output_type": "execute_result"
    }
   ],
   "source": [
    "fianldataformodel[\"Transit_only_walking\"].value_counts(dropna=False)"
   ]
  },
  {
   "cell_type": "code",
   "execution_count": 39,
   "metadata": {},
   "outputs": [
    {
     "data": {
      "text/html": [
       "<div>\n",
       "<style scoped>\n",
       "    .dataframe tbody tr th:only-of-type {\n",
       "        vertical-align: middle;\n",
       "    }\n",
       "\n",
       "    .dataframe tbody tr th {\n",
       "        vertical-align: top;\n",
       "    }\n",
       "\n",
       "    .dataframe thead th {\n",
       "        text-align: right;\n",
       "    }\n",
       "</style>\n",
       "<table border=\"1\" class=\"dataframe\">\n",
       "  <thead>\n",
       "    <tr style=\"text-align: right;\">\n",
       "      <th></th>\n",
       "      <th>HHID</th>\n",
       "      <th>NID</th>\n",
       "      <th>PERSID</th>\n",
       "      <th>JAAR</th>\n",
       "      <th>VPLID</th>\n",
       "      <th>TOER</th>\n",
       "      <th>AANTRIT_x</th>\n",
       "      <th>DOEL</th>\n",
       "      <th>KMOTIEF</th>\n",
       "      <th>KHVM</th>\n",
       "      <th>...</th>\n",
       "      <th>KLEEFT2_7</th>\n",
       "      <th>KLEEFT2_8</th>\n",
       "      <th>KLEEFT2_9</th>\n",
       "      <th>KLEEFT2_10</th>\n",
       "      <th>HHAUTO_N_1.0</th>\n",
       "      <th>HHAUTO_N_2.0</th>\n",
       "      <th>HHAUTO_N_3.0</th>\n",
       "      <th>HHAUTO_N_4.0</th>\n",
       "      <th>HHAUTO_N_5.0</th>\n",
       "      <th>HHAUTO_N_6.0</th>\n",
       "    </tr>\n",
       "  </thead>\n",
       "  <tbody>\n",
       "    <tr>\n",
       "      <th>0</th>\n",
       "      <td>30021085.0</td>\n",
       "      <td>1</td>\n",
       "      <td>3.002109e+09</td>\n",
       "      <td>2017.0</td>\n",
       "      <td>530190.0</td>\n",
       "      <td>0</td>\n",
       "      <td>1.0</td>\n",
       "      <td>8</td>\n",
       "      <td>4</td>\n",
       "      <td>1</td>\n",
       "      <td>...</td>\n",
       "      <td>0</td>\n",
       "      <td>0</td>\n",
       "      <td>1</td>\n",
       "      <td>0</td>\n",
       "      <td>1</td>\n",
       "      <td>0</td>\n",
       "      <td>0</td>\n",
       "      <td>0</td>\n",
       "      <td>0</td>\n",
       "      <td>0</td>\n",
       "    </tr>\n",
       "    <tr>\n",
       "      <th>1</th>\n",
       "      <td>30021085.0</td>\n",
       "      <td>2</td>\n",
       "      <td>3.002109e+09</td>\n",
       "      <td>2017.0</td>\n",
       "      <td>530192.0</td>\n",
       "      <td>0</td>\n",
       "      <td>1.0</td>\n",
       "      <td>1</td>\n",
       "      <td>4</td>\n",
       "      <td>1</td>\n",
       "      <td>...</td>\n",
       "      <td>0</td>\n",
       "      <td>0</td>\n",
       "      <td>1</td>\n",
       "      <td>0</td>\n",
       "      <td>1</td>\n",
       "      <td>0</td>\n",
       "      <td>0</td>\n",
       "      <td>0</td>\n",
       "      <td>0</td>\n",
       "      <td>0</td>\n",
       "    </tr>\n",
       "    <tr>\n",
       "      <th>2</th>\n",
       "      <td>30021085.0</td>\n",
       "      <td>3</td>\n",
       "      <td>3.002109e+09</td>\n",
       "      <td>2017.0</td>\n",
       "      <td>530194.0</td>\n",
       "      <td>0</td>\n",
       "      <td>1.0</td>\n",
       "      <td>13</td>\n",
       "      <td>3</td>\n",
       "      <td>1</td>\n",
       "      <td>...</td>\n",
       "      <td>0</td>\n",
       "      <td>0</td>\n",
       "      <td>1</td>\n",
       "      <td>0</td>\n",
       "      <td>1</td>\n",
       "      <td>0</td>\n",
       "      <td>0</td>\n",
       "      <td>0</td>\n",
       "      <td>0</td>\n",
       "      <td>0</td>\n",
       "    </tr>\n",
       "    <tr>\n",
       "      <th>3</th>\n",
       "      <td>30021085.0</td>\n",
       "      <td>92</td>\n",
       "      <td>3.002109e+09</td>\n",
       "      <td>2017.0</td>\n",
       "      <td>530414.0</td>\n",
       "      <td>0</td>\n",
       "      <td>1.0</td>\n",
       "      <td>1</td>\n",
       "      <td>3</td>\n",
       "      <td>1</td>\n",
       "      <td>...</td>\n",
       "      <td>0</td>\n",
       "      <td>0</td>\n",
       "      <td>1</td>\n",
       "      <td>0</td>\n",
       "      <td>1</td>\n",
       "      <td>0</td>\n",
       "      <td>0</td>\n",
       "      <td>0</td>\n",
       "      <td>0</td>\n",
       "      <td>0</td>\n",
       "    </tr>\n",
       "    <tr>\n",
       "      <th>4</th>\n",
       "      <td>30021085.0</td>\n",
       "      <td>93</td>\n",
       "      <td>3.002109e+09</td>\n",
       "      <td>2017.0</td>\n",
       "      <td>530420.0</td>\n",
       "      <td>0</td>\n",
       "      <td>1.0</td>\n",
       "      <td>13</td>\n",
       "      <td>3</td>\n",
       "      <td>1</td>\n",
       "      <td>...</td>\n",
       "      <td>0</td>\n",
       "      <td>0</td>\n",
       "      <td>1</td>\n",
       "      <td>0</td>\n",
       "      <td>1</td>\n",
       "      <td>0</td>\n",
       "      <td>0</td>\n",
       "      <td>0</td>\n",
       "      <td>0</td>\n",
       "      <td>0</td>\n",
       "    </tr>\n",
       "    <tr>\n",
       "      <th>...</th>\n",
       "      <td>...</td>\n",
       "      <td>...</td>\n",
       "      <td>...</td>\n",
       "      <td>...</td>\n",
       "      <td>...</td>\n",
       "      <td>...</td>\n",
       "      <td>...</td>\n",
       "      <td>...</td>\n",
       "      <td>...</td>\n",
       "      <td>...</td>\n",
       "      <td>...</td>\n",
       "      <td>...</td>\n",
       "      <td>...</td>\n",
       "      <td>...</td>\n",
       "      <td>...</td>\n",
       "      <td>...</td>\n",
       "      <td>...</td>\n",
       "      <td>...</td>\n",
       "      <td>...</td>\n",
       "      <td>...</td>\n",
       "      <td>...</td>\n",
       "    </tr>\n",
       "    <tr>\n",
       "      <th>148136</th>\n",
       "      <td>30710737.0</td>\n",
       "      <td>35825</td>\n",
       "      <td>3.071074e+09</td>\n",
       "      <td>2020.0</td>\n",
       "      <td>78628102.0</td>\n",
       "      <td>0</td>\n",
       "      <td>1.0</td>\n",
       "      <td>1</td>\n",
       "      <td>3</td>\n",
       "      <td>1</td>\n",
       "      <td>...</td>\n",
       "      <td>1</td>\n",
       "      <td>0</td>\n",
       "      <td>0</td>\n",
       "      <td>0</td>\n",
       "      <td>1</td>\n",
       "      <td>0</td>\n",
       "      <td>0</td>\n",
       "      <td>0</td>\n",
       "      <td>0</td>\n",
       "      <td>0</td>\n",
       "    </tr>\n",
       "    <tr>\n",
       "      <th>148137</th>\n",
       "      <td>30710737.0</td>\n",
       "      <td>35826</td>\n",
       "      <td>3.071074e+09</td>\n",
       "      <td>2020.0</td>\n",
       "      <td>78628301.0</td>\n",
       "      <td>0</td>\n",
       "      <td>1.0</td>\n",
       "      <td>11</td>\n",
       "      <td>7</td>\n",
       "      <td>1</td>\n",
       "      <td>...</td>\n",
       "      <td>1</td>\n",
       "      <td>0</td>\n",
       "      <td>0</td>\n",
       "      <td>0</td>\n",
       "      <td>1</td>\n",
       "      <td>0</td>\n",
       "      <td>0</td>\n",
       "      <td>0</td>\n",
       "      <td>0</td>\n",
       "      <td>0</td>\n",
       "    </tr>\n",
       "    <tr>\n",
       "      <th>148138</th>\n",
       "      <td>30710737.0</td>\n",
       "      <td>35827</td>\n",
       "      <td>3.071074e+09</td>\n",
       "      <td>2020.0</td>\n",
       "      <td>78628302.0</td>\n",
       "      <td>0</td>\n",
       "      <td>1.0</td>\n",
       "      <td>1</td>\n",
       "      <td>7</td>\n",
       "      <td>1</td>\n",
       "      <td>...</td>\n",
       "      <td>1</td>\n",
       "      <td>0</td>\n",
       "      <td>0</td>\n",
       "      <td>0</td>\n",
       "      <td>1</td>\n",
       "      <td>0</td>\n",
       "      <td>0</td>\n",
       "      <td>0</td>\n",
       "      <td>0</td>\n",
       "      <td>0</td>\n",
       "    </tr>\n",
       "    <tr>\n",
       "      <th>148139</th>\n",
       "      <td>30710737.0</td>\n",
       "      <td>35828</td>\n",
       "      <td>3.071074e+09</td>\n",
       "      <td>2020.0</td>\n",
       "      <td>78628303.0</td>\n",
       "      <td>0</td>\n",
       "      <td>1.0</td>\n",
       "      <td>9</td>\n",
       "      <td>6</td>\n",
       "      <td>2</td>\n",
       "      <td>...</td>\n",
       "      <td>1</td>\n",
       "      <td>0</td>\n",
       "      <td>0</td>\n",
       "      <td>0</td>\n",
       "      <td>1</td>\n",
       "      <td>0</td>\n",
       "      <td>0</td>\n",
       "      <td>0</td>\n",
       "      <td>0</td>\n",
       "      <td>0</td>\n",
       "    </tr>\n",
       "    <tr>\n",
       "      <th>148140</th>\n",
       "      <td>30710737.0</td>\n",
       "      <td>35829</td>\n",
       "      <td>3.071074e+09</td>\n",
       "      <td>2020.0</td>\n",
       "      <td>78628304.0</td>\n",
       "      <td>0</td>\n",
       "      <td>1.0</td>\n",
       "      <td>1</td>\n",
       "      <td>6</td>\n",
       "      <td>2</td>\n",
       "      <td>...</td>\n",
       "      <td>1</td>\n",
       "      <td>0</td>\n",
       "      <td>0</td>\n",
       "      <td>0</td>\n",
       "      <td>1</td>\n",
       "      <td>0</td>\n",
       "      <td>0</td>\n",
       "      <td>0</td>\n",
       "      <td>0</td>\n",
       "      <td>0</td>\n",
       "    </tr>\n",
       "  </tbody>\n",
       "</table>\n",
       "<p>132815 rows × 156 columns</p>\n",
       "</div>"
      ],
      "text/plain": [
       "              HHID    NID        PERSID    JAAR       VPLID  TOER  AANTRIT_x  \\\n",
       "0       30021085.0      1  3.002109e+09  2017.0    530190.0     0        1.0   \n",
       "1       30021085.0      2  3.002109e+09  2017.0    530192.0     0        1.0   \n",
       "2       30021085.0      3  3.002109e+09  2017.0    530194.0     0        1.0   \n",
       "3       30021085.0     92  3.002109e+09  2017.0    530414.0     0        1.0   \n",
       "4       30021085.0     93  3.002109e+09  2017.0    530420.0     0        1.0   \n",
       "...            ...    ...           ...     ...         ...   ...        ...   \n",
       "148136  30710737.0  35825  3.071074e+09  2020.0  78628102.0     0        1.0   \n",
       "148137  30710737.0  35826  3.071074e+09  2020.0  78628301.0     0        1.0   \n",
       "148138  30710737.0  35827  3.071074e+09  2020.0  78628302.0     0        1.0   \n",
       "148139  30710737.0  35828  3.071074e+09  2020.0  78628303.0     0        1.0   \n",
       "148140  30710737.0  35829  3.071074e+09  2020.0  78628304.0     0        1.0   \n",
       "\n",
       "        DOEL  KMOTIEF  KHVM  ...  KLEEFT2_7  KLEEFT2_8  KLEEFT2_9  KLEEFT2_10  \\\n",
       "0          8        4     1  ...          0          0          1           0   \n",
       "1          1        4     1  ...          0          0          1           0   \n",
       "2         13        3     1  ...          0          0          1           0   \n",
       "3          1        3     1  ...          0          0          1           0   \n",
       "4         13        3     1  ...          0          0          1           0   \n",
       "...      ...      ...   ...  ...        ...        ...        ...         ...   \n",
       "148136     1        3     1  ...          1          0          0           0   \n",
       "148137    11        7     1  ...          1          0          0           0   \n",
       "148138     1        7     1  ...          1          0          0           0   \n",
       "148139     9        6     2  ...          1          0          0           0   \n",
       "148140     1        6     2  ...          1          0          0           0   \n",
       "\n",
       "        HHAUTO_N_1.0  HHAUTO_N_2.0  HHAUTO_N_3.0  HHAUTO_N_4.0  HHAUTO_N_5.0  \\\n",
       "0                  1             0             0             0             0   \n",
       "1                  1             0             0             0             0   \n",
       "2                  1             0             0             0             0   \n",
       "3                  1             0             0             0             0   \n",
       "4                  1             0             0             0             0   \n",
       "...              ...           ...           ...           ...           ...   \n",
       "148136             1             0             0             0             0   \n",
       "148137             1             0             0             0             0   \n",
       "148138             1             0             0             0             0   \n",
       "148139             1             0             0             0             0   \n",
       "148140             1             0             0             0             0   \n",
       "\n",
       "       HHAUTO_N_6.0  \n",
       "0                 0  \n",
       "1                 0  \n",
       "2                 0  \n",
       "3                 0  \n",
       "4                 0  \n",
       "...             ...  \n",
       "148136            0  \n",
       "148137            0  \n",
       "148138            0  \n",
       "148139            0  \n",
       "148140            0  \n",
       "\n",
       "[132815 rows x 156 columns]"
      ]
     },
     "execution_count": 39,
     "metadata": {},
     "output_type": "execute_result"
    }
   ],
   "source": [
    "fianldataformodel"
   ]
  },
  {
   "cell_type": "code",
   "execution_count": 42,
   "metadata": {},
   "outputs": [
    {
     "data": {
      "text/plain": [
       "HHID            float64\n",
       "NID               int64\n",
       "PERSID          float64\n",
       "JAAR            float64\n",
       "VPLID           float64\n",
       "                 ...   \n",
       "HHAUTO_N_2.0      uint8\n",
       "HHAUTO_N_3.0      uint8\n",
       "HHAUTO_N_4.0      uint8\n",
       "HHAUTO_N_5.0      uint8\n",
       "HHAUTO_N_6.0      uint8\n",
       "Length: 156, dtype: object"
      ]
     },
     "execution_count": 42,
     "metadata": {},
     "output_type": "execute_result"
    }
   ],
   "source": [
    "fianldataformodel.dtypes"
   ]
  },
  {
   "cell_type": "code",
   "execution_count": 350,
   "metadata": {},
   "outputs": [],
   "source": [
    "fianldataformodel.to_csv(\"F:/more work/the netherlands/4 wave/fianldataformodel.csv\",index=False)"
   ]
  }
 ],
 "metadata": {
  "kernelspec": {
   "display_name": "Python 3",
   "language": "python",
   "name": "python3"
  },
  "language_info": {
   "codemirror_mode": {
    "name": "ipython",
    "version": 3
   },
   "file_extension": ".py",
   "mimetype": "text/x-python",
   "name": "python",
   "nbconvert_exporter": "python",
   "pygments_lexer": "ipython3",
   "version": "3.10.9"
  }
 },
 "nbformat": 4,
 "nbformat_minor": 2
}
