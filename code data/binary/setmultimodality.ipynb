{
 "cells": [
  {
   "cell_type": "code",
   "execution_count": 106,
   "metadata": {},
   "outputs": [],
   "source": [
    "import pandas as pd\n",
    "import numpy as np"
   ]
  },
  {
   "cell_type": "code",
   "execution_count": 107,
   "metadata": {},
   "outputs": [],
   "source": [
    "MPNWAVE_DAGBOEKdata = pd.read_csv('F:/more work/the netherlands/4 wave/wave8/MPNWAVE8_DAGBOEKdata.csv',low_memory=False)\n",
    "#MPNWAVE7_DAGBOEKdata = pd.read_csv('F:/more work/the netherlands/4 wave/wave7/MPNWAVE7_DAGBOEKdata.csv',low_memory=False)\n",
    "#MPNWAVE6_DAGBOEKdata = pd.read_csv('F:/more work/the netherlands/4 wave/wave6/MPNWAVE6_DAGBOEKdata.csv',low_memory=False)\n",
    "#MPNWAVE5_DAGBOEKdata = pd.read_csv('F:/more work/the netherlands/4 wave/wave5/MPNWAVE5_DAGBOEKdata.csv',low_memory=False)"
   ]
  },
  {
   "cell_type": "code",
   "execution_count": 108,
   "metadata": {},
   "outputs": [
    {
     "data": {
      "text/plain": [
       "'print(len(MPNWAVE8_DAGBOEKdata))\\nprint(len(MPNWAVE7_DAGBOEKdata))\\nprint(len(MPNWAVE6_DAGBOEKdata))\\nprint(len(MPNWAVE5_DAGBOEKdata))\\nprint(len(MPNWAVE8_DAGBOEKdata)+ len(MPNWAVE7_DAGBOEKdata) +len(MPNWAVE6_DAGBOEKdata) +  len(MPNWAVE5_DAGBOEKdata))'"
      ]
     },
     "execution_count": 108,
     "metadata": {},
     "output_type": "execute_result"
    }
   ],
   "source": [
    "\"\"\"print(len(MPNWAVE8_DAGBOEKdata))\n",
    "print(len(MPNWAVE7_DAGBOEKdata))\n",
    "print(len(MPNWAVE6_DAGBOEKdata))\n",
    "print(len(MPNWAVE5_DAGBOEKdata))\n",
    "print(len(MPNWAVE8_DAGBOEKdata)+ len(MPNWAVE7_DAGBOEKdata) +len(MPNWAVE6_DAGBOEKdata) +  len(MPNWAVE5_DAGBOEKdata))\"\"\""
   ]
  },
  {
   "cell_type": "code",
   "execution_count": 109,
   "metadata": {},
   "outputs": [
    {
     "data": {
      "text/plain": [
       "'MPNWAVE_DAGBOEKdata = pd.concat([MPNWAVE8_DAGBOEKdata,MPNWAVE7_DAGBOEKdata,MPNWAVE6_DAGBOEKdata,MPNWAVE5_DAGBOEKdata],ignore_index=True, sort=False)'"
      ]
     },
     "execution_count": 109,
     "metadata": {},
     "output_type": "execute_result"
    }
   ],
   "source": [
    "\"\"\"MPNWAVE_DAGBOEKdata = pd.concat([MPNWAVE8_DAGBOEKdata,MPNWAVE7_DAGBOEKdata,MPNWAVE6_DAGBOEKdata,MPNWAVE5_DAGBOEKdata],ignore_index=True, sort=False)\"\"\""
   ]
  },
  {
   "cell_type": "code",
   "execution_count": 110,
   "metadata": {},
   "outputs": [
    {
     "data": {
      "text/html": [
       "<div>\n",
       "<style scoped>\n",
       "    .dataframe tbody tr th:only-of-type {\n",
       "        vertical-align: middle;\n",
       "    }\n",
       "\n",
       "    .dataframe tbody tr th {\n",
       "        vertical-align: top;\n",
       "    }\n",
       "\n",
       "    .dataframe thead th {\n",
       "        text-align: right;\n",
       "    }\n",
       "</style>\n",
       "<table border=\"1\" class=\"dataframe\">\n",
       "  <thead>\n",
       "    <tr style=\"text-align: right;\">\n",
       "      <th></th>\n",
       "      <th>PERSOON</th>\n",
       "      <th>HHID</th>\n",
       "      <th>PERSID</th>\n",
       "      <th>HH_VALID</th>\n",
       "      <th>IMPHHDATA</th>\n",
       "      <th>P_VALID</th>\n",
       "      <th>JAAR</th>\n",
       "      <th>VPLID</th>\n",
       "      <th>WEGGEWEEST</th>\n",
       "      <th>VERTREKP</th>\n",
       "      <th>...</th>\n",
       "      <th>alokatie_metrosneltramhalte</th>\n",
       "      <th>alokatie_tramhalte</th>\n",
       "      <th>alokatie_bushalte4xpu</th>\n",
       "      <th>alokatie_bushalte2xpu</th>\n",
       "      <th>alokatie_bushalte1xpu</th>\n",
       "      <th>alokatie_bushaltekl1xpu</th>\n",
       "      <th>WOONPC2</th>\n",
       "      <th>DAGSOORT</th>\n",
       "      <th>VERTPC2</th>\n",
       "      <th>AANKPC2</th>\n",
       "    </tr>\n",
       "  </thead>\n",
       "  <tbody>\n",
       "    <tr>\n",
       "      <th>0</th>\n",
       "      <td>new person</td>\n",
       "      <td>30000715</td>\n",
       "      <td>3000071501</td>\n",
       "      <td>Not a complete household, but all persons comp...</td>\n",
       "      <td>household questionnaire is completed</td>\n",
       "      <td>person completed the questionnaire and complet...</td>\n",
       "      <td>2020</td>\n",
       "      <td>72072101.0</td>\n",
       "      <td>On this day the person did go somewhere</td>\n",
       "      <td>Own address</td>\n",
       "      <td>...</td>\n",
       "      <td>80653.0</td>\n",
       "      <td>99866.0</td>\n",
       "      <td>359.0</td>\n",
       "      <td>359.0</td>\n",
       "      <td>359.0</td>\n",
       "      <td>359.0</td>\n",
       "      <td>70</td>\n",
       "      <td>weekday</td>\n",
       "      <td>70</td>\n",
       "      <td>70</td>\n",
       "    </tr>\n",
       "    <tr>\n",
       "      <th>1</th>\n",
       "      <td>no new person</td>\n",
       "      <td>30000715</td>\n",
       "      <td>3000071501</td>\n",
       "      <td>Not a complete household, but all persons comp...</td>\n",
       "      <td>household questionnaire is completed</td>\n",
       "      <td>person completed the questionnaire and complet...</td>\n",
       "      <td>2020</td>\n",
       "      <td>72072102.0</td>\n",
       "      <td>On this day the person did go somewhere</td>\n",
       "      <td>Own address</td>\n",
       "      <td>...</td>\n",
       "      <td>80814.0</td>\n",
       "      <td>100165.0</td>\n",
       "      <td>260.0</td>\n",
       "      <td>260.0</td>\n",
       "      <td>260.0</td>\n",
       "      <td>260.0</td>\n",
       "      <td>70</td>\n",
       "      <td>weekday</td>\n",
       "      <td>70</td>\n",
       "      <td>70</td>\n",
       "    </tr>\n",
       "    <tr>\n",
       "      <th>2</th>\n",
       "      <td>no new person</td>\n",
       "      <td>30000715</td>\n",
       "      <td>3000071501</td>\n",
       "      <td>Not a complete household, but all persons comp...</td>\n",
       "      <td>household questionnaire is completed</td>\n",
       "      <td>person completed the questionnaire and complet...</td>\n",
       "      <td>2020</td>\n",
       "      <td>72072103.0</td>\n",
       "      <td>On this day the person did go somewhere</td>\n",
       "      <td>Own address</td>\n",
       "      <td>...</td>\n",
       "      <td>80653.0</td>\n",
       "      <td>99866.0</td>\n",
       "      <td>359.0</td>\n",
       "      <td>359.0</td>\n",
       "      <td>359.0</td>\n",
       "      <td>359.0</td>\n",
       "      <td>70</td>\n",
       "      <td>weekday</td>\n",
       "      <td>70</td>\n",
       "      <td>70</td>\n",
       "    </tr>\n",
       "    <tr>\n",
       "      <th>3</th>\n",
       "      <td>no new person</td>\n",
       "      <td>30000715</td>\n",
       "      <td>3000071501</td>\n",
       "      <td>Not a complete household, but all persons comp...</td>\n",
       "      <td>household questionnaire is completed</td>\n",
       "      <td>person completed the questionnaire and complet...</td>\n",
       "      <td>2020</td>\n",
       "      <td>72072104.0</td>\n",
       "      <td>On this day the person did go somewhere</td>\n",
       "      <td>Own address</td>\n",
       "      <td>...</td>\n",
       "      <td>81532.0</td>\n",
       "      <td>100687.0</td>\n",
       "      <td>687.0</td>\n",
       "      <td>308.0</td>\n",
       "      <td>85.0</td>\n",
       "      <td>85.0</td>\n",
       "      <td>70</td>\n",
       "      <td>weekday</td>\n",
       "      <td>70</td>\n",
       "      <td>70</td>\n",
       "    </tr>\n",
       "    <tr>\n",
       "      <th>4</th>\n",
       "      <td>no new person</td>\n",
       "      <td>30000715</td>\n",
       "      <td>3000071501</td>\n",
       "      <td>Not a complete household, but all persons comp...</td>\n",
       "      <td>household questionnaire is completed</td>\n",
       "      <td>person completed the questionnaire and complet...</td>\n",
       "      <td>2020</td>\n",
       "      <td>72072105.0</td>\n",
       "      <td>On this day the person did go somewhere</td>\n",
       "      <td>Own address</td>\n",
       "      <td>...</td>\n",
       "      <td>80653.0</td>\n",
       "      <td>99866.0</td>\n",
       "      <td>359.0</td>\n",
       "      <td>359.0</td>\n",
       "      <td>359.0</td>\n",
       "      <td>359.0</td>\n",
       "      <td>70</td>\n",
       "      <td>weekday</td>\n",
       "      <td>70</td>\n",
       "      <td>70</td>\n",
       "    </tr>\n",
       "    <tr>\n",
       "      <th>...</th>\n",
       "      <td>...</td>\n",
       "      <td>...</td>\n",
       "      <td>...</td>\n",
       "      <td>...</td>\n",
       "      <td>...</td>\n",
       "      <td>...</td>\n",
       "      <td>...</td>\n",
       "      <td>...</td>\n",
       "      <td>...</td>\n",
       "      <td>...</td>\n",
       "      <td>...</td>\n",
       "      <td>...</td>\n",
       "      <td>...</td>\n",
       "      <td>...</td>\n",
       "      <td>...</td>\n",
       "      <td>...</td>\n",
       "      <td>...</td>\n",
       "      <td>...</td>\n",
       "      <td>...</td>\n",
       "      <td>...</td>\n",
       "      <td>...</td>\n",
       "    </tr>\n",
       "    <tr>\n",
       "      <th>40831</th>\n",
       "      <td>no new person</td>\n",
       "      <td>80000210</td>\n",
       "      <td>8000021001</td>\n",
       "      <td>Yes a complete household</td>\n",
       "      <td>household questionnaire is completed</td>\n",
       "      <td>person completed the questionnaire and complet...</td>\n",
       "      <td>2020</td>\n",
       "      <td>NaN</td>\n",
       "      <td>On this day the person did not go somewhere</td>\n",
       "      <td>On this day the person did not take a trip</td>\n",
       "      <td>...</td>\n",
       "      <td>NaN</td>\n",
       "      <td>NaN</td>\n",
       "      <td>NaN</td>\n",
       "      <td>NaN</td>\n",
       "      <td>NaN</td>\n",
       "      <td>NaN</td>\n",
       "      <td>17</td>\n",
       "      <td>weekday</td>\n",
       "      <td>On this day the person did not take a trip</td>\n",
       "      <td>On this day the person did not take a trip</td>\n",
       "    </tr>\n",
       "    <tr>\n",
       "      <th>40832</th>\n",
       "      <td>new person</td>\n",
       "      <td>80000215</td>\n",
       "      <td>8000021501</td>\n",
       "      <td>Yes a complete household</td>\n",
       "      <td>household questionnaire is completed</td>\n",
       "      <td>person completed the questionnaire and complet...</td>\n",
       "      <td>2020</td>\n",
       "      <td>NaN</td>\n",
       "      <td>On this day the person did not go somewhere</td>\n",
       "      <td>On this day the person did not take a trip</td>\n",
       "      <td>...</td>\n",
       "      <td>NaN</td>\n",
       "      <td>NaN</td>\n",
       "      <td>NaN</td>\n",
       "      <td>NaN</td>\n",
       "      <td>NaN</td>\n",
       "      <td>NaN</td>\n",
       "      <td>45</td>\n",
       "      <td>weekday</td>\n",
       "      <td>On this day the person did not take a trip</td>\n",
       "      <td>On this day the person did not take a trip</td>\n",
       "    </tr>\n",
       "    <tr>\n",
       "      <th>40833</th>\n",
       "      <td>no new person</td>\n",
       "      <td>80000215</td>\n",
       "      <td>8000021501</td>\n",
       "      <td>Yes a complete household</td>\n",
       "      <td>household questionnaire is completed</td>\n",
       "      <td>person completed the questionnaire and complet...</td>\n",
       "      <td>2020</td>\n",
       "      <td>NaN</td>\n",
       "      <td>On this day the person did not go somewhere</td>\n",
       "      <td>On this day the person did not take a trip</td>\n",
       "      <td>...</td>\n",
       "      <td>NaN</td>\n",
       "      <td>NaN</td>\n",
       "      <td>NaN</td>\n",
       "      <td>NaN</td>\n",
       "      <td>NaN</td>\n",
       "      <td>NaN</td>\n",
       "      <td>45</td>\n",
       "      <td>weekday</td>\n",
       "      <td>On this day the person did not take a trip</td>\n",
       "      <td>On this day the person did not take a trip</td>\n",
       "    </tr>\n",
       "    <tr>\n",
       "      <th>40834</th>\n",
       "      <td>no new person</td>\n",
       "      <td>80000215</td>\n",
       "      <td>8000021501</td>\n",
       "      <td>Yes a complete household</td>\n",
       "      <td>household questionnaire is completed</td>\n",
       "      <td>person completed the questionnaire and complet...</td>\n",
       "      <td>2020</td>\n",
       "      <td>NaN</td>\n",
       "      <td>On this day the person did not go somewhere</td>\n",
       "      <td>On this day the person did not take a trip</td>\n",
       "      <td>...</td>\n",
       "      <td>NaN</td>\n",
       "      <td>NaN</td>\n",
       "      <td>NaN</td>\n",
       "      <td>NaN</td>\n",
       "      <td>NaN</td>\n",
       "      <td>NaN</td>\n",
       "      <td>45</td>\n",
       "      <td>weekday</td>\n",
       "      <td>On this day the person did not take a trip</td>\n",
       "      <td>On this day the person did not take a trip</td>\n",
       "    </tr>\n",
       "    <tr>\n",
       "      <th>40835</th>\n",
       "      <td>no new person</td>\n",
       "      <td>80000215</td>\n",
       "      <td>8000021502</td>\n",
       "      <td>Yes a complete household</td>\n",
       "      <td>household questionnaire is completed</td>\n",
       "      <td>person completed the questionnaire and complet...</td>\n",
       "      <td>2020</td>\n",
       "      <td>NaN</td>\n",
       "      <td>On this day the person did not go somewhere</td>\n",
       "      <td>On this day the person did not take a trip</td>\n",
       "      <td>...</td>\n",
       "      <td>NaN</td>\n",
       "      <td>NaN</td>\n",
       "      <td>NaN</td>\n",
       "      <td>NaN</td>\n",
       "      <td>NaN</td>\n",
       "      <td>NaN</td>\n",
       "      <td>45</td>\n",
       "      <td>weekday</td>\n",
       "      <td>On this day the person did not take a trip</td>\n",
       "      <td>On this day the person did not take a trip</td>\n",
       "    </tr>\n",
       "  </tbody>\n",
       "</table>\n",
       "<p>40836 rows × 85 columns</p>\n",
       "</div>"
      ],
      "text/plain": [
       "             PERSOON      HHID      PERSID  \\\n",
       "0         new person  30000715  3000071501   \n",
       "1      no new person  30000715  3000071501   \n",
       "2      no new person  30000715  3000071501   \n",
       "3      no new person  30000715  3000071501   \n",
       "4      no new person  30000715  3000071501   \n",
       "...              ...       ...         ...   \n",
       "40831  no new person  80000210  8000021001   \n",
       "40832     new person  80000215  8000021501   \n",
       "40833  no new person  80000215  8000021501   \n",
       "40834  no new person  80000215  8000021501   \n",
       "40835  no new person  80000215  8000021502   \n",
       "\n",
       "                                                HH_VALID  \\\n",
       "0      Not a complete household, but all persons comp...   \n",
       "1      Not a complete household, but all persons comp...   \n",
       "2      Not a complete household, but all persons comp...   \n",
       "3      Not a complete household, but all persons comp...   \n",
       "4      Not a complete household, but all persons comp...   \n",
       "...                                                  ...   \n",
       "40831                           Yes a complete household   \n",
       "40832                           Yes a complete household   \n",
       "40833                           Yes a complete household   \n",
       "40834                           Yes a complete household   \n",
       "40835                           Yes a complete household   \n",
       "\n",
       "                                  IMPHHDATA  \\\n",
       "0      household questionnaire is completed   \n",
       "1      household questionnaire is completed   \n",
       "2      household questionnaire is completed   \n",
       "3      household questionnaire is completed   \n",
       "4      household questionnaire is completed   \n",
       "...                                     ...   \n",
       "40831  household questionnaire is completed   \n",
       "40832  household questionnaire is completed   \n",
       "40833  household questionnaire is completed   \n",
       "40834  household questionnaire is completed   \n",
       "40835  household questionnaire is completed   \n",
       "\n",
       "                                                 P_VALID  JAAR       VPLID  \\\n",
       "0      person completed the questionnaire and complet...  2020  72072101.0   \n",
       "1      person completed the questionnaire and complet...  2020  72072102.0   \n",
       "2      person completed the questionnaire and complet...  2020  72072103.0   \n",
       "3      person completed the questionnaire and complet...  2020  72072104.0   \n",
       "4      person completed the questionnaire and complet...  2020  72072105.0   \n",
       "...                                                  ...   ...         ...   \n",
       "40831  person completed the questionnaire and complet...  2020         NaN   \n",
       "40832  person completed the questionnaire and complet...  2020         NaN   \n",
       "40833  person completed the questionnaire and complet...  2020         NaN   \n",
       "40834  person completed the questionnaire and complet...  2020         NaN   \n",
       "40835  person completed the questionnaire and complet...  2020         NaN   \n",
       "\n",
       "                                        WEGGEWEEST  \\\n",
       "0          On this day the person did go somewhere   \n",
       "1          On this day the person did go somewhere   \n",
       "2          On this day the person did go somewhere   \n",
       "3          On this day the person did go somewhere   \n",
       "4          On this day the person did go somewhere   \n",
       "...                                            ...   \n",
       "40831  On this day the person did not go somewhere   \n",
       "40832  On this day the person did not go somewhere   \n",
       "40833  On this day the person did not go somewhere   \n",
       "40834  On this day the person did not go somewhere   \n",
       "40835  On this day the person did not go somewhere   \n",
       "\n",
       "                                         VERTREKP  ...  \\\n",
       "0                                     Own address  ...   \n",
       "1                                     Own address  ...   \n",
       "2                                     Own address  ...   \n",
       "3                                     Own address  ...   \n",
       "4                                     Own address  ...   \n",
       "...                                           ...  ...   \n",
       "40831  On this day the person did not take a trip  ...   \n",
       "40832  On this day the person did not take a trip  ...   \n",
       "40833  On this day the person did not take a trip  ...   \n",
       "40834  On this day the person did not take a trip  ...   \n",
       "40835  On this day the person did not take a trip  ...   \n",
       "\n",
       "      alokatie_metrosneltramhalte alokatie_tramhalte alokatie_bushalte4xpu  \\\n",
       "0                         80653.0            99866.0                 359.0   \n",
       "1                         80814.0           100165.0                 260.0   \n",
       "2                         80653.0            99866.0                 359.0   \n",
       "3                         81532.0           100687.0                 687.0   \n",
       "4                         80653.0            99866.0                 359.0   \n",
       "...                           ...                ...                   ...   \n",
       "40831                         NaN                NaN                   NaN   \n",
       "40832                         NaN                NaN                   NaN   \n",
       "40833                         NaN                NaN                   NaN   \n",
       "40834                         NaN                NaN                   NaN   \n",
       "40835                         NaN                NaN                   NaN   \n",
       "\n",
       "      alokatie_bushalte2xpu alokatie_bushalte1xpu alokatie_bushaltekl1xpu  \\\n",
       "0                     359.0                 359.0                   359.0   \n",
       "1                     260.0                 260.0                   260.0   \n",
       "2                     359.0                 359.0                   359.0   \n",
       "3                     308.0                  85.0                    85.0   \n",
       "4                     359.0                 359.0                   359.0   \n",
       "...                     ...                   ...                     ...   \n",
       "40831                   NaN                   NaN                     NaN   \n",
       "40832                   NaN                   NaN                     NaN   \n",
       "40833                   NaN                   NaN                     NaN   \n",
       "40834                   NaN                   NaN                     NaN   \n",
       "40835                   NaN                   NaN                     NaN   \n",
       "\n",
       "      WOONPC2 DAGSOORT                                     VERTPC2  \\\n",
       "0          70  weekday                                          70   \n",
       "1          70  weekday                                          70   \n",
       "2          70  weekday                                          70   \n",
       "3          70  weekday                                          70   \n",
       "4          70  weekday                                          70   \n",
       "...       ...      ...                                         ...   \n",
       "40831      17  weekday  On this day the person did not take a trip   \n",
       "40832      45  weekday  On this day the person did not take a trip   \n",
       "40833      45  weekday  On this day the person did not take a trip   \n",
       "40834      45  weekday  On this day the person did not take a trip   \n",
       "40835      45  weekday  On this day the person did not take a trip   \n",
       "\n",
       "                                          AANKPC2  \n",
       "0                                              70  \n",
       "1                                              70  \n",
       "2                                              70  \n",
       "3                                              70  \n",
       "4                                              70  \n",
       "...                                           ...  \n",
       "40831  On this day the person did not take a trip  \n",
       "40832  On this day the person did not take a trip  \n",
       "40833  On this day the person did not take a trip  \n",
       "40834  On this day the person did not take a trip  \n",
       "40835  On this day the person did not take a trip  \n",
       "\n",
       "[40836 rows x 85 columns]"
      ]
     },
     "execution_count": 110,
     "metadata": {},
     "output_type": "execute_result"
    }
   ],
   "source": [
    "MPNWAVE_DAGBOEKdata"
   ]
  },
  {
   "cell_type": "code",
   "execution_count": 111,
   "metadata": {},
   "outputs": [
    {
     "name": "stdout",
     "output_type": "stream",
     "text": [
      "40836\n"
     ]
    }
   ],
   "source": [
    "print(len(MPNWAVE_DAGBOEKdata))\n"
   ]
  },
  {
   "cell_type": "code",
   "execution_count": 112,
   "metadata": {},
   "outputs": [],
   "source": [
    "#MPNWAVE_DAGBOEKdata.to_csv('F:/more work/the netherlands/4 wave/wave8/newwwwww.csv')"
   ]
  },
  {
   "cell_type": "code",
   "execution_count": 113,
   "metadata": {},
   "outputs": [
    {
     "data": {
      "text/plain": [
       "Car as driver                                 13220\n",
       "Bicycle                                        9144\n",
       "Walking                                        8250\n",
       "On this day the person did not take a trip     4998\n",
       "Car as passenger                               2986\n",
       "Other                                           804\n",
       "Bus/tram/metro                                  458\n",
       "NaN                                             383\n",
       "Train                                           372\n",
       "Scooter/moped                                   221\n",
       "Name: KRVM, dtype: int64"
      ]
     },
     "execution_count": 113,
     "metadata": {},
     "output_type": "execute_result"
    }
   ],
   "source": [
    "MPNWAVE_DAGBOEKdata[\"KRVM\"].value_counts(dropna=False)"
   ]
  },
  {
   "cell_type": "code",
   "execution_count": 114,
   "metadata": {},
   "outputs": [],
   "source": [
    "MPNWAVE_DAGBOEKdata = MPNWAVE_DAGBOEKdata.dropna(subset=['KRVM'])"
   ]
  },
  {
   "cell_type": "code",
   "execution_count": 115,
   "metadata": {},
   "outputs": [
    {
     "data": {
      "text/plain": [
       "Car as driver                                 13220\n",
       "Bicycle                                        9144\n",
       "Walking                                        8250\n",
       "On this day the person did not take a trip     4998\n",
       "Car as passenger                               2986\n",
       "Other                                           804\n",
       "Bus/tram/metro                                  458\n",
       "Train                                           372\n",
       "Scooter/moped                                   221\n",
       "Name: KRVM, dtype: int64"
      ]
     },
     "execution_count": 115,
     "metadata": {},
     "output_type": "execute_result"
    }
   ],
   "source": [
    "MPNWAVE_DAGBOEKdata[\"KRVM\"].value_counts(dropna=False)"
   ]
  },
  {
   "cell_type": "code",
   "execution_count": 116,
   "metadata": {},
   "outputs": [],
   "source": [
    "\n",
    "MPNWAVE_DAGBOEKdata = MPNWAVE_DAGBOEKdata[MPNWAVE_DAGBOEKdata['AANTRIT'] != 'On this day the person did not take a trip']"
   ]
  },
  {
   "cell_type": "code",
   "execution_count": 117,
   "metadata": {},
   "outputs": [
    {
     "data": {
      "text/plain": [
       "Car as driver       13220\n",
       "Bicycle              9144\n",
       "Walking              8250\n",
       "Car as passenger     2986\n",
       "Other                 804\n",
       "Bus/tram/metro        458\n",
       "Train                 372\n",
       "Scooter/moped         221\n",
       "Name: KRVM, dtype: int64"
      ]
     },
     "execution_count": 117,
     "metadata": {},
     "output_type": "execute_result"
    }
   ],
   "source": [
    "MPNWAVE_DAGBOEKdata[\"KRVM\"].value_counts(dropna=False)"
   ]
  },
  {
   "cell_type": "code",
   "execution_count": 118,
   "metadata": {},
   "outputs": [],
   "source": [
    "MPNWAVE_DAGBOEKdata['KRVM'].replace(['Car as driver' , 'Car as passenger' , 'Train' , 'Bus/tram/metro' , 'Scooter/moped' , 'Bicycle' , 'Walking' , 'Other' , 'Means of transport not stored' , 'On this day the person did not take a trip',np.nan],[1,1,3,4,5,6,7,0,0,0,0],inplace=True)"
   ]
  },
  {
   "cell_type": "code",
   "execution_count": 119,
   "metadata": {},
   "outputs": [
    {
     "data": {
      "text/plain": [
       "1    16206\n",
       "6     9144\n",
       "7     8250\n",
       "0      804\n",
       "4      458\n",
       "3      372\n",
       "5      221\n",
       "Name: KRVM, dtype: int64"
      ]
     },
     "execution_count": 119,
     "metadata": {},
     "output_type": "execute_result"
    }
   ],
   "source": [
    "MPNWAVE_DAGBOEKdata[\"KRVM\"].value_counts(dropna=False)"
   ]
  },
  {
   "cell_type": "code",
   "execution_count": 120,
   "metadata": {},
   "outputs": [
    {
     "data": {
      "text/plain": [
       "1     32552\n",
       "3      1251\n",
       "2       628\n",
       "4       588\n",
       "5       230\n",
       "7        91\n",
       "6        54\n",
       "8        32\n",
       "9        18\n",
       "11       11\n",
       "Name: AANTRIT, dtype: int64"
      ]
     },
     "execution_count": 120,
     "metadata": {},
     "output_type": "execute_result"
    }
   ],
   "source": [
    "MPNWAVE_DAGBOEKdata[\"AANTRIT\"].value_counts(dropna=False)"
   ]
  },
  {
   "cell_type": "code",
   "execution_count": 121,
   "metadata": {},
   "outputs": [],
   "source": [
    "MPNWAVE_DAGBOEKdata['AANTRIT'] = pd.to_numeric(MPNWAVE_DAGBOEKdata['AANTRIT'], errors='coerce')"
   ]
  },
  {
   "cell_type": "code",
   "execution_count": 122,
   "metadata": {},
   "outputs": [
    {
     "data": {
      "text/plain": [
       "1     32552\n",
       "3      1251\n",
       "2       628\n",
       "4       588\n",
       "5       230\n",
       "7        91\n",
       "6        54\n",
       "8        32\n",
       "9        18\n",
       "11       11\n",
       "Name: AANTRIT, dtype: int64"
      ]
     },
     "execution_count": 122,
     "metadata": {},
     "output_type": "execute_result"
    }
   ],
   "source": [
    "MPNWAVE_DAGBOEKdata['AANTRIT'].value_counts(dropna=False)"
   ]
  },
  {
   "cell_type": "code",
   "execution_count": 123,
   "metadata": {},
   "outputs": [],
   "source": [
    "df =pd.DataFrame()\n",
    "cc = ['VPLID','AANTRIT','KRVM']\n",
    "df[cc]=MPNWAVE_DAGBOEKdata[cc]\n"
   ]
  },
  {
   "cell_type": "code",
   "execution_count": 124,
   "metadata": {},
   "outputs": [],
   "source": [
    "#df.to_csv('F:/more work/the netherlands/4 wave/wave8/new.csv')"
   ]
  },
  {
   "cell_type": "code",
   "execution_count": 125,
   "metadata": {},
   "outputs": [
    {
     "data": {
      "text/html": [
       "<div>\n",
       "<style scoped>\n",
       "    .dataframe tbody tr th:only-of-type {\n",
       "        vertical-align: middle;\n",
       "    }\n",
       "\n",
       "    .dataframe tbody tr th {\n",
       "        vertical-align: top;\n",
       "    }\n",
       "\n",
       "    .dataframe thead th {\n",
       "        text-align: right;\n",
       "    }\n",
       "</style>\n",
       "<table border=\"1\" class=\"dataframe\">\n",
       "  <thead>\n",
       "    <tr style=\"text-align: right;\">\n",
       "      <th></th>\n",
       "      <th>VPLID</th>\n",
       "      <th>AANTRIT</th>\n",
       "      <th>KRVM</th>\n",
       "    </tr>\n",
       "  </thead>\n",
       "  <tbody>\n",
       "    <tr>\n",
       "      <th>0</th>\n",
       "      <td>72072101</td>\n",
       "      <td>1</td>\n",
       "      <td>7</td>\n",
       "    </tr>\n",
       "    <tr>\n",
       "      <th>1</th>\n",
       "      <td>72072102</td>\n",
       "      <td>1</td>\n",
       "      <td>6</td>\n",
       "    </tr>\n",
       "    <tr>\n",
       "      <th>2</th>\n",
       "      <td>72072103</td>\n",
       "      <td>1</td>\n",
       "      <td>6</td>\n",
       "    </tr>\n",
       "    <tr>\n",
       "      <th>3</th>\n",
       "      <td>72072104</td>\n",
       "      <td>1</td>\n",
       "      <td>6</td>\n",
       "    </tr>\n",
       "    <tr>\n",
       "      <th>4</th>\n",
       "      <td>72072105</td>\n",
       "      <td>1</td>\n",
       "      <td>6</td>\n",
       "    </tr>\n",
       "    <tr>\n",
       "      <th>...</th>\n",
       "      <td>...</td>\n",
       "      <td>...</td>\n",
       "      <td>...</td>\n",
       "    </tr>\n",
       "    <tr>\n",
       "      <th>35450</th>\n",
       "      <td>78630102</td>\n",
       "      <td>1</td>\n",
       "      <td>6</td>\n",
       "    </tr>\n",
       "    <tr>\n",
       "      <th>35451</th>\n",
       "      <td>78630201</td>\n",
       "      <td>1</td>\n",
       "      <td>6</td>\n",
       "    </tr>\n",
       "    <tr>\n",
       "      <th>35452</th>\n",
       "      <td>78630202</td>\n",
       "      <td>1</td>\n",
       "      <td>6</td>\n",
       "    </tr>\n",
       "    <tr>\n",
       "      <th>35453</th>\n",
       "      <td>78630301</td>\n",
       "      <td>1</td>\n",
       "      <td>6</td>\n",
       "    </tr>\n",
       "    <tr>\n",
       "      <th>35454</th>\n",
       "      <td>78630302</td>\n",
       "      <td>1</td>\n",
       "      <td>6</td>\n",
       "    </tr>\n",
       "  </tbody>\n",
       "</table>\n",
       "<p>35455 rows × 3 columns</p>\n",
       "</div>"
      ],
      "text/plain": [
       "          VPLID  AANTRIT  KRVM\n",
       "0      72072101        1     7\n",
       "1      72072102        1     6\n",
       "2      72072103        1     6\n",
       "3      72072104        1     6\n",
       "4      72072105        1     6\n",
       "...         ...      ...   ...\n",
       "35450  78630102        1     6\n",
       "35451  78630201        1     6\n",
       "35452  78630202        1     6\n",
       "35453  78630301        1     6\n",
       "35454  78630302        1     6\n",
       "\n",
       "[35455 rows x 3 columns]"
      ]
     },
     "execution_count": 125,
     "metadata": {},
     "output_type": "execute_result"
    }
   ],
   "source": [
    "df = df.astype(int)\n",
    "df.sort_values(by=\"VPLID\",inplace=True)\n",
    "df = df.reset_index(drop=True)\n",
    "df"
   ]
  },
  {
   "cell_type": "code",
   "execution_count": 126,
   "metadata": {},
   "outputs": [
    {
     "data": {
      "text/plain": [
       "1    16206\n",
       "6     9144\n",
       "7     8250\n",
       "0      804\n",
       "4      458\n",
       "3      372\n",
       "5      221\n",
       "Name: KRVM, dtype: int64"
      ]
     },
     "execution_count": 126,
     "metadata": {},
     "output_type": "execute_result"
    }
   ],
   "source": [
    "df[\"KRVM\"].value_counts(dropna=False)"
   ]
  },
  {
   "cell_type": "code",
   "execution_count": 127,
   "metadata": {},
   "outputs": [],
   "source": [
    "# removing walkinng from other modes\n",
    "df[\"new\"] = -1\n",
    "for i in range(len(df)):\n",
    "    if df.loc[i,\"new\"] == -1:\n",
    "        Q = [df.loc[i+x,\"KRVM\"] for x in range(df.loc[i,\"AANTRIT\"])]\n",
    "        for x in range(df.loc[i,\"AANTRIT\"]):\n",
    "            df.loc[i+x,\"new\"] = 0\n",
    "            if 7 in Q:\n",
    "                df.loc[i+x,\"AANTRIT\"] = df.loc[i+x,\"AANTRIT\"] -1*Q.count(7)\n",
    "df.drop([\"new\"],axis=1,inplace=True)\n",
    "df.drop(df[df['KRVM'] == 7].index,inplace=True)"
   ]
  },
  {
   "cell_type": "code",
   "execution_count": 128,
   "metadata": {},
   "outputs": [
    {
     "data": {
      "text/plain": [
       "1    25996\n",
       "2      600\n",
       "3      522\n",
       "4       64\n",
       "5       15\n",
       "8        8\n",
       "Name: AANTRIT, dtype: int64"
      ]
     },
     "execution_count": 128,
     "metadata": {},
     "output_type": "execute_result"
    }
   ],
   "source": [
    "df[\"AANTRIT\"].value_counts()"
   ]
  },
  {
   "cell_type": "code",
   "execution_count": 129,
   "metadata": {},
   "outputs": [],
   "source": [
    "df.reset_index(drop=True, inplace=True)"
   ]
  },
  {
   "cell_type": "code",
   "execution_count": 130,
   "metadata": {},
   "outputs": [
    {
     "data": {
      "text/plain": [
       "1    25996\n",
       "2      600\n",
       "3      522\n",
       "4       64\n",
       "5       15\n",
       "8        8\n",
       "Name: AANTRIT, dtype: int64"
      ]
     },
     "execution_count": 130,
     "metadata": {},
     "output_type": "execute_result"
    }
   ],
   "source": [
    "df[\"AANTRIT\"].value_counts(dropna=False)"
   ]
  },
  {
   "cell_type": "code",
   "execution_count": 131,
   "metadata": {},
   "outputs": [],
   "source": [
    "# set multimodality function\n",
    "#df[\"AANTRIT\"]=df['AANTRIT'].astype(int)\n",
    "df = df.astype('int64')\n",
    "df[\"multimodal\"] = -1\n",
    "\n",
    "for i in range(len(df)):\n",
    "    if (df.loc[i,'multimodal'] != -1):\n",
    "        continue\n",
    "    if df.loc[i, 'multimodal'] == -1:\n",
    "        if df.loc[i, 'AANTRIT'] > 1:\n",
    "            p = [df.loc[i+x, 'KRVM'] for x in range(df.loc[i, 'AANTRIT'])]\n",
    "            if len(set(p)) > 1:\n",
    "                for x in range(df.loc[i, 'AANTRIT']):\n",
    "                    df.loc[i+x, 'multimodal'] = 1\n",
    "            else:\n",
    "                for x in range(df.loc[i, 'AANTRIT']):\n",
    "                    df.loc[i+x, 'multimodal'] = 0\n",
    "        else:\n",
    "            df.loc[i, 'multimodal'] = 0\n",
    "    elif (df.loc[i,'multimodal'] != -1) & (i == len(df)):\n",
    "        break"
   ]
  },
  {
   "cell_type": "code",
   "execution_count": 132,
   "metadata": {},
   "outputs": [
    {
     "data": {
      "text/plain": [
       "0    26235\n",
       "1      970\n",
       "Name: multimodal, dtype: int64"
      ]
     },
     "execution_count": 132,
     "metadata": {},
     "output_type": "execute_result"
    }
   ],
   "source": [
    "df[\"multimodal\"].value_counts(dropna=False)"
   ]
  },
  {
   "cell_type": "code",
   "execution_count": 133,
   "metadata": {},
   "outputs": [],
   "source": [
    "#df['KRVM'].replace([1,2,3,4,5,6,7,0],['Car as driver' , 'Car as passenger' , 'Train' , 'Bus/tram/metro' , 'Scooter/moped' , 'Bicycle' , 'Walking' , 'Other'],inplace=True)\n",
    "df.astype(int)\n",
    "df['KRVM'].replace([2,3,4,5,6,7,0],[10**2 , 10**4 , 10**6 , 10**8 , 10**10 , 10**12 , 10**14],inplace=True)\n"
   ]
  },
  {
   "cell_type": "code",
   "execution_count": 134,
   "metadata": {},
   "outputs": [
    {
     "data": {
      "text/plain": [
       "1                  16206\n",
       "10000000000         9144\n",
       "100000000000000      804\n",
       "1000000              458\n",
       "10000                372\n",
       "100000000            221\n",
       "Name: KRVM, dtype: int64"
      ]
     },
     "execution_count": 134,
     "metadata": {},
     "output_type": "execute_result"
    }
   ],
   "source": [
    "df[\"KRVM\"].value_counts()"
   ]
  },
  {
   "cell_type": "code",
   "execution_count": 135,
   "metadata": {},
   "outputs": [],
   "source": [
    "g = df.drop(['AANTRIT', 'multimodal'], axis=1).groupby(\"VPLID\").sum()\n",
    "g1 = df.merge(g,how='inner',on='VPLID')"
   ]
  },
  {
   "cell_type": "code",
   "execution_count": 136,
   "metadata": {},
   "outputs": [
    {
     "data": {
      "text/plain": [
       "'Modes=[]\\nfor i in range(len(g1)):\\n    if (g1.loc[i,\\'AANTRIT\\']==2) & (g1.loc[i,\\'multimodal\\']==1) & (\"Car as driver\" in g1.loc[i,\"KRVM_y\"]):\\n        Modes.append(1)\\nprint(len(Modes))'"
      ]
     },
     "execution_count": 136,
     "metadata": {},
     "output_type": "execute_result"
    }
   ],
   "source": [
    "'''Modes=[]\n",
    "for i in range(len(g1)):\n",
    "    if (g1.loc[i,'AANTRIT']==2) & (g1.loc[i,'multimodal']==1) & (\"Car as driver\" in g1.loc[i,\"KRVM_y\"]):\n",
    "        Modes.append(1)\n",
    "print(len(Modes))'''"
   ]
  },
  {
   "cell_type": "code",
   "execution_count": 137,
   "metadata": {},
   "outputs": [],
   "source": [
    "g1['KRVM_F'] = g1['multimodal']*g1['KRVM_y']"
   ]
  },
  {
   "cell_type": "code",
   "execution_count": 138,
   "metadata": {},
   "outputs": [],
   "source": [
    "g1['KRVM_x'].replace([10**0, 10**2 , 10**4 , 10**6 , 10**8 , 10**10 , 10**12 , 10**14],['Car as driver' , 'Car as passenger' , 'Train' , 'Bus/tram/metro' , 'Scooter/moped' , 'Bicycle' , 'Walking' , 'Other'],inplace=True)\n",
    "new = pd.get_dummies(g1['KRVM_x'],prefix = 'Mode_')\n",
    "g1 = g1.join(new)"
   ]
  },
  {
   "cell_type": "code",
   "execution_count": 139,
   "metadata": {},
   "outputs": [],
   "source": [
    "\n",
    "\n",
    "H = g1.drop(['AANTRIT', 'multimodal','KRVM_x','KRVM_F','KRVM_y'],axis=1).groupby(\"VPLID\").sum()\n",
    "H1 = g1.merge(H,how='inner',on='VPLID')\n",
    "H1.drop(['Mode__Bicycle_x',\t'Mode__Bus/tram/metro_x',\t'Mode__Car as driver_x',\t'Mode__Other_x' , 'Mode__Scooter/moped_x'\t,'Mode__Train_x'],axis=1,inplace=True)"
   ]
  },
  {
   "cell_type": "code",
   "execution_count": 140,
   "metadata": {},
   "outputs": [],
   "source": [
    "H1.to_csv('F:/more work/the netherlands/4 wave/wave8/nnnnnn.csv',index=False)"
   ]
  },
  {
   "cell_type": "code",
   "execution_count": 167,
   "metadata": {},
   "outputs": [],
   "source": [
    "M = H1[H1['multimodal']==1]\n",
    "#M = M[M[\"AANTRIT\"]>1]"
   ]
  },
  {
   "cell_type": "code",
   "execution_count": 168,
   "metadata": {},
   "outputs": [
    {
     "data": {
      "text/plain": [
       "10000010000        16.174583\n",
       "10001010000        11.861361\n",
       "1010000             9.396662\n",
       "20000010000         8.164313\n",
       "10001000000         6.418485\n",
       "                     ...    \n",
       "200000000000001     0.077022\n",
       "200000000010000     0.077022\n",
       "1000002             0.077022\n",
       "100000000010001     0.077022\n",
       "100000100           0.051348\n",
       "Name: KRVM_F, Length: 99, dtype: float64"
      ]
     },
     "execution_count": 168,
     "metadata": {},
     "output_type": "execute_result"
    }
   ],
   "source": [
    "All_Modeds = M[\"KRVM_F\"].value_counts(normalize=True)*100\n",
    "All_Modeds"
   ]
  },
  {
   "cell_type": "code",
   "execution_count": 169,
   "metadata": {},
   "outputs": [],
   "source": [
    "All_Modeds.head(10)\n",
    "#All_modes = pd.DataFrame({\"Modes\":All_Modeds.head(10).index.to_list(),\"Value_counts\":All_Modeds.head(10).values.tolist()})\n",
    "All_modes = pd.DataFrame({\"Modes\":All_Modeds.index.to_list(),\"Value_counts\":All_Modeds.values.tolist()})"
   ]
  },
  {
   "cell_type": "code",
   "execution_count": 170,
   "metadata": {},
   "outputs": [],
   "source": [
    "# convert the number of Modes\n",
    "def Convert(number):\n",
    "    diMode = { 0:'Car as driver' , 1:'Car as passenger' , 2:'Train' , 3:'Bus/tram/metro' , 4:'Scooter/moped' , 5:'Bicycle' , 6:'Walking' , 7:'Other'}\n",
    "    X = []\n",
    "    for i in range(8):\n",
    "        n = number//10**(i*2)\n",
    "        if n > 0:\n",
    "            Baghimande = n%10**2\n",
    "            if Baghimande > 0:\n",
    "                X .append(str(Baghimande) +\" \"+ diMode[i])\n",
    "    R = ' '.join(X)\n",
    "    return R"
   ]
  },
  {
   "cell_type": "code",
   "execution_count": 171,
   "metadata": {},
   "outputs": [
    {
     "data": {
      "text/plain": [
       "'1.0 Car as driver 1.0 Train 3.0 Walking'"
      ]
     },
     "execution_count": 171,
     "metadata": {},
     "output_type": "execute_result"
    }
   ],
   "source": [
    "Convert(3000000010001.0)"
   ]
  },
  {
   "cell_type": "code",
   "execution_count": 172,
   "metadata": {},
   "outputs": [],
   "source": [
    "All_modes[\"Uncoded_Modes\"]=0"
   ]
  },
  {
   "cell_type": "code",
   "execution_count": 173,
   "metadata": {},
   "outputs": [
    {
     "name": "stderr",
     "output_type": "stream",
     "text": [
      "C:\\Users\\Reza\\AppData\\Local\\Temp\\ipykernel_5836\\1699719614.py:2: SettingWithCopyWarning: \n",
      "A value is trying to be set on a copy of a slice from a DataFrame\n",
      "\n",
      "See the caveats in the documentation: https://pandas.pydata.org/pandas-docs/stable/user_guide/indexing.html#returning-a-view-versus-a-copy\n",
      "  All_modes[\"Uncoded_Modes\"][i] = Convert(All_modes[\"Modes\"][i])\n"
     ]
    },
    {
     "data": {
      "text/html": [
       "<div>\n",
       "<style scoped>\n",
       "    .dataframe tbody tr th:only-of-type {\n",
       "        vertical-align: middle;\n",
       "    }\n",
       "\n",
       "    .dataframe tbody tr th {\n",
       "        vertical-align: top;\n",
       "    }\n",
       "\n",
       "    .dataframe thead th {\n",
       "        text-align: right;\n",
       "    }\n",
       "</style>\n",
       "<table border=\"1\" class=\"dataframe\">\n",
       "  <thead>\n",
       "    <tr style=\"text-align: right;\">\n",
       "      <th></th>\n",
       "      <th>Modes</th>\n",
       "      <th>Value_counts</th>\n",
       "      <th>Uncoded_Modes</th>\n",
       "    </tr>\n",
       "  </thead>\n",
       "  <tbody>\n",
       "    <tr>\n",
       "      <th>0</th>\n",
       "      <td>10000010000</td>\n",
       "      <td>16.174583</td>\n",
       "      <td>1 Train 1 Bicycle</td>\n",
       "    </tr>\n",
       "    <tr>\n",
       "      <th>1</th>\n",
       "      <td>10001010000</td>\n",
       "      <td>11.861361</td>\n",
       "      <td>1 Train 1 Bus/tram/metro 1 Bicycle</td>\n",
       "    </tr>\n",
       "    <tr>\n",
       "      <th>2</th>\n",
       "      <td>1010000</td>\n",
       "      <td>9.396662</td>\n",
       "      <td>1 Train 1 Bus/tram/metro</td>\n",
       "    </tr>\n",
       "    <tr>\n",
       "      <th>3</th>\n",
       "      <td>20000010000</td>\n",
       "      <td>8.164313</td>\n",
       "      <td>1 Train 2 Bicycle</td>\n",
       "    </tr>\n",
       "    <tr>\n",
       "      <th>4</th>\n",
       "      <td>10001000000</td>\n",
       "      <td>6.418485</td>\n",
       "      <td>1 Bus/tram/metro 1 Bicycle</td>\n",
       "    </tr>\n",
       "    <tr>\n",
       "      <th>...</th>\n",
       "      <td>...</td>\n",
       "      <td>...</td>\n",
       "      <td>...</td>\n",
       "    </tr>\n",
       "    <tr>\n",
       "      <th>94</th>\n",
       "      <td>200000000000001</td>\n",
       "      <td>0.077022</td>\n",
       "      <td>1 Car as driver 2 Other</td>\n",
       "    </tr>\n",
       "    <tr>\n",
       "      <th>95</th>\n",
       "      <td>200000000010000</td>\n",
       "      <td>0.077022</td>\n",
       "      <td>1 Train 2 Other</td>\n",
       "    </tr>\n",
       "    <tr>\n",
       "      <th>96</th>\n",
       "      <td>1000002</td>\n",
       "      <td>0.077022</td>\n",
       "      <td>2 Car as driver 1 Bus/tram/metro</td>\n",
       "    </tr>\n",
       "    <tr>\n",
       "      <th>97</th>\n",
       "      <td>100000000010001</td>\n",
       "      <td>0.077022</td>\n",
       "      <td>1 Car as driver 1 Train 1 Other</td>\n",
       "    </tr>\n",
       "    <tr>\n",
       "      <th>98</th>\n",
       "      <td>100000100</td>\n",
       "      <td>0.051348</td>\n",
       "      <td>1 Car as passenger 1 Scooter/moped</td>\n",
       "    </tr>\n",
       "  </tbody>\n",
       "</table>\n",
       "<p>99 rows × 3 columns</p>\n",
       "</div>"
      ],
      "text/plain": [
       "              Modes  Value_counts                       Uncoded_Modes\n",
       "0       10000010000     16.174583                   1 Train 1 Bicycle\n",
       "1       10001010000     11.861361  1 Train 1 Bus/tram/metro 1 Bicycle\n",
       "2           1010000      9.396662            1 Train 1 Bus/tram/metro\n",
       "3       20000010000      8.164313                   1 Train 2 Bicycle\n",
       "4       10001000000      6.418485          1 Bus/tram/metro 1 Bicycle\n",
       "..              ...           ...                                 ...\n",
       "94  200000000000001      0.077022             1 Car as driver 2 Other\n",
       "95  200000000010000      0.077022                     1 Train 2 Other\n",
       "96          1000002      0.077022    2 Car as driver 1 Bus/tram/metro\n",
       "97  100000000010001      0.077022     1 Car as driver 1 Train 1 Other\n",
       "98        100000100      0.051348  1 Car as passenger 1 Scooter/moped\n",
       "\n",
       "[99 rows x 3 columns]"
      ]
     },
     "execution_count": 173,
     "metadata": {},
     "output_type": "execute_result"
    }
   ],
   "source": [
    "for i in range(len(All_modes)):\n",
    "    All_modes[\"Uncoded_Modes\"][i] = Convert(All_modes[\"Modes\"][i])\n",
    "All_modes"
   ]
  },
  {
   "cell_type": "code",
   "execution_count": 174,
   "metadata": {},
   "outputs": [],
   "source": [
    "All_modes.to_csv('F:/more work/the netherlands/4 wave/wave8/Wave5_all_combinations_&_modes.csv',index=False)"
   ]
  },
  {
   "cell_type": "code",
   "execution_count": 182,
   "metadata": {},
   "outputs": [
    {
     "data": {
      "text/plain": [
       "1    39409\n",
       "2     2904\n",
       "3     1728\n",
       "4      316\n",
       "5       75\n",
       "6       30\n",
       "9       27\n",
       "7       14\n",
       "8        8\n",
       "Name: AANTRIT, dtype: int64"
      ]
     },
     "execution_count": 182,
     "metadata": {},
     "output_type": "execute_result"
    }
   ],
   "source": [
    "H1[\"AANTRIT\"].value_counts(dropna=False)"
   ]
  }
 ],
 "metadata": {
  "kernelspec": {
   "display_name": "Python 3.10.8 64-bit",
   "language": "python",
   "name": "python3"
  },
  "language_info": {
   "codemirror_mode": {
    "name": "ipython",
    "version": 3
   },
   "file_extension": ".py",
   "mimetype": "text/x-python",
   "name": "python",
   "nbconvert_exporter": "python",
   "pygments_lexer": "ipython3",
   "version": "3.10.9"
  },
  "orig_nbformat": 4,
  "vscode": {
   "interpreter": {
    "hash": "2b324498af64d22b4773901be112d66dec816013b7f64fed368c8550f7daba2d"
   }
  }
 },
 "nbformat": 4,
 "nbformat_minor": 2
}
