{
 "cells": [
  {
   "cell_type": "code",
   "execution_count": 133,
   "metadata": {},
   "outputs": [],
   "source": [
    "import pandas as pd\n",
    "import numpy as np"
   ]
  },
  {
   "cell_type": "code",
   "execution_count": 134,
   "metadata": {},
   "outputs": [
    {
     "name": "stderr",
     "output_type": "stream",
     "text": [
      "C:\\Users\\Reza\\AppData\\Local\\Temp\\ipykernel_5836\\3539217140.py:4: DtypeWarning: Columns (11,14,17,84) have mixed types. Specify dtype option on import or set low_memory=False.\n",
      "  MPNWAVE_DAGBOEKdata = pd.read_csv('F:/more work/the netherlands/4 wave/wave5/MPNWAVE5_DAGBOEKdata.csv')\n"
     ]
    }
   ],
   "source": [
    "#MPNWAVE8_DAGBOEKdata = pd.read_csv('F:/more work/the netherlands/4 wave/wave8/MPNWAVE8_DAGBOEKdata.csv')\n",
    "#MPNWAVE7_DAGBOEKdata = pd.read_csv('F:/more work/the netherlands/4 wave/wave7/MPNWAVE7_DAGBOEKdata.csv')\n",
    "#MPNWAVE6_DAGBOEKdata = pd.read_csv('F:/more work/the netherlands/4 wave/wave6/MPNWAVE6_DAGBOEKdata.csv')\n",
    "MPNWAVE_DAGBOEKdata = pd.read_csv('F:/more work/the netherlands/4 wave/wave5/MPNWAVE5_DAGBOEKdata.csv')"
   ]
  },
  {
   "cell_type": "code",
   "execution_count": 135,
   "metadata": {},
   "outputs": [
    {
     "data": {
      "text/plain": [
       "'print(len(MPNWAVE8_DAGBOEKdata))\\nprint(len(MPNWAVE7_DAGBOEKdata))\\nprint(len(MPNWAVE6_DAGBOEKdata))\\nprint(len(MPNWAVE5_DAGBOEKdata))\\nprint(len(MPNWAVE8_DAGBOEKdata)+ len(MPNWAVE7_DAGBOEKdata) +len(MPNWAVE6_DAGBOEKdata) +  len(MPNWAVE5_DAGBOEKdata))'"
      ]
     },
     "execution_count": 135,
     "metadata": {},
     "output_type": "execute_result"
    }
   ],
   "source": [
    "\"\"\"print(len(MPNWAVE8_DAGBOEKdata))\n",
    "print(len(MPNWAVE7_DAGBOEKdata))\n",
    "print(len(MPNWAVE6_DAGBOEKdata))\n",
    "print(len(MPNWAVE5_DAGBOEKdata))\n",
    "print(len(MPNWAVE8_DAGBOEKdata)+ len(MPNWAVE7_DAGBOEKdata) +len(MPNWAVE6_DAGBOEKdata) +  len(MPNWAVE5_DAGBOEKdata))\"\"\""
   ]
  },
  {
   "cell_type": "code",
   "execution_count": 136,
   "metadata": {},
   "outputs": [],
   "source": [
    "#MPNWAVE_DAGBOEKdata = pd.concat([MPNWAVE8_DAGBOEKdata,MPNWAVE7_DAGBOEKdata,MPNWAVE6_DAGBOEKdata,MPNWAVE5_DAGBOEKdata],ignore_index=True, sort=False)"
   ]
  },
  {
   "cell_type": "code",
   "execution_count": 137,
   "metadata": {},
   "outputs": [
    {
     "name": "stdout",
     "output_type": "stream",
     "text": [
      "61177\n"
     ]
    }
   ],
   "source": [
    "print(len(MPNWAVE_DAGBOEKdata))\n"
   ]
  },
  {
   "cell_type": "code",
   "execution_count": 138,
   "metadata": {},
   "outputs": [],
   "source": [
    "#MPNWAVE_DAGBOEKdata.to_csv('F:/more work/the netherlands/4 wave/wave8/newwwwww.csv')"
   ]
  },
  {
   "cell_type": "code",
   "execution_count": 139,
   "metadata": {},
   "outputs": [
    {
     "data": {
      "text/plain": [
       "Car as driver                    19759\n",
       "Bicycle                          14159\n",
       "Walking                          12890\n",
       "Car as passenger                  5432\n",
       "Means of transport not stored     2759\n",
       "Bus/tram/metro                    1834\n",
       "Other                             1463\n",
       "Train                             1390\n",
       "NaN                               1017\n",
       "Scooter/moped                      474\n",
       "Name: KRVM, dtype: int64"
      ]
     },
     "execution_count": 139,
     "metadata": {},
     "output_type": "execute_result"
    }
   ],
   "source": [
    "MPNWAVE_DAGBOEKdata[\"KRVM\"].value_counts(dropna=False)"
   ]
  },
  {
   "cell_type": "code",
   "execution_count": 140,
   "metadata": {},
   "outputs": [],
   "source": [
    "MPNWAVE_DAGBOEKdata = MPNWAVE_DAGBOEKdata.dropna(subset=['KRVM'])"
   ]
  },
  {
   "cell_type": "code",
   "execution_count": 141,
   "metadata": {},
   "outputs": [
    {
     "data": {
      "text/plain": [
       "Car as driver                    19759\n",
       "Bicycle                          14159\n",
       "Walking                          12890\n",
       "Car as passenger                  5432\n",
       "Means of transport not stored     2759\n",
       "Bus/tram/metro                    1834\n",
       "Other                             1463\n",
       "Train                             1390\n",
       "Scooter/moped                      474\n",
       "Name: KRVM, dtype: int64"
      ]
     },
     "execution_count": 141,
     "metadata": {},
     "output_type": "execute_result"
    }
   ],
   "source": [
    "MPNWAVE_DAGBOEKdata[\"KRVM\"].value_counts(dropna=False)"
   ]
  },
  {
   "cell_type": "code",
   "execution_count": 142,
   "metadata": {},
   "outputs": [],
   "source": [
    "\n",
    "MPNWAVE_DAGBOEKdata = MPNWAVE_DAGBOEKdata[MPNWAVE_DAGBOEKdata['AANTRIT'] != 'On this day the person did not take a trip']"
   ]
  },
  {
   "cell_type": "code",
   "execution_count": 143,
   "metadata": {},
   "outputs": [
    {
     "data": {
      "text/plain": [
       "Car as driver       19759\n",
       "Bicycle             14159\n",
       "Walking             12890\n",
       "Car as passenger     5432\n",
       "Bus/tram/metro       1834\n",
       "Other                1463\n",
       "Train                1390\n",
       "Scooter/moped         474\n",
       "Name: KRVM, dtype: int64"
      ]
     },
     "execution_count": 143,
     "metadata": {},
     "output_type": "execute_result"
    }
   ],
   "source": [
    "MPNWAVE_DAGBOEKdata[\"KRVM\"].value_counts(dropna=False)"
   ]
  },
  {
   "cell_type": "code",
   "execution_count": 144,
   "metadata": {},
   "outputs": [],
   "source": [
    "MPNWAVE_DAGBOEKdata['KRVM'].replace(['Car as driver' , 'Car as passenger' , 'Train' , 'Bus/tram/metro' , 'Scooter/moped' , 'Bicycle' , 'Walking' , 'Other' , 'Means of transport not stored' , 'On this day the person did not take a trip',np.nan],[1,2,3,4,5,6,7,0,0,0,0],inplace=True)"
   ]
  },
  {
   "cell_type": "code",
   "execution_count": 145,
   "metadata": {},
   "outputs": [
    {
     "data": {
      "text/plain": [
       "1    19759\n",
       "6    14159\n",
       "7    12890\n",
       "2     5432\n",
       "4     1834\n",
       "0     1463\n",
       "3     1390\n",
       "5      474\n",
       "Name: KRVM, dtype: int64"
      ]
     },
     "execution_count": 145,
     "metadata": {},
     "output_type": "execute_result"
    }
   ],
   "source": [
    "MPNWAVE_DAGBOEKdata[\"KRVM\"].value_counts(dropna=False)"
   ]
  },
  {
   "cell_type": "code",
   "execution_count": 146,
   "metadata": {},
   "outputs": [
    {
     "data": {
      "text/plain": [
       "1.0     42884\n",
       "3.0      4082\n",
       "1.0      3254\n",
       "2.0      2140\n",
       "4.0      1879\n",
       "3.0       877\n",
       "5.0       645\n",
       "4.0       609\n",
       "2.0       290\n",
       "6.0       234\n",
       "5.0       150\n",
       "7.0        84\n",
       "6.0        48\n",
       "8.0        48\n",
       "11.0       33\n",
       "7.0        28\n",
       "9.0        27\n",
       "12.0       24\n",
       "9.0        18\n",
       "16.0       16\n",
       "13.0       13\n",
       "10.0       10\n",
       "8.0         8\n",
       "Name: AANTRIT, dtype: int64"
      ]
     },
     "execution_count": 146,
     "metadata": {},
     "output_type": "execute_result"
    }
   ],
   "source": [
    "MPNWAVE_DAGBOEKdata[\"AANTRIT\"].value_counts(dropna=False)"
   ]
  },
  {
   "cell_type": "code",
   "execution_count": 147,
   "metadata": {},
   "outputs": [],
   "source": [
    "MPNWAVE_DAGBOEKdata['AANTRIT'] = pd.to_numeric(MPNWAVE_DAGBOEKdata['AANTRIT'], errors='coerce')"
   ]
  },
  {
   "cell_type": "code",
   "execution_count": 148,
   "metadata": {},
   "outputs": [
    {
     "data": {
      "text/plain": [
       "1.0     46138\n",
       "3.0      4959\n",
       "4.0      2488\n",
       "2.0      2430\n",
       "5.0       795\n",
       "6.0       282\n",
       "7.0       112\n",
       "8.0        56\n",
       "9.0        45\n",
       "11.0       33\n",
       "12.0       24\n",
       "16.0       16\n",
       "13.0       13\n",
       "10.0       10\n",
       "Name: AANTRIT, dtype: int64"
      ]
     },
     "execution_count": 148,
     "metadata": {},
     "output_type": "execute_result"
    }
   ],
   "source": [
    "MPNWAVE_DAGBOEKdata['AANTRIT'].value_counts(dropna=False)"
   ]
  },
  {
   "cell_type": "code",
   "execution_count": 149,
   "metadata": {},
   "outputs": [],
   "source": [
    "df =pd.DataFrame()\n",
    "cc = ['VPLID','AANTRIT','KRVM']\n",
    "df[cc]=MPNWAVE_DAGBOEKdata[cc]\n"
   ]
  },
  {
   "cell_type": "code",
   "execution_count": 150,
   "metadata": {},
   "outputs": [],
   "source": [
    "#df.to_csv('F:/more work/the netherlands/4 wave/wave8/new.csv')"
   ]
  },
  {
   "cell_type": "code",
   "execution_count": 151,
   "metadata": {},
   "outputs": [
    {
     "data": {
      "text/html": [
       "<div>\n",
       "<style scoped>\n",
       "    .dataframe tbody tr th:only-of-type {\n",
       "        vertical-align: middle;\n",
       "    }\n",
       "\n",
       "    .dataframe tbody tr th {\n",
       "        vertical-align: top;\n",
       "    }\n",
       "\n",
       "    .dataframe thead th {\n",
       "        text-align: right;\n",
       "    }\n",
       "</style>\n",
       "<table border=\"1\" class=\"dataframe\">\n",
       "  <thead>\n",
       "    <tr style=\"text-align: right;\">\n",
       "      <th></th>\n",
       "      <th>VPLID</th>\n",
       "      <th>AANTRIT</th>\n",
       "      <th>KRVM</th>\n",
       "    </tr>\n",
       "  </thead>\n",
       "  <tbody>\n",
       "    <tr>\n",
       "      <th>0</th>\n",
       "      <td>530190</td>\n",
       "      <td>1</td>\n",
       "      <td>1</td>\n",
       "    </tr>\n",
       "    <tr>\n",
       "      <th>1</th>\n",
       "      <td>530192</td>\n",
       "      <td>1</td>\n",
       "      <td>1</td>\n",
       "    </tr>\n",
       "    <tr>\n",
       "      <th>2</th>\n",
       "      <td>530194</td>\n",
       "      <td>1</td>\n",
       "      <td>1</td>\n",
       "    </tr>\n",
       "    <tr>\n",
       "      <th>3</th>\n",
       "      <td>530199</td>\n",
       "      <td>1</td>\n",
       "      <td>7</td>\n",
       "    </tr>\n",
       "    <tr>\n",
       "      <th>4</th>\n",
       "      <td>530203</td>\n",
       "      <td>1</td>\n",
       "      <td>1</td>\n",
       "    </tr>\n",
       "    <tr>\n",
       "      <th>...</th>\n",
       "      <td>...</td>\n",
       "      <td>...</td>\n",
       "      <td>...</td>\n",
       "    </tr>\n",
       "    <tr>\n",
       "      <th>57396</th>\n",
       "      <td>666686</td>\n",
       "      <td>1</td>\n",
       "      <td>6</td>\n",
       "    </tr>\n",
       "    <tr>\n",
       "      <th>57397</th>\n",
       "      <td>666689</td>\n",
       "      <td>1</td>\n",
       "      <td>6</td>\n",
       "    </tr>\n",
       "    <tr>\n",
       "      <th>57398</th>\n",
       "      <td>666691</td>\n",
       "      <td>1</td>\n",
       "      <td>6</td>\n",
       "    </tr>\n",
       "    <tr>\n",
       "      <th>57399</th>\n",
       "      <td>666694</td>\n",
       "      <td>1</td>\n",
       "      <td>6</td>\n",
       "    </tr>\n",
       "    <tr>\n",
       "      <th>57400</th>\n",
       "      <td>666696</td>\n",
       "      <td>1</td>\n",
       "      <td>6</td>\n",
       "    </tr>\n",
       "  </tbody>\n",
       "</table>\n",
       "<p>57401 rows × 3 columns</p>\n",
       "</div>"
      ],
      "text/plain": [
       "        VPLID  AANTRIT  KRVM\n",
       "0      530190        1     1\n",
       "1      530192        1     1\n",
       "2      530194        1     1\n",
       "3      530199        1     7\n",
       "4      530203        1     1\n",
       "...       ...      ...   ...\n",
       "57396  666686        1     6\n",
       "57397  666689        1     6\n",
       "57398  666691        1     6\n",
       "57399  666694        1     6\n",
       "57400  666696        1     6\n",
       "\n",
       "[57401 rows x 3 columns]"
      ]
     },
     "execution_count": 151,
     "metadata": {},
     "output_type": "execute_result"
    }
   ],
   "source": [
    "df = df.astype(int)\n",
    "df.sort_values(by=\"VPLID\",inplace=True)\n",
    "df = df.reset_index(drop=True)\n",
    "df"
   ]
  },
  {
   "cell_type": "code",
   "execution_count": 152,
   "metadata": {},
   "outputs": [
    {
     "data": {
      "text/plain": [
       "1    19759\n",
       "6    14159\n",
       "7    12890\n",
       "2     5432\n",
       "4     1834\n",
       "0     1463\n",
       "3     1390\n",
       "5      474\n",
       "Name: KRVM, dtype: int64"
      ]
     },
     "execution_count": 152,
     "metadata": {},
     "output_type": "execute_result"
    }
   ],
   "source": [
    "df[\"KRVM\"].value_counts(dropna=False)"
   ]
  },
  {
   "cell_type": "code",
   "execution_count": 153,
   "metadata": {},
   "outputs": [],
   "source": [
    "# removing walkinng from other modes\n",
    "df[\"new\"] = -1\n",
    "for i in range(len(df)):\n",
    "    if df.loc[i,\"new\"] == -1:\n",
    "        Q = [df.loc[i+x,\"KRVM\"] for x in range(df.loc[i,\"AANTRIT\"])]\n",
    "        for x in range(df.loc[i,\"AANTRIT\"]):\n",
    "            df.loc[i+x,\"new\"] = 0\n",
    "            if 7 in Q:\n",
    "                df.loc[i+x,\"AANTRIT\"] = df.loc[i+x,\"AANTRIT\"] -1*Q.count(7)\n",
    "df.drop([\"new\"],axis=1,inplace=True)\n",
    "df.drop(df[df['KRVM'] == 7].index,inplace=True)"
   ]
  },
  {
   "cell_type": "code",
   "execution_count": 154,
   "metadata": {},
   "outputs": [
    {
     "data": {
      "text/plain": [
       "1    39409\n",
       "2     2904\n",
       "3     1728\n",
       "4      316\n",
       "5       75\n",
       "6       30\n",
       "9       27\n",
       "7       14\n",
       "8        8\n",
       "Name: AANTRIT, dtype: int64"
      ]
     },
     "execution_count": 154,
     "metadata": {},
     "output_type": "execute_result"
    }
   ],
   "source": [
    "df[\"AANTRIT\"].value_counts()"
   ]
  },
  {
   "cell_type": "code",
   "execution_count": 155,
   "metadata": {},
   "outputs": [],
   "source": [
    "df.reset_index(drop=True, inplace=True)"
   ]
  },
  {
   "cell_type": "code",
   "execution_count": 156,
   "metadata": {},
   "outputs": [
    {
     "data": {
      "text/plain": [
       "1    39409\n",
       "2     2904\n",
       "3     1728\n",
       "4      316\n",
       "5       75\n",
       "6       30\n",
       "9       27\n",
       "7       14\n",
       "8        8\n",
       "Name: AANTRIT, dtype: int64"
      ]
     },
     "execution_count": 156,
     "metadata": {},
     "output_type": "execute_result"
    }
   ],
   "source": [
    "df[\"AANTRIT\"].value_counts(dropna=False)"
   ]
  },
  {
   "cell_type": "code",
   "execution_count": 157,
   "metadata": {},
   "outputs": [],
   "source": [
    "# set multimodality function\n",
    "#df[\"AANTRIT\"]=df['AANTRIT'].astype(int)\n",
    "df = df.astype('int64')\n",
    "df[\"multimodal\"] = -1\n",
    "\n",
    "for i in range(len(df)):\n",
    "    if (df.loc[i,'multimodal'] != -1):\n",
    "        continue\n",
    "    if df.loc[i, 'multimodal'] == -1:\n",
    "        if df.loc[i, 'AANTRIT'] > 1:\n",
    "            p = [df.loc[i+x, 'KRVM'] for x in range(df.loc[i, 'AANTRIT'])]\n",
    "            if len(set(p)) > 1:\n",
    "                for x in range(df.loc[i, 'AANTRIT']):\n",
    "                    df.loc[i+x, 'multimodal'] = 1\n",
    "            else:\n",
    "                for x in range(df.loc[i, 'AANTRIT']):\n",
    "                    df.loc[i+x, 'multimodal'] = 0\n",
    "        else:\n",
    "            df.loc[i, 'multimodal'] = 0\n",
    "    elif (df.loc[i,'multimodal'] != -1) & (i == len(df)):\n",
    "        break"
   ]
  },
  {
   "cell_type": "code",
   "execution_count": 158,
   "metadata": {},
   "outputs": [
    {
     "data": {
      "text/plain": [
       "0    40616\n",
       "1     3895\n",
       "Name: multimodal, dtype: int64"
      ]
     },
     "execution_count": 158,
     "metadata": {},
     "output_type": "execute_result"
    }
   ],
   "source": [
    "df[\"multimodal\"].value_counts(dropna=False)"
   ]
  },
  {
   "cell_type": "code",
   "execution_count": 159,
   "metadata": {},
   "outputs": [],
   "source": [
    "#df['KRVM'].replace([1,2,3,4,5,6,7,0],['Car as driver' , 'Car as passenger' , 'Train' , 'Bus/tram/metro' , 'Scooter/moped' , 'Bicycle' , 'Walking' , 'Other'],inplace=True)\n",
    "df.astype(int)\n",
    "df['KRVM'].replace([2,3,4,5,6,7,0],[10**2 , 10**4 , 10**6 , 10**8 , 10**10 , 10**12 , 10**14],inplace=True)\n"
   ]
  },
  {
   "cell_type": "code",
   "execution_count": 160,
   "metadata": {},
   "outputs": [
    {
     "data": {
      "text/plain": [
       "1                  19759\n",
       "10000000000        14159\n",
       "100                 5432\n",
       "1000000             1834\n",
       "100000000000000     1463\n",
       "10000               1390\n",
       "100000000            474\n",
       "Name: KRVM, dtype: int64"
      ]
     },
     "execution_count": 160,
     "metadata": {},
     "output_type": "execute_result"
    }
   ],
   "source": [
    "df[\"KRVM\"].value_counts()"
   ]
  },
  {
   "cell_type": "code",
   "execution_count": 161,
   "metadata": {},
   "outputs": [],
   "source": [
    "g = df.drop(['AANTRIT', 'multimodal'], axis=1).groupby(\"VPLID\").sum()\n",
    "g1 = df.merge(g,how='inner',on='VPLID')"
   ]
  },
  {
   "cell_type": "code",
   "execution_count": 162,
   "metadata": {},
   "outputs": [
    {
     "data": {
      "text/plain": [
       "'Modes=[]\\nfor i in range(len(g1)):\\n    if (g1.loc[i,\\'AANTRIT\\']==2) & (g1.loc[i,\\'multimodal\\']==1) & (\"Car as driver\" in g1.loc[i,\"KRVM_y\"]):\\n        Modes.append(1)\\nprint(len(Modes))'"
      ]
     },
     "execution_count": 162,
     "metadata": {},
     "output_type": "execute_result"
    }
   ],
   "source": [
    "'''Modes=[]\n",
    "for i in range(len(g1)):\n",
    "    if (g1.loc[i,'AANTRIT']==2) & (g1.loc[i,'multimodal']==1) & (\"Car as driver\" in g1.loc[i,\"KRVM_y\"]):\n",
    "        Modes.append(1)\n",
    "print(len(Modes))'''"
   ]
  },
  {
   "cell_type": "code",
   "execution_count": 163,
   "metadata": {},
   "outputs": [],
   "source": [
    "g1['KRVM_F'] = g1['multimodal']*g1['KRVM_y']"
   ]
  },
  {
   "cell_type": "code",
   "execution_count": 164,
   "metadata": {},
   "outputs": [],
   "source": [
    "g1['KRVM_x'].replace([10**0, 10**2 , 10**4 , 10**6 , 10**8 , 10**10 , 10**12 , 10**14],['Car as driver' , 'Car as passenger' , 'Train' , 'Bus/tram/metro' , 'Scooter/moped' , 'Bicycle' , 'Walking' , 'Other'],inplace=True)\n",
    "new = pd.get_dummies(g1['KRVM_x'],prefix = 'Mode_')\n",
    "g1 = g1.join(new)"
   ]
  },
  {
   "cell_type": "code",
   "execution_count": 165,
   "metadata": {},
   "outputs": [],
   "source": [
    "\n",
    "\n",
    "H = g1.drop(['AANTRIT', 'multimodal','KRVM_x','KRVM_F','KRVM_y'],axis=1).groupby(\"VPLID\").sum()\n",
    "H1 = g1.merge(H,how='inner',on='VPLID')\n",
    "H1.drop(['Mode__Bicycle_x',\t'Mode__Bus/tram/metro_x',\t'Mode__Car as driver_x',\t'Mode__Car as passenger_x',\t'Mode__Other_x' , 'Mode__Scooter/moped_x'\t,'Mode__Train_x'],axis=1,inplace=True)"
   ]
  },
  {
   "cell_type": "code",
   "execution_count": 177,
   "metadata": {},
   "outputs": [],
   "source": [
    "H1.to_csv('F:/more work/the netherlands/4 wave/wave8/nnnnnn.csv',index=False)"
   ]
  },
  {
   "cell_type": "code",
   "execution_count": 167,
   "metadata": {},
   "outputs": [],
   "source": [
    "M = H1[H1['multimodal']==1]\n",
    "#M = M[M[\"AANTRIT\"]>1]"
   ]
  },
  {
   "cell_type": "code",
   "execution_count": 168,
   "metadata": {},
   "outputs": [
    {
     "data": {
      "text/plain": [
       "10000010000        16.174583\n",
       "10001010000        11.861361\n",
       "1010000             9.396662\n",
       "20000010000         8.164313\n",
       "10001000000         6.418485\n",
       "                     ...    \n",
       "200000000000001     0.077022\n",
       "200000000010000     0.077022\n",
       "1000002             0.077022\n",
       "100000000010001     0.077022\n",
       "100000100           0.051348\n",
       "Name: KRVM_F, Length: 99, dtype: float64"
      ]
     },
     "execution_count": 168,
     "metadata": {},
     "output_type": "execute_result"
    }
   ],
   "source": [
    "All_Modeds = M[\"KRVM_F\"].value_counts(normalize=True)*100\n",
    "All_Modeds"
   ]
  },
  {
   "cell_type": "code",
   "execution_count": 169,
   "metadata": {},
   "outputs": [],
   "source": [
    "All_Modeds.head(10)\n",
    "#All_modes = pd.DataFrame({\"Modes\":All_Modeds.head(10).index.to_list(),\"Value_counts\":All_Modeds.head(10).values.tolist()})\n",
    "All_modes = pd.DataFrame({\"Modes\":All_Modeds.index.to_list(),\"Value_counts\":All_Modeds.values.tolist()})"
   ]
  },
  {
   "cell_type": "code",
   "execution_count": 170,
   "metadata": {},
   "outputs": [],
   "source": [
    "# convert the number of Modes\n",
    "def Convert(number):\n",
    "    diMode = { 0:'Car as driver' , 1:'Car as passenger' , 2:'Train' , 3:'Bus/tram/metro' , 4:'Scooter/moped' , 5:'Bicycle' , 6:'Walking' , 7:'Other'}\n",
    "    X = []\n",
    "    for i in range(8):\n",
    "        n = number//10**(i*2)\n",
    "        if n > 0:\n",
    "            Baghimande = n%10**2\n",
    "            if Baghimande > 0:\n",
    "                X .append(str(Baghimande) +\" \"+ diMode[i])\n",
    "    R = ' '.join(X)\n",
    "    return R"
   ]
  },
  {
   "cell_type": "code",
   "execution_count": 171,
   "metadata": {},
   "outputs": [
    {
     "data": {
      "text/plain": [
       "'1.0 Car as driver 1.0 Train 3.0 Walking'"
      ]
     },
     "execution_count": 171,
     "metadata": {},
     "output_type": "execute_result"
    }
   ],
   "source": [
    "Convert(3000000010001.0)"
   ]
  },
  {
   "cell_type": "code",
   "execution_count": 172,
   "metadata": {},
   "outputs": [],
   "source": [
    "All_modes[\"Uncoded_Modes\"]=0"
   ]
  },
  {
   "cell_type": "code",
   "execution_count": 173,
   "metadata": {},
   "outputs": [
    {
     "name": "stderr",
     "output_type": "stream",
     "text": [
      "C:\\Users\\Reza\\AppData\\Local\\Temp\\ipykernel_5836\\1699719614.py:2: SettingWithCopyWarning: \n",
      "A value is trying to be set on a copy of a slice from a DataFrame\n",
      "\n",
      "See the caveats in the documentation: https://pandas.pydata.org/pandas-docs/stable/user_guide/indexing.html#returning-a-view-versus-a-copy\n",
      "  All_modes[\"Uncoded_Modes\"][i] = Convert(All_modes[\"Modes\"][i])\n"
     ]
    },
    {
     "data": {
      "text/html": [
       "<div>\n",
       "<style scoped>\n",
       "    .dataframe tbody tr th:only-of-type {\n",
       "        vertical-align: middle;\n",
       "    }\n",
       "\n",
       "    .dataframe tbody tr th {\n",
       "        vertical-align: top;\n",
       "    }\n",
       "\n",
       "    .dataframe thead th {\n",
       "        text-align: right;\n",
       "    }\n",
       "</style>\n",
       "<table border=\"1\" class=\"dataframe\">\n",
       "  <thead>\n",
       "    <tr style=\"text-align: right;\">\n",
       "      <th></th>\n",
       "      <th>Modes</th>\n",
       "      <th>Value_counts</th>\n",
       "      <th>Uncoded_Modes</th>\n",
       "    </tr>\n",
       "  </thead>\n",
       "  <tbody>\n",
       "    <tr>\n",
       "      <th>0</th>\n",
       "      <td>10000010000</td>\n",
       "      <td>16.174583</td>\n",
       "      <td>1 Train 1 Bicycle</td>\n",
       "    </tr>\n",
       "    <tr>\n",
       "      <th>1</th>\n",
       "      <td>10001010000</td>\n",
       "      <td>11.861361</td>\n",
       "      <td>1 Train 1 Bus/tram/metro 1 Bicycle</td>\n",
       "    </tr>\n",
       "    <tr>\n",
       "      <th>2</th>\n",
       "      <td>1010000</td>\n",
       "      <td>9.396662</td>\n",
       "      <td>1 Train 1 Bus/tram/metro</td>\n",
       "    </tr>\n",
       "    <tr>\n",
       "      <th>3</th>\n",
       "      <td>20000010000</td>\n",
       "      <td>8.164313</td>\n",
       "      <td>1 Train 2 Bicycle</td>\n",
       "    </tr>\n",
       "    <tr>\n",
       "      <th>4</th>\n",
       "      <td>10001000000</td>\n",
       "      <td>6.418485</td>\n",
       "      <td>1 Bus/tram/metro 1 Bicycle</td>\n",
       "    </tr>\n",
       "    <tr>\n",
       "      <th>...</th>\n",
       "      <td>...</td>\n",
       "      <td>...</td>\n",
       "      <td>...</td>\n",
       "    </tr>\n",
       "    <tr>\n",
       "      <th>94</th>\n",
       "      <td>200000000000001</td>\n",
       "      <td>0.077022</td>\n",
       "      <td>1 Car as driver 2 Other</td>\n",
       "    </tr>\n",
       "    <tr>\n",
       "      <th>95</th>\n",
       "      <td>200000000010000</td>\n",
       "      <td>0.077022</td>\n",
       "      <td>1 Train 2 Other</td>\n",
       "    </tr>\n",
       "    <tr>\n",
       "      <th>96</th>\n",
       "      <td>1000002</td>\n",
       "      <td>0.077022</td>\n",
       "      <td>2 Car as driver 1 Bus/tram/metro</td>\n",
       "    </tr>\n",
       "    <tr>\n",
       "      <th>97</th>\n",
       "      <td>100000000010001</td>\n",
       "      <td>0.077022</td>\n",
       "      <td>1 Car as driver 1 Train 1 Other</td>\n",
       "    </tr>\n",
       "    <tr>\n",
       "      <th>98</th>\n",
       "      <td>100000100</td>\n",
       "      <td>0.051348</td>\n",
       "      <td>1 Car as passenger 1 Scooter/moped</td>\n",
       "    </tr>\n",
       "  </tbody>\n",
       "</table>\n",
       "<p>99 rows × 3 columns</p>\n",
       "</div>"
      ],
      "text/plain": [
       "              Modes  Value_counts                       Uncoded_Modes\n",
       "0       10000010000     16.174583                   1 Train 1 Bicycle\n",
       "1       10001010000     11.861361  1 Train 1 Bus/tram/metro 1 Bicycle\n",
       "2           1010000      9.396662            1 Train 1 Bus/tram/metro\n",
       "3       20000010000      8.164313                   1 Train 2 Bicycle\n",
       "4       10001000000      6.418485          1 Bus/tram/metro 1 Bicycle\n",
       "..              ...           ...                                 ...\n",
       "94  200000000000001      0.077022             1 Car as driver 2 Other\n",
       "95  200000000010000      0.077022                     1 Train 2 Other\n",
       "96          1000002      0.077022    2 Car as driver 1 Bus/tram/metro\n",
       "97  100000000010001      0.077022     1 Car as driver 1 Train 1 Other\n",
       "98        100000100      0.051348  1 Car as passenger 1 Scooter/moped\n",
       "\n",
       "[99 rows x 3 columns]"
      ]
     },
     "execution_count": 173,
     "metadata": {},
     "output_type": "execute_result"
    }
   ],
   "source": [
    "for i in range(len(All_modes)):\n",
    "    All_modes[\"Uncoded_Modes\"][i] = Convert(All_modes[\"Modes\"][i])\n",
    "All_modes"
   ]
  },
  {
   "cell_type": "code",
   "execution_count": 174,
   "metadata": {},
   "outputs": [],
   "source": [
    "All_modes.to_csv('F:/more work/the netherlands/4 wave/wave8/Wave5_all_combinations_&_modes.csv',index=False)"
   ]
  },
  {
   "cell_type": "code",
   "execution_count": 182,
   "metadata": {},
   "outputs": [
    {
     "data": {
      "text/plain": [
       "1    39409\n",
       "2     2904\n",
       "3     1728\n",
       "4      316\n",
       "5       75\n",
       "6       30\n",
       "9       27\n",
       "7       14\n",
       "8        8\n",
       "Name: AANTRIT, dtype: int64"
      ]
     },
     "execution_count": 182,
     "metadata": {},
     "output_type": "execute_result"
    }
   ],
   "source": [
    "H1[\"AANTRIT\"].value_counts(dropna=False)"
   ]
  }
 ],
 "metadata": {
  "kernelspec": {
   "display_name": "Python 3.10.8 64-bit",
   "language": "python",
   "name": "python3"
  },
  "language_info": {
   "codemirror_mode": {
    "name": "ipython",
    "version": 3
   },
   "file_extension": ".py",
   "mimetype": "text/x-python",
   "name": "python",
   "nbconvert_exporter": "python",
   "pygments_lexer": "ipython3",
   "version": "3.10.9"
  },
  "orig_nbformat": 4,
  "vscode": {
   "interpreter": {
    "hash": "2b324498af64d22b4773901be112d66dec816013b7f64fed368c8550f7daba2d"
   }
  }
 },
 "nbformat": 4,
 "nbformat_minor": 2
}
