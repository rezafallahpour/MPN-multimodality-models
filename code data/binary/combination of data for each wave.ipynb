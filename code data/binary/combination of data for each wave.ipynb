{
 "cells": [
  {
   "cell_type": "code",
   "execution_count": 145,
   "metadata": {},
   "outputs": [],
   "source": [
    "import pandas as pd\n",
    "import numpy as np\n"
   ]
  },
  {
   "cell_type": "code",
   "execution_count": 146,
   "metadata": {},
   "outputs": [],
   "source": [
    "# timetravel data for 6th wave should use seperate in read csv\n",
    "traveltime_data = pd.read_csv(\"F:/more work/the netherlands/tt data/W8_Google_Output.csv\",low_memory=False)"
   ]
  },
  {
   "cell_type": "code",
   "execution_count": 147,
   "metadata": {},
   "outputs": [],
   "source": [
    "# the blow code should only use for before 8th waves\n",
    "#traveltime_data['VPLID'] = traveltime_data['DiaryID']\n",
    "traveltime_data = traveltime_data.sort_values(by='VPLID')"
   ]
  },
  {
   "cell_type": "code",
   "execution_count": 148,
   "metadata": {},
   "outputs": [],
   "source": [
    "# AUTOdata data and seperated from the main data\n",
    "AUTOdata = pd.read_csv('F:/more work/the netherlands/4 wave/wave8/MPNWAVE8_AUTOdata.csv',low_memory=False)\n",
    "colunmAUTOdata = ['HHID','HHAUTO_N']\n",
    "AUTOdataF = pd.DataFrame()\n",
    "AUTOdataF [colunmAUTOdata] = AUTOdata[colunmAUTOdata]\n",
    "AUTOdataF = AUTOdataF.sort_values(by='HHID')\n"
   ]
  },
  {
   "cell_type": "code",
   "execution_count": 149,
   "metadata": {},
   "outputs": [],
   "source": [
    "# Pdata data and seperated from the main data\n",
    "Pdata = pd.read_csv('F:/more work/the netherlands/4 wave/wave8/MPNWAVE8_Pdata_en.csv',low_memory=False)\n",
    "colunmPdata = ['PERSID','P_VALID','GESLACHT', 'OPLEIDING', 'WERKZAAM', 'VVM_WERK_w5', 'RIJBEWIJS', 'PAUTO', 'PBROM', 'PFIETS', 'PEBIKE', 'TYPE_OVKAART3','TYPE_OVKAART5','KLEEFT2' ]\n",
    "PdataF = pd.DataFrame()\n",
    "PdataF [colunmPdata] = Pdata[colunmPdata]\n",
    "PdataF = PdataF.sort_values(by='PERSID')\n"
   ]
  },
  {
   "cell_type": "code",
   "execution_count": 150,
   "metadata": {},
   "outputs": [],
   "source": [
    "# HHdata data and seperated from the main data\n",
    "HHdata = pd.read_csv('F:/more work/the netherlands/4 wave/wave8/MPNWAVE8_HHdata.csv',low_memory=False)\n",
    "colunmHHdata = ['HHID' , 'HHPARK1','HHPARK2' , 'HHPARK3' , 'HHPARK4']\n",
    "HHdataF = pd.DataFrame()\n",
    "HHdataF [colunmHHdata] = HHdata[colunmHHdata]\n",
    "HHdataF = HHdataF.sort_values(by='HHID')\n"
   ]
  },
  {
   "cell_type": "code",
   "execution_count": 151,
   "metadata": {},
   "outputs": [],
   "source": [
    "# DAGBOEKdata data and seperated from the main data and should check the variables blow this sentence.\n",
    "#'P_VALID','MARKERING_VVM','MARKERING_REISTIJD1'\t,'MARKERING_REISTIJD2','MARKERING_AFSTAND','MARKERING_OVERIG'\n",
    "DAGBOEKdata = pd.read_csv('F:/more work/the netherlands/4 wave/wave8/MPNWAVE8_DAGBOEKdatanew.csv', low_memory=False)\n",
    "colunmDAGBOEKdata = ['HHID','NID','PERSID','P_VALID','MARKERING_VVM','MARKERING_REISTIJD1','MARKERING_REISTIJD2','MARKERING_AFSTAND','MARKERING_OVERIG','JAAR'\t,'VPLID'\t,'VERPLNR'\t,'TOER'\t,'TOER_TYPE'\t,'AANTRIT'\t,'DOEL' ,\t'KMOTIEF','KHVM','KRVM','DAGSOORT','AFSTV','AFSTV_ORG',\t'G_AFSTAND'\t,'KAFSTV', 'REISDUUR',\t'KREISDUUR' ]\n",
    "DAGBOEKdataF = pd.DataFrame()\n",
    "DAGBOEKdataF [colunmDAGBOEKdata] = DAGBOEKdata[colunmDAGBOEKdata]\n",
    "DAGBOEKdataF = DAGBOEKdataF[DAGBOEKdataF['AANTRIT'] != 'On this day the person did not take a trip']\n",
    "DAGBOEKdataF = DAGBOEKdataF.dropna(subset=['VPLID'])\n",
    "DAGBOEKdataF['VPLID'] = pd.to_numeric(DAGBOEKdataF['VPLID'], errors='coerce')\n",
    "DAGBOEKdataF = DAGBOEKdataF.sort_values(by='VPLID')\n"
   ]
  },
  {
   "cell_type": "code",
   "execution_count": 152,
   "metadata": {},
   "outputs": [],
   "source": [
    "# multimodality and choices data\n",
    "Multimodality = pd.read_csv('F:/more work/the netherlands/4 wave/wave8/newchoices.csv', low_memory=False)\n",
    "Multimodality = Multimodality.sort_values(by='VPLID')\n"
   ]
  },
  {
   "cell_type": "code",
   "execution_count": 153,
   "metadata": {},
   "outputs": [],
   "source": [
    "DAGBOEKdataF = DAGBOEKdataF.sort_values(\"VPLID\")\n",
    "Multimodality = Multimodality.sort_values(\"VPLID\")"
   ]
  },
  {
   "cell_type": "code",
   "execution_count": 154,
   "metadata": {},
   "outputs": [],
   "source": [
    "# now we should combine all the datas\n",
    "HHMerged = pd.merge(AUTOdataF, HHdataF, how=\"inner\", on='HHID')\n",
    "Multianddiary = pd.merge(DAGBOEKdataF, Multimodality, how=\"inner\", on='NID')\n",
    "Multianddiary = Multianddiary.drop(\"VPLID_y\",axis=1)\n",
    "Multianddiary.rename(columns={\"VPLID_x\":\"VPLID\"},inplace=True)"
   ]
  },
  {
   "cell_type": "code",
   "execution_count": 155,
   "metadata": {},
   "outputs": [],
   "source": [
    "# now we should combine all the datas\n",
    "MultianddiaryAndTt = pd.merge(Multianddiary, traveltime_data, how=\"inner\", on='VPLID')\n",
    "MultianddiaryAndTtAndP = pd.merge(MultianddiaryAndTt, PdataF, how=\"inner\", on='PERSID')\n",
    "MultianddiaryAndTtAndPAndHHMerged = pd.merge(MultianddiaryAndTtAndP, HHMerged, how=\"inner\", on='HHID')\n",
    "\n"
   ]
  },
  {
   "cell_type": "code",
   "execution_count": 156,
   "metadata": {},
   "outputs": [
    {
     "data": {
      "text/plain": [
       "0    26235\n",
       "1      970\n",
       "Name: multimodal, dtype: int64"
      ]
     },
     "execution_count": 156,
     "metadata": {},
     "output_type": "execute_result"
    }
   ],
   "source": [
    "Multimodality[\"multimodal\"].value_counts(dropna=False)"
   ]
  },
  {
   "cell_type": "code",
   "execution_count": 157,
   "metadata": {},
   "outputs": [
    {
     "data": {
      "text/plain": [
       "0    24695\n",
       "1      948\n",
       "Name: multimodal, dtype: int64"
      ]
     },
     "execution_count": 157,
     "metadata": {},
     "output_type": "execute_result"
    }
   ],
   "source": [
    "MultianddiaryAndTtAndPAndHHMerged[\"multimodal\"].value_counts(dropna=False)"
   ]
  },
  {
   "cell_type": "code",
   "execution_count": 158,
   "metadata": {},
   "outputs": [],
   "source": [
    "MultianddiaryAndTtAndPAndHHMerged.to_csv('F:/more work/the netherlands/4 wave/wave8/MultianddiaryAndTtAndPAndHHMerged.csv')"
   ]
  }
 ],
 "metadata": {
  "kernelspec": {
   "display_name": "Python 3",
   "language": "python",
   "name": "python3"
  },
  "language_info": {
   "codemirror_mode": {
    "name": "ipython",
    "version": 3
   },
   "file_extension": ".py",
   "mimetype": "text/x-python",
   "name": "python",
   "nbconvert_exporter": "python",
   "pygments_lexer": "ipython3",
   "version": "3.10.9"
  }
 },
 "nbformat": 4,
 "nbformat_minor": 2
}
